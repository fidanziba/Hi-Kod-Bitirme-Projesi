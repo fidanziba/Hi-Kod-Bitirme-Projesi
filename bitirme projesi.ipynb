{
  "cells": [
    {
      "cell_type": "code",
      "execution_count": 1,
      "metadata": {
        "id": "gCxz2fjz96Lb"
      },
      "outputs": [],
      "source": [
        "import numpy as np\n",
        "import pandas as pd\n",
        "import seaborn as sns\n",
        "import matplotlib.pyplot as plt\n",
        "import plotly.express as px\n",
        "\n"
      ]
    },
    {
      "cell_type": "code",
      "execution_count": 2,
      "metadata": {
        "id": "KvRBDcYbCrgh"
      },
      "outputs": [],
      "source": [
        "data=pd.read_csv(\"Social Media and Mental Health..csv\")"
      ]
    },
    {
      "cell_type": "code",
      "execution_count": 3,
      "metadata": {
        "colab": {
          "base_uri": "https://localhost:8080/",
          "height": 1000
        },
        "id": "bp8dZJrSGEah",
        "outputId": "e33fcc17-3f2d-45ad-9c2b-ae085bbc5471"
      },
      "outputs": [
        {
          "data": {
            "text/html": [
              "<div>\n",
              "<style scoped>\n",
              "    .dataframe tbody tr th:only-of-type {\n",
              "        vertical-align: middle;\n",
              "    }\n",
              "\n",
              "    .dataframe tbody tr th {\n",
              "        vertical-align: top;\n",
              "    }\n",
              "\n",
              "    .dataframe thead th {\n",
              "        text-align: right;\n",
              "    }\n",
              "</style>\n",
              "<table border=\"1\" class=\"dataframe\">\n",
              "  <thead>\n",
              "    <tr style=\"text-align: right;\">\n",
              "      <th></th>\n",
              "      <th>Timestamp</th>\n",
              "      <th>1. What is your age?</th>\n",
              "      <th>2. Gender</th>\n",
              "      <th>3. Relationship Status</th>\n",
              "      <th>4. Occupation Status</th>\n",
              "      <th>5. What type of organizations are you affiliated with?</th>\n",
              "      <th>6. Do you use social media?</th>\n",
              "      <th>7. What social media platforms do you commonly use?</th>\n",
              "      <th>8. What is the average time you spend on social media every day?</th>\n",
              "      <th>9. How often do you find yourself using Social media without a specific purpose?</th>\n",
              "      <th>...</th>\n",
              "      <th>11. Do you feel restless if you haven't used Social media in a while?</th>\n",
              "      <th>12. On a scale of 1 to 5, how easily distracted are you?</th>\n",
              "      <th>13. On a scale of 1 to 5, how much are you bothered by worries?</th>\n",
              "      <th>14. Do you find it difficult to concentrate on things?</th>\n",
              "      <th>15. On a scale of 1-5, how often do you compare yourself to other successful people through the use of social media?</th>\n",
              "      <th>16. Following the previous question, how do you feel about these comparisons, generally speaking?</th>\n",
              "      <th>17. How often do you look to seek validation from features of social media?</th>\n",
              "      <th>18. How often do you feel depressed or down?</th>\n",
              "      <th>19. On a scale of 1 to 5, how frequently does your interest in daily activities fluctuate?</th>\n",
              "      <th>20. On a scale of 1 to 5, how often do you face issues regarding sleep?</th>\n",
              "    </tr>\n",
              "  </thead>\n",
              "  <tbody>\n",
              "    <tr>\n",
              "      <th>0</th>\n",
              "      <td>4/18/2022 19:18:47</td>\n",
              "      <td>21.0</td>\n",
              "      <td>Male</td>\n",
              "      <td>In a relationship</td>\n",
              "      <td>University Student</td>\n",
              "      <td>University</td>\n",
              "      <td>Yes</td>\n",
              "      <td>Facebook, Twitter, Instagram, YouTube, Discord...</td>\n",
              "      <td>Between 2 and 3 hours</td>\n",
              "      <td>5</td>\n",
              "      <td>...</td>\n",
              "      <td>2</td>\n",
              "      <td>5</td>\n",
              "      <td>2</td>\n",
              "      <td>5</td>\n",
              "      <td>2</td>\n",
              "      <td>3</td>\n",
              "      <td>2</td>\n",
              "      <td>5</td>\n",
              "      <td>4</td>\n",
              "      <td>5</td>\n",
              "    </tr>\n",
              "    <tr>\n",
              "      <th>1</th>\n",
              "      <td>4/18/2022 19:19:28</td>\n",
              "      <td>21.0</td>\n",
              "      <td>Female</td>\n",
              "      <td>Single</td>\n",
              "      <td>University Student</td>\n",
              "      <td>University</td>\n",
              "      <td>Yes</td>\n",
              "      <td>Facebook, Twitter, Instagram, YouTube, Discord...</td>\n",
              "      <td>More than 5 hours</td>\n",
              "      <td>4</td>\n",
              "      <td>...</td>\n",
              "      <td>2</td>\n",
              "      <td>4</td>\n",
              "      <td>5</td>\n",
              "      <td>4</td>\n",
              "      <td>5</td>\n",
              "      <td>1</td>\n",
              "      <td>1</td>\n",
              "      <td>5</td>\n",
              "      <td>4</td>\n",
              "      <td>5</td>\n",
              "    </tr>\n",
              "    <tr>\n",
              "      <th>2</th>\n",
              "      <td>4/18/2022 19:25:59</td>\n",
              "      <td>21.0</td>\n",
              "      <td>Female</td>\n",
              "      <td>Single</td>\n",
              "      <td>University Student</td>\n",
              "      <td>University</td>\n",
              "      <td>Yes</td>\n",
              "      <td>Facebook, Instagram, YouTube, Pinterest</td>\n",
              "      <td>Between 3 and 4 hours</td>\n",
              "      <td>3</td>\n",
              "      <td>...</td>\n",
              "      <td>1</td>\n",
              "      <td>2</td>\n",
              "      <td>5</td>\n",
              "      <td>4</td>\n",
              "      <td>3</td>\n",
              "      <td>3</td>\n",
              "      <td>1</td>\n",
              "      <td>4</td>\n",
              "      <td>2</td>\n",
              "      <td>5</td>\n",
              "    </tr>\n",
              "    <tr>\n",
              "      <th>3</th>\n",
              "      <td>4/18/2022 19:29:43</td>\n",
              "      <td>21.0</td>\n",
              "      <td>Female</td>\n",
              "      <td>Single</td>\n",
              "      <td>University Student</td>\n",
              "      <td>University</td>\n",
              "      <td>Yes</td>\n",
              "      <td>Facebook, Instagram</td>\n",
              "      <td>More than 5 hours</td>\n",
              "      <td>4</td>\n",
              "      <td>...</td>\n",
              "      <td>1</td>\n",
              "      <td>3</td>\n",
              "      <td>5</td>\n",
              "      <td>3</td>\n",
              "      <td>5</td>\n",
              "      <td>1</td>\n",
              "      <td>2</td>\n",
              "      <td>4</td>\n",
              "      <td>3</td>\n",
              "      <td>2</td>\n",
              "    </tr>\n",
              "    <tr>\n",
              "      <th>4</th>\n",
              "      <td>4/18/2022 19:33:31</td>\n",
              "      <td>21.0</td>\n",
              "      <td>Female</td>\n",
              "      <td>Single</td>\n",
              "      <td>University Student</td>\n",
              "      <td>University</td>\n",
              "      <td>Yes</td>\n",
              "      <td>Facebook, Instagram, YouTube</td>\n",
              "      <td>Between 2 and 3 hours</td>\n",
              "      <td>3</td>\n",
              "      <td>...</td>\n",
              "      <td>4</td>\n",
              "      <td>4</td>\n",
              "      <td>5</td>\n",
              "      <td>5</td>\n",
              "      <td>3</td>\n",
              "      <td>3</td>\n",
              "      <td>3</td>\n",
              "      <td>4</td>\n",
              "      <td>4</td>\n",
              "      <td>1</td>\n",
              "    </tr>\n",
              "    <tr>\n",
              "      <th>...</th>\n",
              "      <td>...</td>\n",
              "      <td>...</td>\n",
              "      <td>...</td>\n",
              "      <td>...</td>\n",
              "      <td>...</td>\n",
              "      <td>...</td>\n",
              "      <td>...</td>\n",
              "      <td>...</td>\n",
              "      <td>...</td>\n",
              "      <td>...</td>\n",
              "      <td>...</td>\n",
              "      <td>...</td>\n",
              "      <td>...</td>\n",
              "      <td>...</td>\n",
              "      <td>...</td>\n",
              "      <td>...</td>\n",
              "      <td>...</td>\n",
              "      <td>...</td>\n",
              "      <td>...</td>\n",
              "      <td>...</td>\n",
              "      <td>...</td>\n",
              "    </tr>\n",
              "    <tr>\n",
              "      <th>476</th>\n",
              "      <td>5/21/2022 23:38:28</td>\n",
              "      <td>24.0</td>\n",
              "      <td>Male</td>\n",
              "      <td>Single</td>\n",
              "      <td>Salaried Worker</td>\n",
              "      <td>University, Private</td>\n",
              "      <td>Yes</td>\n",
              "      <td>Facebook, Instagram, YouTube</td>\n",
              "      <td>Between 2 and 3 hours</td>\n",
              "      <td>3</td>\n",
              "      <td>...</td>\n",
              "      <td>3</td>\n",
              "      <td>4</td>\n",
              "      <td>3</td>\n",
              "      <td>4</td>\n",
              "      <td>4</td>\n",
              "      <td>2</td>\n",
              "      <td>4</td>\n",
              "      <td>3</td>\n",
              "      <td>4</td>\n",
              "      <td>4</td>\n",
              "    </tr>\n",
              "    <tr>\n",
              "      <th>477</th>\n",
              "      <td>5/22/2022 0:01:05</td>\n",
              "      <td>26.0</td>\n",
              "      <td>Female</td>\n",
              "      <td>Married</td>\n",
              "      <td>Salaried Worker</td>\n",
              "      <td>University</td>\n",
              "      <td>Yes</td>\n",
              "      <td>Facebook, YouTube</td>\n",
              "      <td>Between 1 and 2 hours</td>\n",
              "      <td>2</td>\n",
              "      <td>...</td>\n",
              "      <td>2</td>\n",
              "      <td>3</td>\n",
              "      <td>4</td>\n",
              "      <td>4</td>\n",
              "      <td>4</td>\n",
              "      <td>2</td>\n",
              "      <td>4</td>\n",
              "      <td>4</td>\n",
              "      <td>4</td>\n",
              "      <td>1</td>\n",
              "    </tr>\n",
              "    <tr>\n",
              "      <th>478</th>\n",
              "      <td>5/22/2022 10:29:21</td>\n",
              "      <td>29.0</td>\n",
              "      <td>Female</td>\n",
              "      <td>Married</td>\n",
              "      <td>Salaried Worker</td>\n",
              "      <td>University</td>\n",
              "      <td>Yes</td>\n",
              "      <td>Facebook, YouTube</td>\n",
              "      <td>Between 2 and 3 hours</td>\n",
              "      <td>3</td>\n",
              "      <td>...</td>\n",
              "      <td>4</td>\n",
              "      <td>3</td>\n",
              "      <td>2</td>\n",
              "      <td>3</td>\n",
              "      <td>3</td>\n",
              "      <td>3</td>\n",
              "      <td>4</td>\n",
              "      <td>2</td>\n",
              "      <td>2</td>\n",
              "      <td>2</td>\n",
              "    </tr>\n",
              "    <tr>\n",
              "      <th>479</th>\n",
              "      <td>7/14/2022 19:33:47</td>\n",
              "      <td>21.0</td>\n",
              "      <td>Male</td>\n",
              "      <td>Single</td>\n",
              "      <td>University Student</td>\n",
              "      <td>University</td>\n",
              "      <td>Yes</td>\n",
              "      <td>Facebook, Twitter, Instagram, YouTube, Discord...</td>\n",
              "      <td>Between 2 and 3 hours</td>\n",
              "      <td>2</td>\n",
              "      <td>...</td>\n",
              "      <td>2</td>\n",
              "      <td>3</td>\n",
              "      <td>3</td>\n",
              "      <td>2</td>\n",
              "      <td>2</td>\n",
              "      <td>3</td>\n",
              "      <td>4</td>\n",
              "      <td>4</td>\n",
              "      <td>5</td>\n",
              "      <td>4</td>\n",
              "    </tr>\n",
              "    <tr>\n",
              "      <th>480</th>\n",
              "      <td>11/12/2022 13:16:50</td>\n",
              "      <td>53.0</td>\n",
              "      <td>Male</td>\n",
              "      <td>Married</td>\n",
              "      <td>Salaried Worker</td>\n",
              "      <td>Private</td>\n",
              "      <td>Yes</td>\n",
              "      <td>Facebook, YouTube</td>\n",
              "      <td>Less than an Hour</td>\n",
              "      <td>2</td>\n",
              "      <td>...</td>\n",
              "      <td>1</td>\n",
              "      <td>3</td>\n",
              "      <td>1</td>\n",
              "      <td>1</td>\n",
              "      <td>3</td>\n",
              "      <td>3</td>\n",
              "      <td>2</td>\n",
              "      <td>2</td>\n",
              "      <td>2</td>\n",
              "      <td>3</td>\n",
              "    </tr>\n",
              "  </tbody>\n",
              "</table>\n",
              "<p>481 rows × 21 columns</p>\n",
              "</div>"
            ],
            "text/plain": [
              "               Timestamp  1. What is your age? 2. Gender  \\\n",
              "0     4/18/2022 19:18:47                  21.0      Male   \n",
              "1     4/18/2022 19:19:28                  21.0    Female   \n",
              "2     4/18/2022 19:25:59                  21.0    Female   \n",
              "3     4/18/2022 19:29:43                  21.0    Female   \n",
              "4     4/18/2022 19:33:31                  21.0    Female   \n",
              "..                   ...                   ...       ...   \n",
              "476   5/21/2022 23:38:28                  24.0      Male   \n",
              "477    5/22/2022 0:01:05                  26.0    Female   \n",
              "478   5/22/2022 10:29:21                  29.0    Female   \n",
              "479   7/14/2022 19:33:47                  21.0      Male   \n",
              "480  11/12/2022 13:16:50                  53.0      Male   \n",
              "\n",
              "    3. Relationship Status 4. Occupation Status  \\\n",
              "0        In a relationship   University Student   \n",
              "1                   Single   University Student   \n",
              "2                   Single   University Student   \n",
              "3                   Single   University Student   \n",
              "4                   Single   University Student   \n",
              "..                     ...                  ...   \n",
              "476                 Single      Salaried Worker   \n",
              "477                Married      Salaried Worker   \n",
              "478                Married      Salaried Worker   \n",
              "479                 Single   University Student   \n",
              "480                Married      Salaried Worker   \n",
              "\n",
              "    5. What type of organizations are you affiliated with?  \\\n",
              "0                                           University       \n",
              "1                                           University       \n",
              "2                                           University       \n",
              "3                                           University       \n",
              "4                                           University       \n",
              "..                                                 ...       \n",
              "476                                University, Private       \n",
              "477                                         University       \n",
              "478                                         University       \n",
              "479                                         University       \n",
              "480                                            Private       \n",
              "\n",
              "    6. Do you use social media?  \\\n",
              "0                           Yes   \n",
              "1                           Yes   \n",
              "2                           Yes   \n",
              "3                           Yes   \n",
              "4                           Yes   \n",
              "..                          ...   \n",
              "476                         Yes   \n",
              "477                         Yes   \n",
              "478                         Yes   \n",
              "479                         Yes   \n",
              "480                         Yes   \n",
              "\n",
              "    7. What social media platforms do you commonly use?  \\\n",
              "0    Facebook, Twitter, Instagram, YouTube, Discord...    \n",
              "1    Facebook, Twitter, Instagram, YouTube, Discord...    \n",
              "2              Facebook, Instagram, YouTube, Pinterest    \n",
              "3                                  Facebook, Instagram    \n",
              "4                         Facebook, Instagram, YouTube    \n",
              "..                                                 ...    \n",
              "476                       Facebook, Instagram, YouTube    \n",
              "477                                  Facebook, YouTube    \n",
              "478                                  Facebook, YouTube    \n",
              "479  Facebook, Twitter, Instagram, YouTube, Discord...    \n",
              "480                                  Facebook, YouTube    \n",
              "\n",
              "    8. What is the average time you spend on social media every day?  \\\n",
              "0                                Between 2 and 3 hours                 \n",
              "1                                    More than 5 hours                 \n",
              "2                                Between 3 and 4 hours                 \n",
              "3                                    More than 5 hours                 \n",
              "4                                Between 2 and 3 hours                 \n",
              "..                                                 ...                 \n",
              "476                              Between 2 and 3 hours                 \n",
              "477                              Between 1 and 2 hours                 \n",
              "478                              Between 2 and 3 hours                 \n",
              "479                              Between 2 and 3 hours                 \n",
              "480                                  Less than an Hour                 \n",
              "\n",
              "     9. How often do you find yourself using Social media without a specific purpose?  \\\n",
              "0                                                    5                                  \n",
              "1                                                    4                                  \n",
              "2                                                    3                                  \n",
              "3                                                    4                                  \n",
              "4                                                    3                                  \n",
              "..                                                 ...                                  \n",
              "476                                                  3                                  \n",
              "477                                                  2                                  \n",
              "478                                                  3                                  \n",
              "479                                                  2                                  \n",
              "480                                                  2                                  \n",
              "\n",
              "     ...  \\\n",
              "0    ...   \n",
              "1    ...   \n",
              "2    ...   \n",
              "3    ...   \n",
              "4    ...   \n",
              "..   ...   \n",
              "476  ...   \n",
              "477  ...   \n",
              "478  ...   \n",
              "479  ...   \n",
              "480  ...   \n",
              "\n",
              "     11. Do you feel restless if you haven't used Social media in a while?  \\\n",
              "0                                                    2                       \n",
              "1                                                    2                       \n",
              "2                                                    1                       \n",
              "3                                                    1                       \n",
              "4                                                    4                       \n",
              "..                                                 ...                       \n",
              "476                                                  3                       \n",
              "477                                                  2                       \n",
              "478                                                  4                       \n",
              "479                                                  2                       \n",
              "480                                                  1                       \n",
              "\n",
              "     12. On a scale of 1 to 5, how easily distracted are you?  \\\n",
              "0                                                    5          \n",
              "1                                                    4          \n",
              "2                                                    2          \n",
              "3                                                    3          \n",
              "4                                                    4          \n",
              "..                                                 ...          \n",
              "476                                                  4          \n",
              "477                                                  3          \n",
              "478                                                  3          \n",
              "479                                                  3          \n",
              "480                                                  3          \n",
              "\n",
              "     13. On a scale of 1 to 5, how much are you bothered by worries?  \\\n",
              "0                                                    2                 \n",
              "1                                                    5                 \n",
              "2                                                    5                 \n",
              "3                                                    5                 \n",
              "4                                                    5                 \n",
              "..                                                 ...                 \n",
              "476                                                  3                 \n",
              "477                                                  4                 \n",
              "478                                                  2                 \n",
              "479                                                  3                 \n",
              "480                                                  1                 \n",
              "\n",
              "     14. Do you find it difficult to concentrate on things?  \\\n",
              "0                                                    5        \n",
              "1                                                    4        \n",
              "2                                                    4        \n",
              "3                                                    3        \n",
              "4                                                    5        \n",
              "..                                                 ...        \n",
              "476                                                  4        \n",
              "477                                                  4        \n",
              "478                                                  3        \n",
              "479                                                  2        \n",
              "480                                                  1        \n",
              "\n",
              "     15. On a scale of 1-5, how often do you compare yourself to other successful people through the use of social media?  \\\n",
              "0                                                    2                                                                      \n",
              "1                                                    5                                                                      \n",
              "2                                                    3                                                                      \n",
              "3                                                    5                                                                      \n",
              "4                                                    3                                                                      \n",
              "..                                                 ...                                                                      \n",
              "476                                                  4                                                                      \n",
              "477                                                  4                                                                      \n",
              "478                                                  3                                                                      \n",
              "479                                                  2                                                                      \n",
              "480                                                  3                                                                      \n",
              "\n",
              "     16. Following the previous question, how do you feel about these comparisons, generally speaking?  \\\n",
              "0                                                    3                                                   \n",
              "1                                                    1                                                   \n",
              "2                                                    3                                                   \n",
              "3                                                    1                                                   \n",
              "4                                                    3                                                   \n",
              "..                                                 ...                                                   \n",
              "476                                                  2                                                   \n",
              "477                                                  2                                                   \n",
              "478                                                  3                                                   \n",
              "479                                                  3                                                   \n",
              "480                                                  3                                                   \n",
              "\n",
              "     17. How often do you look to seek validation from features of social media?  \\\n",
              "0                                                    2                             \n",
              "1                                                    1                             \n",
              "2                                                    1                             \n",
              "3                                                    2                             \n",
              "4                                                    3                             \n",
              "..                                                 ...                             \n",
              "476                                                  4                             \n",
              "477                                                  4                             \n",
              "478                                                  4                             \n",
              "479                                                  4                             \n",
              "480                                                  2                             \n",
              "\n",
              "     18. How often do you feel depressed or down?  \\\n",
              "0                                               5   \n",
              "1                                               5   \n",
              "2                                               4   \n",
              "3                                               4   \n",
              "4                                               4   \n",
              "..                                            ...   \n",
              "476                                             3   \n",
              "477                                             4   \n",
              "478                                             2   \n",
              "479                                             4   \n",
              "480                                             2   \n",
              "\n",
              "     19. On a scale of 1 to 5, how frequently does your interest in daily activities fluctuate?  \\\n",
              "0                                                    4                                            \n",
              "1                                                    4                                            \n",
              "2                                                    2                                            \n",
              "3                                                    3                                            \n",
              "4                                                    4                                            \n",
              "..                                                 ...                                            \n",
              "476                                                  4                                            \n",
              "477                                                  4                                            \n",
              "478                                                  2                                            \n",
              "479                                                  5                                            \n",
              "480                                                  2                                            \n",
              "\n",
              "     20. On a scale of 1 to 5, how often do you face issues regarding sleep?  \n",
              "0                                                    5                        \n",
              "1                                                    5                        \n",
              "2                                                    5                        \n",
              "3                                                    2                        \n",
              "4                                                    1                        \n",
              "..                                                 ...                        \n",
              "476                                                  4                        \n",
              "477                                                  1                        \n",
              "478                                                  2                        \n",
              "479                                                  4                        \n",
              "480                                                  3                        \n",
              "\n",
              "[481 rows x 21 columns]"
            ]
          },
          "execution_count": 3,
          "metadata": {},
          "output_type": "execute_result"
        }
      ],
      "source": [
        "data"
      ]
    },
    {
      "cell_type": "code",
      "execution_count": 4,
      "metadata": {
        "colab": {
          "base_uri": "https://localhost:8080/"
        },
        "id": "Kfcrr2LMC5-W",
        "outputId": "69b02672-bb3b-4edd-b0a8-c49ac7759778"
      },
      "outputs": [
        {
          "data": {
            "text/plain": [
              "Timestamp                                                                                                                object\n",
              "1. What is your age?                                                                                                    float64\n",
              "2. Gender                                                                                                                object\n",
              "3. Relationship Status                                                                                                   object\n",
              "4. Occupation Status                                                                                                     object\n",
              "5. What type of organizations are you affiliated with?                                                                   object\n",
              "6. Do you use social media?                                                                                              object\n",
              "7. What social media platforms do you commonly use?                                                                      object\n",
              "8. What is the average time you spend on social media every day?                                                         object\n",
              "9. How often do you find yourself using Social media without a specific purpose?                                          int64\n",
              "10. How often do you get distracted by Social media when you are busy doing something?                                    int64\n",
              "11. Do you feel restless if you haven't used Social media in a while?                                                     int64\n",
              "12. On a scale of 1 to 5, how easily distracted are you?                                                                  int64\n",
              "13. On a scale of 1 to 5, how much are you bothered by worries?                                                           int64\n",
              "14. Do you find it difficult to concentrate on things?                                                                    int64\n",
              "15. On a scale of 1-5, how often do you compare yourself to other successful people through the use of social media?      int64\n",
              "16. Following the previous question, how do you feel about these comparisons, generally speaking?                         int64\n",
              "17. How often do you look to seek validation from features of social media?                                               int64\n",
              "18. How often do you feel depressed or down?                                                                              int64\n",
              "19. On a scale of 1 to 5, how frequently does your interest in daily activities fluctuate?                                int64\n",
              "20. On a scale of 1 to 5, how often do you face issues regarding sleep?                                                   int64\n",
              "dtype: object"
            ]
          },
          "execution_count": 4,
          "metadata": {},
          "output_type": "execute_result"
        }
      ],
      "source": [
        "data.dtypes"
      ]
    },
    {
      "cell_type": "code",
      "execution_count": 5,
      "metadata": {
        "colab": {
          "base_uri": "https://localhost:8080/"
        },
        "id": "SjMDoOWYF6Ki",
        "outputId": "d920dcbf-a32a-4fa1-feae-4bd53984f34a"
      },
      "outputs": [
        {
          "data": {
            "text/plain": [
              "(481, 21)"
            ]
          },
          "execution_count": 5,
          "metadata": {},
          "output_type": "execute_result"
        }
      ],
      "source": [
        "data.shape"
      ]
    },
    {
      "cell_type": "code",
      "execution_count": 6,
      "metadata": {
        "colab": {
          "base_uri": "https://localhost:8080/"
        },
        "id": "AEA7xWErGSFB",
        "outputId": "5247b488-d8cf-4ba3-9d60-6861713f19b3"
      },
      "outputs": [
        {
          "data": {
            "text/plain": [
              "Index(['Timestamp', '1. What is your age?', '2. Gender',\n",
              "       '3. Relationship Status', '4. Occupation Status',\n",
              "       '5. What type of organizations are you affiliated with?',\n",
              "       '6. Do you use social media?',\n",
              "       '7. What social media platforms do you commonly use?',\n",
              "       '8. What is the average time you spend on social media every day?',\n",
              "       '9. How often do you find yourself using Social media without a specific purpose?',\n",
              "       '10. How often do you get distracted by Social media when you are busy doing something?',\n",
              "       '11. Do you feel restless if you haven't used Social media in a while?',\n",
              "       '12. On a scale of 1 to 5, how easily distracted are you?',\n",
              "       '13. On a scale of 1 to 5, how much are you bothered by worries?',\n",
              "       '14. Do you find it difficult to concentrate on things?',\n",
              "       '15. On a scale of 1-5, how often do you compare yourself to other successful people through the use of social media?',\n",
              "       '16. Following the previous question, how do you feel about these comparisons, generally speaking?',\n",
              "       '17. How often do you look to seek validation from features of social media?',\n",
              "       '18. How often do you feel depressed or down?',\n",
              "       '19. On a scale of 1 to 5, how frequently does your interest in daily activities fluctuate?',\n",
              "       '20. On a scale of 1 to 5, how often do you face issues regarding sleep?'],\n",
              "      dtype='object')"
            ]
          },
          "execution_count": 6,
          "metadata": {},
          "output_type": "execute_result"
        }
      ],
      "source": [
        "data.columns"
      ]
    },
    {
      "cell_type": "code",
      "execution_count": 7,
      "metadata": {
        "colab": {
          "base_uri": "https://localhost:8080/",
          "height": 526
        },
        "id": "FllulU7OGe9E",
        "outputId": "3bb35681-178c-48de-bde5-cd6ea9760306"
      },
      "outputs": [
        {
          "data": {
            "text/html": [
              "<div>\n",
              "<style scoped>\n",
              "    .dataframe tbody tr th:only-of-type {\n",
              "        vertical-align: middle;\n",
              "    }\n",
              "\n",
              "    .dataframe tbody tr th {\n",
              "        vertical-align: top;\n",
              "    }\n",
              "\n",
              "    .dataframe thead th {\n",
              "        text-align: right;\n",
              "    }\n",
              "</style>\n",
              "<table border=\"1\" class=\"dataframe\">\n",
              "  <thead>\n",
              "    <tr style=\"text-align: right;\">\n",
              "      <th></th>\n",
              "      <th>1. What is your age?</th>\n",
              "      <th>9. How often do you find yourself using Social media without a specific purpose?</th>\n",
              "      <th>10. How often do you get distracted by Social media when you are busy doing something?</th>\n",
              "      <th>11. Do you feel restless if you haven't used Social media in a while?</th>\n",
              "      <th>12. On a scale of 1 to 5, how easily distracted are you?</th>\n",
              "      <th>13. On a scale of 1 to 5, how much are you bothered by worries?</th>\n",
              "      <th>14. Do you find it difficult to concentrate on things?</th>\n",
              "      <th>15. On a scale of 1-5, how often do you compare yourself to other successful people through the use of social media?</th>\n",
              "      <th>16. Following the previous question, how do you feel about these comparisons, generally speaking?</th>\n",
              "      <th>17. How often do you look to seek validation from features of social media?</th>\n",
              "      <th>18. How often do you feel depressed or down?</th>\n",
              "      <th>19. On a scale of 1 to 5, how frequently does your interest in daily activities fluctuate?</th>\n",
              "      <th>20. On a scale of 1 to 5, how often do you face issues regarding sleep?</th>\n",
              "    </tr>\n",
              "  </thead>\n",
              "  <tbody>\n",
              "    <tr>\n",
              "      <th>count</th>\n",
              "      <td>481.00000</td>\n",
              "      <td>481.000000</td>\n",
              "      <td>481.000000</td>\n",
              "      <td>481.000000</td>\n",
              "      <td>481.000000</td>\n",
              "      <td>481.000000</td>\n",
              "      <td>481.000000</td>\n",
              "      <td>481.000000</td>\n",
              "      <td>481.000000</td>\n",
              "      <td>481.000000</td>\n",
              "      <td>481.000000</td>\n",
              "      <td>481.000000</td>\n",
              "      <td>481.000000</td>\n",
              "    </tr>\n",
              "    <tr>\n",
              "      <th>mean</th>\n",
              "      <td>26.13659</td>\n",
              "      <td>3.553015</td>\n",
              "      <td>3.320166</td>\n",
              "      <td>2.588358</td>\n",
              "      <td>3.349272</td>\n",
              "      <td>3.559252</td>\n",
              "      <td>3.245322</td>\n",
              "      <td>2.831601</td>\n",
              "      <td>2.775468</td>\n",
              "      <td>2.455301</td>\n",
              "      <td>3.255717</td>\n",
              "      <td>3.170478</td>\n",
              "      <td>3.201663</td>\n",
              "    </tr>\n",
              "    <tr>\n",
              "      <th>std</th>\n",
              "      <td>9.91511</td>\n",
              "      <td>1.096299</td>\n",
              "      <td>1.328137</td>\n",
              "      <td>1.257059</td>\n",
              "      <td>1.175552</td>\n",
              "      <td>1.283356</td>\n",
              "      <td>1.347105</td>\n",
              "      <td>1.407835</td>\n",
              "      <td>1.056479</td>\n",
              "      <td>1.247739</td>\n",
              "      <td>1.313033</td>\n",
              "      <td>1.256666</td>\n",
              "      <td>1.461619</td>\n",
              "    </tr>\n",
              "    <tr>\n",
              "      <th>min</th>\n",
              "      <td>13.00000</td>\n",
              "      <td>1.000000</td>\n",
              "      <td>1.000000</td>\n",
              "      <td>1.000000</td>\n",
              "      <td>1.000000</td>\n",
              "      <td>1.000000</td>\n",
              "      <td>1.000000</td>\n",
              "      <td>1.000000</td>\n",
              "      <td>1.000000</td>\n",
              "      <td>1.000000</td>\n",
              "      <td>1.000000</td>\n",
              "      <td>1.000000</td>\n",
              "      <td>1.000000</td>\n",
              "    </tr>\n",
              "    <tr>\n",
              "      <th>25%</th>\n",
              "      <td>21.00000</td>\n",
              "      <td>3.000000</td>\n",
              "      <td>2.000000</td>\n",
              "      <td>2.000000</td>\n",
              "      <td>3.000000</td>\n",
              "      <td>3.000000</td>\n",
              "      <td>2.000000</td>\n",
              "      <td>2.000000</td>\n",
              "      <td>2.000000</td>\n",
              "      <td>1.000000</td>\n",
              "      <td>2.000000</td>\n",
              "      <td>2.000000</td>\n",
              "      <td>2.000000</td>\n",
              "    </tr>\n",
              "    <tr>\n",
              "      <th>50%</th>\n",
              "      <td>22.00000</td>\n",
              "      <td>4.000000</td>\n",
              "      <td>3.000000</td>\n",
              "      <td>2.000000</td>\n",
              "      <td>3.000000</td>\n",
              "      <td>4.000000</td>\n",
              "      <td>3.000000</td>\n",
              "      <td>3.000000</td>\n",
              "      <td>3.000000</td>\n",
              "      <td>2.000000</td>\n",
              "      <td>3.000000</td>\n",
              "      <td>3.000000</td>\n",
              "      <td>3.000000</td>\n",
              "    </tr>\n",
              "    <tr>\n",
              "      <th>75%</th>\n",
              "      <td>26.00000</td>\n",
              "      <td>4.000000</td>\n",
              "      <td>4.000000</td>\n",
              "      <td>3.000000</td>\n",
              "      <td>4.000000</td>\n",
              "      <td>5.000000</td>\n",
              "      <td>4.000000</td>\n",
              "      <td>4.000000</td>\n",
              "      <td>3.000000</td>\n",
              "      <td>3.000000</td>\n",
              "      <td>4.000000</td>\n",
              "      <td>4.000000</td>\n",
              "      <td>5.000000</td>\n",
              "    </tr>\n",
              "    <tr>\n",
              "      <th>max</th>\n",
              "      <td>91.00000</td>\n",
              "      <td>5.000000</td>\n",
              "      <td>5.000000</td>\n",
              "      <td>5.000000</td>\n",
              "      <td>5.000000</td>\n",
              "      <td>5.000000</td>\n",
              "      <td>5.000000</td>\n",
              "      <td>5.000000</td>\n",
              "      <td>5.000000</td>\n",
              "      <td>5.000000</td>\n",
              "      <td>5.000000</td>\n",
              "      <td>5.000000</td>\n",
              "      <td>5.000000</td>\n",
              "    </tr>\n",
              "  </tbody>\n",
              "</table>\n",
              "</div>"
            ],
            "text/plain": [
              "       1. What is your age?  \\\n",
              "count             481.00000   \n",
              "mean               26.13659   \n",
              "std                 9.91511   \n",
              "min                13.00000   \n",
              "25%                21.00000   \n",
              "50%                22.00000   \n",
              "75%                26.00000   \n",
              "max                91.00000   \n",
              "\n",
              "       9. How often do you find yourself using Social media without a specific purpose?  \\\n",
              "count                                         481.000000                                  \n",
              "mean                                            3.553015                                  \n",
              "std                                             1.096299                                  \n",
              "min                                             1.000000                                  \n",
              "25%                                             3.000000                                  \n",
              "50%                                             4.000000                                  \n",
              "75%                                             4.000000                                  \n",
              "max                                             5.000000                                  \n",
              "\n",
              "       10. How often do you get distracted by Social media when you are busy doing something?  \\\n",
              "count                                         481.000000                                        \n",
              "mean                                            3.320166                                        \n",
              "std                                             1.328137                                        \n",
              "min                                             1.000000                                        \n",
              "25%                                             2.000000                                        \n",
              "50%                                             3.000000                                        \n",
              "75%                                             4.000000                                        \n",
              "max                                             5.000000                                        \n",
              "\n",
              "       11. Do you feel restless if you haven't used Social media in a while?  \\\n",
              "count                                         481.000000                       \n",
              "mean                                            2.588358                       \n",
              "std                                             1.257059                       \n",
              "min                                             1.000000                       \n",
              "25%                                             2.000000                       \n",
              "50%                                             2.000000                       \n",
              "75%                                             3.000000                       \n",
              "max                                             5.000000                       \n",
              "\n",
              "       12. On a scale of 1 to 5, how easily distracted are you?  \\\n",
              "count                                         481.000000          \n",
              "mean                                            3.349272          \n",
              "std                                             1.175552          \n",
              "min                                             1.000000          \n",
              "25%                                             3.000000          \n",
              "50%                                             3.000000          \n",
              "75%                                             4.000000          \n",
              "max                                             5.000000          \n",
              "\n",
              "       13. On a scale of 1 to 5, how much are you bothered by worries?  \\\n",
              "count                                         481.000000                 \n",
              "mean                                            3.559252                 \n",
              "std                                             1.283356                 \n",
              "min                                             1.000000                 \n",
              "25%                                             3.000000                 \n",
              "50%                                             4.000000                 \n",
              "75%                                             5.000000                 \n",
              "max                                             5.000000                 \n",
              "\n",
              "       14. Do you find it difficult to concentrate on things?  \\\n",
              "count                                         481.000000        \n",
              "mean                                            3.245322        \n",
              "std                                             1.347105        \n",
              "min                                             1.000000        \n",
              "25%                                             2.000000        \n",
              "50%                                             3.000000        \n",
              "75%                                             4.000000        \n",
              "max                                             5.000000        \n",
              "\n",
              "       15. On a scale of 1-5, how often do you compare yourself to other successful people through the use of social media?  \\\n",
              "count                                         481.000000                                                                      \n",
              "mean                                            2.831601                                                                      \n",
              "std                                             1.407835                                                                      \n",
              "min                                             1.000000                                                                      \n",
              "25%                                             2.000000                                                                      \n",
              "50%                                             3.000000                                                                      \n",
              "75%                                             4.000000                                                                      \n",
              "max                                             5.000000                                                                      \n",
              "\n",
              "       16. Following the previous question, how do you feel about these comparisons, generally speaking?  \\\n",
              "count                                         481.000000                                                   \n",
              "mean                                            2.775468                                                   \n",
              "std                                             1.056479                                                   \n",
              "min                                             1.000000                                                   \n",
              "25%                                             2.000000                                                   \n",
              "50%                                             3.000000                                                   \n",
              "75%                                             3.000000                                                   \n",
              "max                                             5.000000                                                   \n",
              "\n",
              "       17. How often do you look to seek validation from features of social media?  \\\n",
              "count                                         481.000000                             \n",
              "mean                                            2.455301                             \n",
              "std                                             1.247739                             \n",
              "min                                             1.000000                             \n",
              "25%                                             1.000000                             \n",
              "50%                                             2.000000                             \n",
              "75%                                             3.000000                             \n",
              "max                                             5.000000                             \n",
              "\n",
              "       18. How often do you feel depressed or down?  \\\n",
              "count                                    481.000000   \n",
              "mean                                       3.255717   \n",
              "std                                        1.313033   \n",
              "min                                        1.000000   \n",
              "25%                                        2.000000   \n",
              "50%                                        3.000000   \n",
              "75%                                        4.000000   \n",
              "max                                        5.000000   \n",
              "\n",
              "       19. On a scale of 1 to 5, how frequently does your interest in daily activities fluctuate?  \\\n",
              "count                                         481.000000                                            \n",
              "mean                                            3.170478                                            \n",
              "std                                             1.256666                                            \n",
              "min                                             1.000000                                            \n",
              "25%                                             2.000000                                            \n",
              "50%                                             3.000000                                            \n",
              "75%                                             4.000000                                            \n",
              "max                                             5.000000                                            \n",
              "\n",
              "       20. On a scale of 1 to 5, how often do you face issues regarding sleep?  \n",
              "count                                         481.000000                        \n",
              "mean                                            3.201663                        \n",
              "std                                             1.461619                        \n",
              "min                                             1.000000                        \n",
              "25%                                             2.000000                        \n",
              "50%                                             3.000000                        \n",
              "75%                                             5.000000                        \n",
              "max                                             5.000000                        "
            ]
          },
          "execution_count": 7,
          "metadata": {},
          "output_type": "execute_result"
        }
      ],
      "source": [
        "data.describe()"
      ]
    },
    {
      "cell_type": "code",
      "execution_count": 8,
      "metadata": {
        "colab": {
          "base_uri": "https://localhost:8080/"
        },
        "id": "aRx_E4aZKagw",
        "outputId": "f3207588-7a48-4a0c-885f-10f35b46f690"
      },
      "outputs": [
        {
          "data": {
            "text/plain": [
              "Timestamp                                                                                                                0\n",
              "1. What is your age?                                                                                                     0\n",
              "2. Gender                                                                                                                0\n",
              "3. Relationship Status                                                                                                   0\n",
              "4. Occupation Status                                                                                                     0\n",
              "5. What type of organizations are you affiliated with?                                                                  30\n",
              "6. Do you use social media?                                                                                              0\n",
              "7. What social media platforms do you commonly use?                                                                      0\n",
              "8. What is the average time you spend on social media every day?                                                         0\n",
              "9. How often do you find yourself using Social media without a specific purpose?                                         0\n",
              "10. How often do you get distracted by Social media when you are busy doing something?                                   0\n",
              "11. Do you feel restless if you haven't used Social media in a while?                                                    0\n",
              "12. On a scale of 1 to 5, how easily distracted are you?                                                                 0\n",
              "13. On a scale of 1 to 5, how much are you bothered by worries?                                                          0\n",
              "14. Do you find it difficult to concentrate on things?                                                                   0\n",
              "15. On a scale of 1-5, how often do you compare yourself to other successful people through the use of social media?     0\n",
              "16. Following the previous question, how do you feel about these comparisons, generally speaking?                        0\n",
              "17. How often do you look to seek validation from features of social media?                                              0\n",
              "18. How often do you feel depressed or down?                                                                             0\n",
              "19. On a scale of 1 to 5, how frequently does your interest in daily activities fluctuate?                               0\n",
              "20. On a scale of 1 to 5, how often do you face issues regarding sleep?                                                  0\n",
              "dtype: int64"
            ]
          },
          "execution_count": 8,
          "metadata": {},
          "output_type": "execute_result"
        }
      ],
      "source": [
        "data.isnull().sum()"
      ]
    },
    {
      "cell_type": "code",
      "execution_count": 9,
      "metadata": {
        "id": "Xfwp90voLgUp"
      },
      "outputs": [],
      "source": [
        "data.dropna(inplace= True)\n"
      ]
    },
    {
      "cell_type": "code",
      "execution_count": 10,
      "metadata": {},
      "outputs": [
        {
          "data": {
            "text/plain": [
              "(451, 21)"
            ]
          },
          "execution_count": 10,
          "metadata": {},
          "output_type": "execute_result"
        }
      ],
      "source": [
        "data.shape"
      ]
    },
    {
      "cell_type": "code",
      "execution_count": 11,
      "metadata": {},
      "outputs": [
        {
          "data": {
            "text/plain": [
              "Timestamp                                                                                                               0\n",
              "1. What is your age?                                                                                                    0\n",
              "2. Gender                                                                                                               0\n",
              "3. Relationship Status                                                                                                  0\n",
              "4. Occupation Status                                                                                                    0\n",
              "5. What type of organizations are you affiliated with?                                                                  0\n",
              "6. Do you use social media?                                                                                             0\n",
              "7. What social media platforms do you commonly use?                                                                     0\n",
              "8. What is the average time you spend on social media every day?                                                        0\n",
              "9. How often do you find yourself using Social media without a specific purpose?                                        0\n",
              "10. How often do you get distracted by Social media when you are busy doing something?                                  0\n",
              "11. Do you feel restless if you haven't used Social media in a while?                                                   0\n",
              "12. On a scale of 1 to 5, how easily distracted are you?                                                                0\n",
              "13. On a scale of 1 to 5, how much are you bothered by worries?                                                         0\n",
              "14. Do you find it difficult to concentrate on things?                                                                  0\n",
              "15. On a scale of 1-5, how often do you compare yourself to other successful people through the use of social media?    0\n",
              "16. Following the previous question, how do you feel about these comparisons, generally speaking?                       0\n",
              "17. How often do you look to seek validation from features of social media?                                             0\n",
              "18. How often do you feel depressed or down?                                                                            0\n",
              "19. On a scale of 1 to 5, how frequently does your interest in daily activities fluctuate?                              0\n",
              "20. On a scale of 1 to 5, how often do you face issues regarding sleep?                                                 0\n",
              "dtype: int64"
            ]
          },
          "execution_count": 11,
          "metadata": {},
          "output_type": "execute_result"
        }
      ],
      "source": [
        "data.isna().sum()"
      ]
    },
    {
      "cell_type": "code",
      "execution_count": 13,
      "metadata": {},
      "outputs": [
        {
          "data": {
            "text/plain": [
              "array(['In a relationship', 'Single', 'Married', 'Divorced'], dtype=object)"
            ]
          },
          "execution_count": 13,
          "metadata": {},
          "output_type": "execute_result"
        }
      ],
      "source": [
        "data['3. Relationship Status'].unique()"
      ]
    },
    {
      "cell_type": "code",
      "execution_count": 14,
      "metadata": {},
      "outputs": [
        {
          "data": {
            "text/html": [
              "<div>\n",
              "<style scoped>\n",
              "    .dataframe tbody tr th:only-of-type {\n",
              "        vertical-align: middle;\n",
              "    }\n",
              "\n",
              "    .dataframe tbody tr th {\n",
              "        vertical-align: top;\n",
              "    }\n",
              "\n",
              "    .dataframe thead th {\n",
              "        text-align: right;\n",
              "    }\n",
              "</style>\n",
              "<table border=\"1\" class=\"dataframe\">\n",
              "  <thead>\n",
              "    <tr style=\"text-align: right;\">\n",
              "      <th></th>\n",
              "      <th>Timestamp</th>\n",
              "      <th>1. What is your age?</th>\n",
              "      <th>2. Gender</th>\n",
              "      <th>3. Relationship Status</th>\n",
              "      <th>4. Occupation Status</th>\n",
              "      <th>5. What type of organizations are you affiliated with?</th>\n",
              "      <th>6. Do you use social media?</th>\n",
              "      <th>7. What social media platforms do you commonly use?</th>\n",
              "      <th>8. What is the average time you spend on social media every day?</th>\n",
              "      <th>9. How often do you find yourself using Social media without a specific purpose?</th>\n",
              "      <th>...</th>\n",
              "      <th>11. Do you feel restless if you haven't used Social media in a while?</th>\n",
              "      <th>12. On a scale of 1 to 5, how easily distracted are you?</th>\n",
              "      <th>13. On a scale of 1 to 5, how much are you bothered by worries?</th>\n",
              "      <th>14. Do you find it difficult to concentrate on things?</th>\n",
              "      <th>15. On a scale of 1-5, how often do you compare yourself to other successful people through the use of social media?</th>\n",
              "      <th>16. Following the previous question, how do you feel about these comparisons, generally speaking?</th>\n",
              "      <th>17. How often do you look to seek validation from features of social media?</th>\n",
              "      <th>18. How often do you feel depressed or down?</th>\n",
              "      <th>19. On a scale of 1 to 5, how frequently does your interest in daily activities fluctuate?</th>\n",
              "      <th>20. On a scale of 1 to 5, how often do you face issues regarding sleep?</th>\n",
              "    </tr>\n",
              "  </thead>\n",
              "  <tbody>\n",
              "    <tr>\n",
              "      <th>1</th>\n",
              "      <td>4/18/2022 19:19:28</td>\n",
              "      <td>21.0</td>\n",
              "      <td>Female</td>\n",
              "      <td>Single</td>\n",
              "      <td>University Student</td>\n",
              "      <td>University</td>\n",
              "      <td>Yes</td>\n",
              "      <td>Facebook, Twitter, Instagram, YouTube, Discord...</td>\n",
              "      <td>More than 5 hours</td>\n",
              "      <td>4</td>\n",
              "      <td>...</td>\n",
              "      <td>2</td>\n",
              "      <td>4</td>\n",
              "      <td>5</td>\n",
              "      <td>4</td>\n",
              "      <td>5</td>\n",
              "      <td>1</td>\n",
              "      <td>1</td>\n",
              "      <td>5</td>\n",
              "      <td>4</td>\n",
              "      <td>5</td>\n",
              "    </tr>\n",
              "    <tr>\n",
              "      <th>2</th>\n",
              "      <td>4/18/2022 19:25:59</td>\n",
              "      <td>21.0</td>\n",
              "      <td>Female</td>\n",
              "      <td>Single</td>\n",
              "      <td>University Student</td>\n",
              "      <td>University</td>\n",
              "      <td>Yes</td>\n",
              "      <td>Facebook, Instagram, YouTube, Pinterest</td>\n",
              "      <td>Between 3 and 4 hours</td>\n",
              "      <td>3</td>\n",
              "      <td>...</td>\n",
              "      <td>1</td>\n",
              "      <td>2</td>\n",
              "      <td>5</td>\n",
              "      <td>4</td>\n",
              "      <td>3</td>\n",
              "      <td>3</td>\n",
              "      <td>1</td>\n",
              "      <td>4</td>\n",
              "      <td>2</td>\n",
              "      <td>5</td>\n",
              "    </tr>\n",
              "    <tr>\n",
              "      <th>3</th>\n",
              "      <td>4/18/2022 19:29:43</td>\n",
              "      <td>21.0</td>\n",
              "      <td>Female</td>\n",
              "      <td>Single</td>\n",
              "      <td>University Student</td>\n",
              "      <td>University</td>\n",
              "      <td>Yes</td>\n",
              "      <td>Facebook, Instagram</td>\n",
              "      <td>More than 5 hours</td>\n",
              "      <td>4</td>\n",
              "      <td>...</td>\n",
              "      <td>1</td>\n",
              "      <td>3</td>\n",
              "      <td>5</td>\n",
              "      <td>3</td>\n",
              "      <td>5</td>\n",
              "      <td>1</td>\n",
              "      <td>2</td>\n",
              "      <td>4</td>\n",
              "      <td>3</td>\n",
              "      <td>2</td>\n",
              "    </tr>\n",
              "    <tr>\n",
              "      <th>4</th>\n",
              "      <td>4/18/2022 19:33:31</td>\n",
              "      <td>21.0</td>\n",
              "      <td>Female</td>\n",
              "      <td>Single</td>\n",
              "      <td>University Student</td>\n",
              "      <td>University</td>\n",
              "      <td>Yes</td>\n",
              "      <td>Facebook, Instagram, YouTube</td>\n",
              "      <td>Between 2 and 3 hours</td>\n",
              "      <td>3</td>\n",
              "      <td>...</td>\n",
              "      <td>4</td>\n",
              "      <td>4</td>\n",
              "      <td>5</td>\n",
              "      <td>5</td>\n",
              "      <td>3</td>\n",
              "      <td>3</td>\n",
              "      <td>3</td>\n",
              "      <td>4</td>\n",
              "      <td>4</td>\n",
              "      <td>1</td>\n",
              "    </tr>\n",
              "    <tr>\n",
              "      <th>5</th>\n",
              "      <td>4/18/2022 19:33:48</td>\n",
              "      <td>22.0</td>\n",
              "      <td>Female</td>\n",
              "      <td>Single</td>\n",
              "      <td>University Student</td>\n",
              "      <td>University</td>\n",
              "      <td>Yes</td>\n",
              "      <td>Facebook, Twitter, Instagram, YouTube, Discord...</td>\n",
              "      <td>Between 2 and 3 hours</td>\n",
              "      <td>4</td>\n",
              "      <td>...</td>\n",
              "      <td>2</td>\n",
              "      <td>3</td>\n",
              "      <td>4</td>\n",
              "      <td>3</td>\n",
              "      <td>4</td>\n",
              "      <td>4</td>\n",
              "      <td>3</td>\n",
              "      <td>3</td>\n",
              "      <td>2</td>\n",
              "      <td>4</td>\n",
              "    </tr>\n",
              "    <tr>\n",
              "      <th>...</th>\n",
              "      <td>...</td>\n",
              "      <td>...</td>\n",
              "      <td>...</td>\n",
              "      <td>...</td>\n",
              "      <td>...</td>\n",
              "      <td>...</td>\n",
              "      <td>...</td>\n",
              "      <td>...</td>\n",
              "      <td>...</td>\n",
              "      <td>...</td>\n",
              "      <td>...</td>\n",
              "      <td>...</td>\n",
              "      <td>...</td>\n",
              "      <td>...</td>\n",
              "      <td>...</td>\n",
              "      <td>...</td>\n",
              "      <td>...</td>\n",
              "      <td>...</td>\n",
              "      <td>...</td>\n",
              "      <td>...</td>\n",
              "      <td>...</td>\n",
              "    </tr>\n",
              "    <tr>\n",
              "      <th>469</th>\n",
              "      <td>5/14/2022 17:33:57</td>\n",
              "      <td>15.0</td>\n",
              "      <td>Male</td>\n",
              "      <td>Single</td>\n",
              "      <td>School Student</td>\n",
              "      <td>School</td>\n",
              "      <td>Yes</td>\n",
              "      <td>Instagram, YouTube, Discord, Reddit</td>\n",
              "      <td>Between 4 and 5 hours</td>\n",
              "      <td>1</td>\n",
              "      <td>...</td>\n",
              "      <td>1</td>\n",
              "      <td>3</td>\n",
              "      <td>3</td>\n",
              "      <td>3</td>\n",
              "      <td>3</td>\n",
              "      <td>3</td>\n",
              "      <td>3</td>\n",
              "      <td>1</td>\n",
              "      <td>1</td>\n",
              "      <td>1</td>\n",
              "    </tr>\n",
              "    <tr>\n",
              "      <th>470</th>\n",
              "      <td>5/15/2022 2:48:02</td>\n",
              "      <td>20.0</td>\n",
              "      <td>Female</td>\n",
              "      <td>Single</td>\n",
              "      <td>University Student</td>\n",
              "      <td>Company</td>\n",
              "      <td>Yes</td>\n",
              "      <td>Instagram, YouTube, Snapchat, Discord, Reddit,...</td>\n",
              "      <td>Between 1 and 2 hours</td>\n",
              "      <td>2</td>\n",
              "      <td>...</td>\n",
              "      <td>1</td>\n",
              "      <td>3</td>\n",
              "      <td>5</td>\n",
              "      <td>3</td>\n",
              "      <td>5</td>\n",
              "      <td>1</td>\n",
              "      <td>2</td>\n",
              "      <td>5</td>\n",
              "      <td>4</td>\n",
              "      <td>5</td>\n",
              "    </tr>\n",
              "    <tr>\n",
              "      <th>471</th>\n",
              "      <td>5/16/2022 20:20:31</td>\n",
              "      <td>20.0</td>\n",
              "      <td>Female</td>\n",
              "      <td>Single</td>\n",
              "      <td>University Student</td>\n",
              "      <td>University</td>\n",
              "      <td>Yes</td>\n",
              "      <td>Facebook, Instagram, YouTube</td>\n",
              "      <td>More than 5 hours</td>\n",
              "      <td>5</td>\n",
              "      <td>...</td>\n",
              "      <td>2</td>\n",
              "      <td>4</td>\n",
              "      <td>5</td>\n",
              "      <td>3</td>\n",
              "      <td>1</td>\n",
              "      <td>3</td>\n",
              "      <td>2</td>\n",
              "      <td>4</td>\n",
              "      <td>3</td>\n",
              "      <td>4</td>\n",
              "    </tr>\n",
              "    <tr>\n",
              "      <th>476</th>\n",
              "      <td>5/21/2022 23:38:28</td>\n",
              "      <td>24.0</td>\n",
              "      <td>Male</td>\n",
              "      <td>Single</td>\n",
              "      <td>Salaried Worker</td>\n",
              "      <td>University, Private</td>\n",
              "      <td>Yes</td>\n",
              "      <td>Facebook, Instagram, YouTube</td>\n",
              "      <td>Between 2 and 3 hours</td>\n",
              "      <td>3</td>\n",
              "      <td>...</td>\n",
              "      <td>3</td>\n",
              "      <td>4</td>\n",
              "      <td>3</td>\n",
              "      <td>4</td>\n",
              "      <td>4</td>\n",
              "      <td>2</td>\n",
              "      <td>4</td>\n",
              "      <td>3</td>\n",
              "      <td>4</td>\n",
              "      <td>4</td>\n",
              "    </tr>\n",
              "    <tr>\n",
              "      <th>479</th>\n",
              "      <td>7/14/2022 19:33:47</td>\n",
              "      <td>21.0</td>\n",
              "      <td>Male</td>\n",
              "      <td>Single</td>\n",
              "      <td>University Student</td>\n",
              "      <td>University</td>\n",
              "      <td>Yes</td>\n",
              "      <td>Facebook, Twitter, Instagram, YouTube, Discord...</td>\n",
              "      <td>Between 2 and 3 hours</td>\n",
              "      <td>2</td>\n",
              "      <td>...</td>\n",
              "      <td>2</td>\n",
              "      <td>3</td>\n",
              "      <td>3</td>\n",
              "      <td>2</td>\n",
              "      <td>2</td>\n",
              "      <td>3</td>\n",
              "      <td>4</td>\n",
              "      <td>4</td>\n",
              "      <td>5</td>\n",
              "      <td>4</td>\n",
              "    </tr>\n",
              "  </tbody>\n",
              "</table>\n",
              "<p>265 rows × 21 columns</p>\n",
              "</div>"
            ],
            "text/plain": [
              "              Timestamp  1. What is your age? 2. Gender  \\\n",
              "1    4/18/2022 19:19:28                  21.0    Female   \n",
              "2    4/18/2022 19:25:59                  21.0    Female   \n",
              "3    4/18/2022 19:29:43                  21.0    Female   \n",
              "4    4/18/2022 19:33:31                  21.0    Female   \n",
              "5    4/18/2022 19:33:48                  22.0    Female   \n",
              "..                  ...                   ...       ...   \n",
              "469  5/14/2022 17:33:57                  15.0      Male   \n",
              "470   5/15/2022 2:48:02                  20.0    Female   \n",
              "471  5/16/2022 20:20:31                  20.0    Female   \n",
              "476  5/21/2022 23:38:28                  24.0      Male   \n",
              "479  7/14/2022 19:33:47                  21.0      Male   \n",
              "\n",
              "    3. Relationship Status 4. Occupation Status  \\\n",
              "1                   Single   University Student   \n",
              "2                   Single   University Student   \n",
              "3                   Single   University Student   \n",
              "4                   Single   University Student   \n",
              "5                   Single   University Student   \n",
              "..                     ...                  ...   \n",
              "469                 Single       School Student   \n",
              "470                 Single   University Student   \n",
              "471                 Single   University Student   \n",
              "476                 Single      Salaried Worker   \n",
              "479                 Single   University Student   \n",
              "\n",
              "    5. What type of organizations are you affiliated with?  \\\n",
              "1                                           University       \n",
              "2                                           University       \n",
              "3                                           University       \n",
              "4                                           University       \n",
              "5                                           University       \n",
              "..                                                 ...       \n",
              "469                                             School       \n",
              "470                                            Company       \n",
              "471                                         University       \n",
              "476                                University, Private       \n",
              "479                                         University       \n",
              "\n",
              "    6. Do you use social media?  \\\n",
              "1                           Yes   \n",
              "2                           Yes   \n",
              "3                           Yes   \n",
              "4                           Yes   \n",
              "5                           Yes   \n",
              "..                          ...   \n",
              "469                         Yes   \n",
              "470                         Yes   \n",
              "471                         Yes   \n",
              "476                         Yes   \n",
              "479                         Yes   \n",
              "\n",
              "    7. What social media platforms do you commonly use?  \\\n",
              "1    Facebook, Twitter, Instagram, YouTube, Discord...    \n",
              "2              Facebook, Instagram, YouTube, Pinterest    \n",
              "3                                  Facebook, Instagram    \n",
              "4                         Facebook, Instagram, YouTube    \n",
              "5    Facebook, Twitter, Instagram, YouTube, Discord...    \n",
              "..                                                 ...    \n",
              "469                Instagram, YouTube, Discord, Reddit    \n",
              "470  Instagram, YouTube, Snapchat, Discord, Reddit,...    \n",
              "471                       Facebook, Instagram, YouTube    \n",
              "476                       Facebook, Instagram, YouTube    \n",
              "479  Facebook, Twitter, Instagram, YouTube, Discord...    \n",
              "\n",
              "    8. What is the average time you spend on social media every day?  \\\n",
              "1                                    More than 5 hours                 \n",
              "2                                Between 3 and 4 hours                 \n",
              "3                                    More than 5 hours                 \n",
              "4                                Between 2 and 3 hours                 \n",
              "5                                Between 2 and 3 hours                 \n",
              "..                                                 ...                 \n",
              "469                              Between 4 and 5 hours                 \n",
              "470                              Between 1 and 2 hours                 \n",
              "471                                  More than 5 hours                 \n",
              "476                              Between 2 and 3 hours                 \n",
              "479                              Between 2 and 3 hours                 \n",
              "\n",
              "     9. How often do you find yourself using Social media without a specific purpose?  \\\n",
              "1                                                    4                                  \n",
              "2                                                    3                                  \n",
              "3                                                    4                                  \n",
              "4                                                    3                                  \n",
              "5                                                    4                                  \n",
              "..                                                 ...                                  \n",
              "469                                                  1                                  \n",
              "470                                                  2                                  \n",
              "471                                                  5                                  \n",
              "476                                                  3                                  \n",
              "479                                                  2                                  \n",
              "\n",
              "     ...  \\\n",
              "1    ...   \n",
              "2    ...   \n",
              "3    ...   \n",
              "4    ...   \n",
              "5    ...   \n",
              "..   ...   \n",
              "469  ...   \n",
              "470  ...   \n",
              "471  ...   \n",
              "476  ...   \n",
              "479  ...   \n",
              "\n",
              "     11. Do you feel restless if you haven't used Social media in a while?  \\\n",
              "1                                                    2                       \n",
              "2                                                    1                       \n",
              "3                                                    1                       \n",
              "4                                                    4                       \n",
              "5                                                    2                       \n",
              "..                                                 ...                       \n",
              "469                                                  1                       \n",
              "470                                                  1                       \n",
              "471                                                  2                       \n",
              "476                                                  3                       \n",
              "479                                                  2                       \n",
              "\n",
              "     12. On a scale of 1 to 5, how easily distracted are you?  \\\n",
              "1                                                    4          \n",
              "2                                                    2          \n",
              "3                                                    3          \n",
              "4                                                    4          \n",
              "5                                                    3          \n",
              "..                                                 ...          \n",
              "469                                                  3          \n",
              "470                                                  3          \n",
              "471                                                  4          \n",
              "476                                                  4          \n",
              "479                                                  3          \n",
              "\n",
              "     13. On a scale of 1 to 5, how much are you bothered by worries?  \\\n",
              "1                                                    5                 \n",
              "2                                                    5                 \n",
              "3                                                    5                 \n",
              "4                                                    5                 \n",
              "5                                                    4                 \n",
              "..                                                 ...                 \n",
              "469                                                  3                 \n",
              "470                                                  5                 \n",
              "471                                                  5                 \n",
              "476                                                  3                 \n",
              "479                                                  3                 \n",
              "\n",
              "     14. Do you find it difficult to concentrate on things?  \\\n",
              "1                                                    4        \n",
              "2                                                    4        \n",
              "3                                                    3        \n",
              "4                                                    5        \n",
              "5                                                    3        \n",
              "..                                                 ...        \n",
              "469                                                  3        \n",
              "470                                                  3        \n",
              "471                                                  3        \n",
              "476                                                  4        \n",
              "479                                                  2        \n",
              "\n",
              "     15. On a scale of 1-5, how often do you compare yourself to other successful people through the use of social media?  \\\n",
              "1                                                    5                                                                      \n",
              "2                                                    3                                                                      \n",
              "3                                                    5                                                                      \n",
              "4                                                    3                                                                      \n",
              "5                                                    4                                                                      \n",
              "..                                                 ...                                                                      \n",
              "469                                                  3                                                                      \n",
              "470                                                  5                                                                      \n",
              "471                                                  1                                                                      \n",
              "476                                                  4                                                                      \n",
              "479                                                  2                                                                      \n",
              "\n",
              "     16. Following the previous question, how do you feel about these comparisons, generally speaking?  \\\n",
              "1                                                    1                                                   \n",
              "2                                                    3                                                   \n",
              "3                                                    1                                                   \n",
              "4                                                    3                                                   \n",
              "5                                                    4                                                   \n",
              "..                                                 ...                                                   \n",
              "469                                                  3                                                   \n",
              "470                                                  1                                                   \n",
              "471                                                  3                                                   \n",
              "476                                                  2                                                   \n",
              "479                                                  3                                                   \n",
              "\n",
              "     17. How often do you look to seek validation from features of social media?  \\\n",
              "1                                                    1                             \n",
              "2                                                    1                             \n",
              "3                                                    2                             \n",
              "4                                                    3                             \n",
              "5                                                    3                             \n",
              "..                                                 ...                             \n",
              "469                                                  3                             \n",
              "470                                                  2                             \n",
              "471                                                  2                             \n",
              "476                                                  4                             \n",
              "479                                                  4                             \n",
              "\n",
              "     18. How often do you feel depressed or down?  \\\n",
              "1                                               5   \n",
              "2                                               4   \n",
              "3                                               4   \n",
              "4                                               4   \n",
              "5                                               3   \n",
              "..                                            ...   \n",
              "469                                             1   \n",
              "470                                             5   \n",
              "471                                             4   \n",
              "476                                             3   \n",
              "479                                             4   \n",
              "\n",
              "     19. On a scale of 1 to 5, how frequently does your interest in daily activities fluctuate?  \\\n",
              "1                                                    4                                            \n",
              "2                                                    2                                            \n",
              "3                                                    3                                            \n",
              "4                                                    4                                            \n",
              "5                                                    2                                            \n",
              "..                                                 ...                                            \n",
              "469                                                  1                                            \n",
              "470                                                  4                                            \n",
              "471                                                  3                                            \n",
              "476                                                  4                                            \n",
              "479                                                  5                                            \n",
              "\n",
              "     20. On a scale of 1 to 5, how often do you face issues regarding sleep?  \n",
              "1                                                    5                        \n",
              "2                                                    5                        \n",
              "3                                                    2                        \n",
              "4                                                    1                        \n",
              "5                                                    4                        \n",
              "..                                                 ...                        \n",
              "469                                                  1                        \n",
              "470                                                  5                        \n",
              "471                                                  4                        \n",
              "476                                                  4                        \n",
              "479                                                  4                        \n",
              "\n",
              "[265 rows x 21 columns]"
            ]
          },
          "execution_count": 14,
          "metadata": {},
          "output_type": "execute_result"
        }
      ],
      "source": [
        "data[data['3. Relationship Status']==\"Single\"]"
      ]
    },
    {
      "cell_type": "code",
      "execution_count": 15,
      "metadata": {},
      "outputs": [
        {
          "data": {
            "text/html": [
              "<div>\n",
              "<style scoped>\n",
              "    .dataframe tbody tr th:only-of-type {\n",
              "        vertical-align: middle;\n",
              "    }\n",
              "\n",
              "    .dataframe tbody tr th {\n",
              "        vertical-align: top;\n",
              "    }\n",
              "\n",
              "    .dataframe thead th {\n",
              "        text-align: right;\n",
              "    }\n",
              "</style>\n",
              "<table border=\"1\" class=\"dataframe\">\n",
              "  <thead>\n",
              "    <tr style=\"text-align: right;\">\n",
              "      <th></th>\n",
              "      <th>Timestamp</th>\n",
              "    </tr>\n",
              "    <tr>\n",
              "      <th>2. Gender</th>\n",
              "      <th></th>\n",
              "    </tr>\n",
              "  </thead>\n",
              "  <tbody>\n",
              "    <tr>\n",
              "      <th>Female</th>\n",
              "      <td>245</td>\n",
              "    </tr>\n",
              "    <tr>\n",
              "      <th>Male</th>\n",
              "      <td>201</td>\n",
              "    </tr>\n",
              "    <tr>\n",
              "      <th>Non binary</th>\n",
              "      <td>1</td>\n",
              "    </tr>\n",
              "    <tr>\n",
              "      <th>Non-binary</th>\n",
              "      <td>1</td>\n",
              "    </tr>\n",
              "    <tr>\n",
              "      <th>Nonbinary</th>\n",
              "      <td>1</td>\n",
              "    </tr>\n",
              "    <tr>\n",
              "      <th>There are others???</th>\n",
              "      <td>1</td>\n",
              "    </tr>\n",
              "    <tr>\n",
              "      <th>unsure</th>\n",
              "      <td>1</td>\n",
              "    </tr>\n",
              "  </tbody>\n",
              "</table>\n",
              "</div>"
            ],
            "text/plain": [
              "                     Timestamp\n",
              "2. Gender                     \n",
              "Female                     245\n",
              "Male                       201\n",
              "Non binary                   1\n",
              "Non-binary                   1\n",
              "Nonbinary                    1\n",
              "There are others???          1\n",
              "unsure                       1"
            ]
          },
          "execution_count": 15,
          "metadata": {},
          "output_type": "execute_result"
        }
      ],
      "source": [
        "data.groupby('2. Gender')[['Timestamp']].count()"
      ]
    },
    {
      "cell_type": "code",
      "execution_count": 16,
      "metadata": {},
      "outputs": [
        {
          "data": {
            "text/html": [
              "<div>\n",
              "<style scoped>\n",
              "    .dataframe tbody tr th:only-of-type {\n",
              "        vertical-align: middle;\n",
              "    }\n",
              "\n",
              "    .dataframe tbody tr th {\n",
              "        vertical-align: top;\n",
              "    }\n",
              "\n",
              "    .dataframe thead th {\n",
              "        text-align: right;\n",
              "    }\n",
              "</style>\n",
              "<table border=\"1\" class=\"dataframe\">\n",
              "  <thead>\n",
              "    <tr style=\"text-align: right;\">\n",
              "      <th></th>\n",
              "      <th>Gender</th>\n",
              "      <th>Count</th>\n",
              "    </tr>\n",
              "  </thead>\n",
              "  <tbody>\n",
              "    <tr>\n",
              "      <th>0</th>\n",
              "      <td>Female</td>\n",
              "      <td>245</td>\n",
              "    </tr>\n",
              "    <tr>\n",
              "      <th>1</th>\n",
              "      <td>Male</td>\n",
              "      <td>201</td>\n",
              "    </tr>\n",
              "    <tr>\n",
              "      <th>2</th>\n",
              "      <td>Non binary</td>\n",
              "      <td>1</td>\n",
              "    </tr>\n",
              "    <tr>\n",
              "      <th>3</th>\n",
              "      <td>Non-binary</td>\n",
              "      <td>1</td>\n",
              "    </tr>\n",
              "    <tr>\n",
              "      <th>4</th>\n",
              "      <td>Nonbinary</td>\n",
              "      <td>1</td>\n",
              "    </tr>\n",
              "    <tr>\n",
              "      <th>5</th>\n",
              "      <td>There are others???</td>\n",
              "      <td>1</td>\n",
              "    </tr>\n",
              "    <tr>\n",
              "      <th>6</th>\n",
              "      <td>unsure</td>\n",
              "      <td>1</td>\n",
              "    </tr>\n",
              "  </tbody>\n",
              "</table>\n",
              "</div>"
            ],
            "text/plain": [
              "                Gender  Count\n",
              "0               Female    245\n",
              "1                 Male    201\n",
              "2          Non binary       1\n",
              "3           Non-binary      1\n",
              "4           Nonbinary       1\n",
              "5  There are others???      1\n",
              "6              unsure       1"
            ]
          },
          "execution_count": 16,
          "metadata": {},
          "output_type": "execute_result"
        }
      ],
      "source": [
        "data_gender =  data.groupby('2. Gender')[['Timestamp']].count().reset_index().rename(columns={'Timestamp':\"Count\"}).rename(columns={'2. Gender':\"Gender\"})\n",
        "data_gender\n",
        "# yeni degişken ataması"
      ]
    },
    {
      "cell_type": "code",
      "execution_count": 17,
      "metadata": {},
      "outputs": [
        {
          "data": {
            "text/plain": [
              "<AxesSubplot:xlabel='Gender', ylabel='Count'>"
            ]
          },
          "execution_count": 17,
          "metadata": {},
          "output_type": "execute_result"
        },
        {
          "data": {
            "image/png": "[encoded data removed]",
            "text/plain": [
              "<Figure size 1000x400 with 1 Axes>"
            ]
          },
          "metadata": {},
          "output_type": "display_data"
        }
      ],
      "source": [
        "plt.figure(figsize=(10,4))\n",
        "sns.barplot(data=data_gender,x ='Gender',y=\"Count\" )"
      ]
    },
    {
      "cell_type": "markdown",
      "metadata": {},
      "source": [
        "## -----------------------------------------------------------------------------------------------------"
      ]
    },
    {
      "cell_type": "code",
      "execution_count": 19,
      "metadata": {},
      "outputs": [
        {
          "data": {
            "text/html": [
              "<div>\n",
              "<style scoped>\n",
              "    .dataframe tbody tr th:only-of-type {\n",
              "        vertical-align: middle;\n",
              "    }\n",
              "\n",
              "    .dataframe tbody tr th {\n",
              "        vertical-align: top;\n",
              "    }\n",
              "\n",
              "    .dataframe thead th {\n",
              "        text-align: right;\n",
              "    }\n",
              "</style>\n",
              "<table border=\"1\" class=\"dataframe\">\n",
              "  <thead>\n",
              "    <tr style=\"text-align: right;\">\n",
              "      <th></th>\n",
              "      <th>Occupation Status</th>\n",
              "      <th>Do they use social media?</th>\n",
              "      <th>Count</th>\n",
              "    </tr>\n",
              "  </thead>\n",
              "  <tbody>\n",
              "    <tr>\n",
              "      <th>0</th>\n",
              "      <td>Retired</td>\n",
              "      <td>Yes</td>\n",
              "      <td>3</td>\n",
              "    </tr>\n",
              "    <tr>\n",
              "      <th>1</th>\n",
              "      <td>Salaried Worker</td>\n",
              "      <td>No</td>\n",
              "      <td>2</td>\n",
              "    </tr>\n",
              "    <tr>\n",
              "      <th>2</th>\n",
              "      <td>Salaried Worker</td>\n",
              "      <td>Yes</td>\n",
              "      <td>122</td>\n",
              "    </tr>\n",
              "    <tr>\n",
              "      <th>3</th>\n",
              "      <td>School Student</td>\n",
              "      <td>Yes</td>\n",
              "      <td>44</td>\n",
              "    </tr>\n",
              "    <tr>\n",
              "      <th>4</th>\n",
              "      <td>University Student</td>\n",
              "      <td>No</td>\n",
              "      <td>1</td>\n",
              "    </tr>\n",
              "    <tr>\n",
              "      <th>5</th>\n",
              "      <td>University Student</td>\n",
              "      <td>Yes</td>\n",
              "      <td>279</td>\n",
              "    </tr>\n",
              "  </tbody>\n",
              "</table>\n",
              "</div>"
            ],
            "text/plain": [
              "    Occupation Status Do they use social media?  Count\n",
              "0             Retired                       Yes      3\n",
              "1     Salaried Worker                        No      2\n",
              "2     Salaried Worker                       Yes    122\n",
              "3      School Student                       Yes     44\n",
              "4  University Student                        No      1\n",
              "5  University Student                       Yes    279"
            ]
          },
          "execution_count": 19,
          "metadata": {},
          "output_type": "execute_result"
        }
      ],
      "source": [
        "data_ocp =  data.groupby(['4. Occupation Status',\"6. Do you use social media?\"])[['Timestamp']].count().reset_index().rename(columns={'Timestamp':\"Count\"}).rename(columns={'6. Do you use social media?':\"Do they use social media?\"}).rename(columns={'4. Occupation Status':\"Occupation Status\"})\n",
        "data_ocp\n",
        "#Kadın,erkek,... cinsiyetlerinin meslek gruplarını belirler ve listeler."
      ]
    },
    {
      "cell_type": "code",
      "execution_count": 20,
      "metadata": {},
      "outputs": [
        {
          "data": {
            "text/plain": [
              "<AxesSubplot:xlabel='Occupation Status', ylabel='Count'>"
            ]
          },
          "execution_count": 20,
          "metadata": {},
          "output_type": "execute_result"
        },
        {
          "data": {
            "image/png": "[encoded data removed]",
            "text/plain": [
              "<Figure size 800x500 with 1 Axes>"
            ]
          },
          "metadata": {},
          "output_type": "display_data"
        }
      ],
      "source": [
        "plt.figure(figsize=(8,5))\n",
        "sns.barplot(data = data_ocp, x=\"Occupation Status\", y=\"Count\",hue=\"Do they use social media?\")"
      ]
    },
    {
      "cell_type": "markdown",
      "metadata": {},
      "source": [
        "## -----------------------------------------------------------------------------------------------------"
      ]
    },
    {
      "cell_type": "code",
      "execution_count": 21,
      "metadata": {},
      "outputs": [
        {
          "data": {
            "text/html": [
              "<div>\n",
              "<style scoped>\n",
              "    .dataframe tbody tr th:only-of-type {\n",
              "        vertical-align: middle;\n",
              "    }\n",
              "\n",
              "    .dataframe tbody tr th {\n",
              "        vertical-align: top;\n",
              "    }\n",
              "\n",
              "    .dataframe thead th {\n",
              "        text-align: right;\n",
              "    }\n",
              "</style>\n",
              "<table border=\"1\" class=\"dataframe\">\n",
              "  <thead>\n",
              "    <tr style=\"text-align: right;\">\n",
              "      <th></th>\n",
              "      <th>Gender</th>\n",
              "      <th>Do they use social media?</th>\n",
              "      <th>Yes/No</th>\n",
              "    </tr>\n",
              "  </thead>\n",
              "  <tbody>\n",
              "    <tr>\n",
              "      <th>0</th>\n",
              "      <td>Female</td>\n",
              "      <td>Yes</td>\n",
              "      <td>245</td>\n",
              "    </tr>\n",
              "    <tr>\n",
              "      <th>1</th>\n",
              "      <td>Male</td>\n",
              "      <td>No</td>\n",
              "      <td>3</td>\n",
              "    </tr>\n",
              "    <tr>\n",
              "      <th>2</th>\n",
              "      <td>Male</td>\n",
              "      <td>Yes</td>\n",
              "      <td>198</td>\n",
              "    </tr>\n",
              "    <tr>\n",
              "      <th>3</th>\n",
              "      <td>Non binary</td>\n",
              "      <td>Yes</td>\n",
              "      <td>1</td>\n",
              "    </tr>\n",
              "    <tr>\n",
              "      <th>4</th>\n",
              "      <td>Non-binary</td>\n",
              "      <td>Yes</td>\n",
              "      <td>1</td>\n",
              "    </tr>\n",
              "    <tr>\n",
              "      <th>5</th>\n",
              "      <td>Nonbinary</td>\n",
              "      <td>Yes</td>\n",
              "      <td>1</td>\n",
              "    </tr>\n",
              "    <tr>\n",
              "      <th>6</th>\n",
              "      <td>There are others???</td>\n",
              "      <td>Yes</td>\n",
              "      <td>1</td>\n",
              "    </tr>\n",
              "    <tr>\n",
              "      <th>7</th>\n",
              "      <td>unsure</td>\n",
              "      <td>Yes</td>\n",
              "      <td>1</td>\n",
              "    </tr>\n",
              "  </tbody>\n",
              "</table>\n",
              "</div>"
            ],
            "text/plain": [
              "                Gender Do they use social media?  Yes/No\n",
              "0               Female                       Yes     245\n",
              "1                 Male                        No       3\n",
              "2                 Male                       Yes     198\n",
              "3          Non binary                        Yes       1\n",
              "4           Non-binary                       Yes       1\n",
              "5           Nonbinary                        Yes       1\n",
              "6  There are others???                       Yes       1\n",
              "7              unsure                        Yes       1"
            ]
          },
          "execution_count": 21,
          "metadata": {},
          "output_type": "execute_result"
        }
      ],
      "source": [
        "data_soc1 =  data.groupby(['2. Gender',\"6. Do you use social media?\"])[['Timestamp']].count().reset_index().rename(columns={'Timestamp':\"Yes/No\"}).rename(columns={'2. Gender':\"Gender\"}).rename(columns={'6. Do you use social media?':\"Do they use social media?\"})\n",
        "data_soc1\n",
        "#Erkek, kadın ,.. cinsiyetlerinden hangileri sosyal medyayı kullanıyor onu listelemek amacıyla yazılmış."
      ]
    },
    {
      "cell_type": "code",
      "execution_count": 22,
      "metadata": {},
      "outputs": [
        {
          "data": {
            "application/vnd.plotly.v1+json": {
              "config": {
                "plotlyServerURL": "https://plot.ly"
              },
              "data": [
                {
                  "alignmentgroup": "True",
                  "hovertemplate": "Gender=Female<br>Do they use social media?=%{x}<br>Yes/No=%{y}<extra></extra>",
                  "legendgroup": "Female",
                  "marker": {
                    "color": "#636efa",
                    "pattern": {
                      "shape": ""
                    }
                  },
                  "name": "Female",
                  "offsetgroup": "Female",
                  "orientation": "v",
                  "showlegend": true,
                  "textposition": "auto",
                  "type": "bar",
                  "x": [
                    "Yes"
                  ],
                  "xaxis": "x",
                  "y": [
                    245
                  ],
                  "yaxis": "y"
                },
                {
                  "alignmentgroup": "True",
                  "hovertemplate": "Gender=Male<br>Do they use social media?=%{x}<br>Yes/No=%{y}<extra></extra>",
                  "legendgroup": "Male",
                  "marker": {
                    "color": "#EF553B",
                    "pattern": {
                      "shape": ""
                    }
                  },
                  "name": "Male",
                  "offsetgroup": "Male",
                  "orientation": "v",
                  "showlegend": true,
                  "textposition": "auto",
                  "type": "bar",
                  "x": [
                    "No",
                    "Yes"
                  ],
                  "xaxis": "x",
                  "y": [
                    3,
                    198
                  ],
                  "yaxis": "y"
                },
                {
                  "alignmentgroup": "True",
                  "hovertemplate": "Gender=Non binary <br>Do they use social media?=%{x}<br>Yes/No=%{y}<extra></extra>",
                  "legendgroup": "Non binary ",
                  "marker": {
                    "color": "#00cc96",
                    "pattern": {
                      "shape": ""
                    }
                  },
                  "name": "Non binary ",
                  "offsetgroup": "Non binary ",
                  "orientation": "v",
                  "showlegend": true,
                  "textposition": "auto",
                  "type": "bar",
                  "x": [
                    "Yes"
                  ],
                  "xaxis": "x",
                  "y": [
                    1
                  ],
                  "yaxis": "y"
                },
                {
                  "alignmentgroup": "True",
                  "hovertemplate": "Gender=Non-binary<br>Do they use social media?=%{x}<br>Yes/No=%{y}<extra></extra>",
                  "legendgroup": "Non-binary",
                  "marker": {
                    "color": "#ab63fa",
                    "pattern": {
                      "shape": ""
                    }
                  },
                  "name": "Non-binary",
                  "offsetgroup": "Non-binary",
                  "orientation": "v",
                  "showlegend": true,
                  "textposition": "auto",
                  "type": "bar",
                  "x": [
                    "Yes"
                  ],
                  "xaxis": "x",
                  "y": [
                    1
                  ],
                  "yaxis": "y"
                },
                {
                  "alignmentgroup": "True",
                  "hovertemplate": "Gender=Nonbinary <br>Do they use social media?=%{x}<br>Yes/No=%{y}<extra></extra>",
                  "legendgroup": "Nonbinary ",
                  "marker": {
                    "color": "#FFA15A",
                    "pattern": {
                      "shape": ""
                    }
                  },
                  "name": "Nonbinary ",
                  "offsetgroup": "Nonbinary ",
                  "orientation": "v",
                  "showlegend": true,
                  "textposition": "auto",
                  "type": "bar",
                  "x": [
                    "Yes"
                  ],
                  "xaxis": "x",
                  "y": [
                    1
                  ],
                  "yaxis": "y"
                },
                {
                  "alignmentgroup": "True",
                  "hovertemplate": "Gender=There are others???<br>Do they use social media?=%{x}<br>Yes/No=%{y}<extra></extra>",
                  "legendgroup": "There are others???",
                  "marker": {
                    "color": "#19d3f3",
                    "pattern": {
                      "shape": ""
                    }
                  },
                  "name": "There are others???",
                  "offsetgroup": "There are others???",
                  "orientation": "v",
                  "showlegend": true,
                  "textposition": "auto",
                  "type": "bar",
                  "x": [
                    "Yes"
                  ],
                  "xaxis": "x",
                  "y": [
                    1
                  ],
                  "yaxis": "y"
                },
                {
                  "alignmentgroup": "True",
                  "hovertemplate": "Gender=unsure <br>Do they use social media?=%{x}<br>Yes/No=%{y}<extra></extra>",
                  "legendgroup": "unsure ",
                  "marker": {
                    "color": "#FF6692",
                    "pattern": {
                      "shape": ""
                    }
                  },
                  "name": "unsure ",
                  "offsetgroup": "unsure ",
                  "orientation": "v",
                  "showlegend": true,
                  "textposition": "auto",
                  "type": "bar",
                  "x": [
                    "Yes"
                  ],
                  "xaxis": "x",
                  "y": [
                    1
                  ],
                  "yaxis": "y"
                }
              ],
              "layout": {
                "barmode": "relative",
                "legend": {
                  "title": {
                    "text": "Gender"
                  },
                  "tracegroupgap": 0
                },
                "margin": {
                  "t": 60
                },
                "template": {
                  "data": {
                    "bar": [
                      {
                        "error_x": {
                          "color": "#2a3f5f"
                        },
                        "error_y": {
                          "color": "#2a3f5f"
                        },
                        "marker": {
                          "line": {
                            "color": "#E5ECF6",
                            "width": 0.5
                          },
                          "pattern": {
                            "fillmode": "overlay",
                            "size": 10,
                            "solidity": 0.2
                          }
                        },
                        "type": "bar"
                      }
                    ],
                    "barpolar": [
                      {
                        "marker": {
                          "line": {
                            "color": "#E5ECF6",
                            "width": 0.5
                          },
                          "pattern": {
                            "fillmode": "overlay",
                            "size": 10,
                            "solidity": 0.2
                          }
                        },
                        "type": "barpolar"
                      }
                    ],
                    "carpet": [
                      {
                        "aaxis": {
                          "endlinecolor": "#2a3f5f",
                          "gridcolor": "white",
                          "linecolor": "white",
                          "minorgridcolor": "white",
                          "startlinecolor": "#2a3f5f"
                        },
                        "baxis": {
                          "endlinecolor": "#2a3f5f",
                          "gridcolor": "white",
                          "linecolor": "white",
                          "minorgridcolor": "white",
                          "startlinecolor": "#2a3f5f"
                        },
                        "type": "carpet"
                      }
                    ],
                    "choropleth": [
                      {
                        "colorbar": {
                          "outlinewidth": 0,
                          "ticks": ""
                        },
                        "type": "choropleth"
                      }
                    ],
                    "contour": [
                      {
                        "colorbar": {
                          "outlinewidth": 0,
                          "ticks": ""
                        },
                        "colorscale": [
                          [
                            0,
                            "#0d0887"
                          ],
                          [
                            0.1111111111111111,
                            "#46039f"
                          ],
                          [
                            0.2222222222222222,
                            "#7201a8"
                          ],
                          [
                            0.3333333333333333,
                            "#9c179e"
                          ],
                          [
                            0.4444444444444444,
                            "#bd3786"
                          ],
                          [
                            0.5555555555555556,
                            "#d8576b"
                          ],
                          [
                            0.6666666666666666,
                            "#ed7953"
                          ],
                          [
                            0.7777777777777778,
                            "#fb9f3a"
                          ],
                          [
                            0.8888888888888888,
                            "#fdca26"
                          ],
                          [
                            1,
                            "#f0f921"
                          ]
                        ],
                        "type": "contour"
                      }
                    ],
                    "contourcarpet": [
                      {
                        "colorbar": {
                          "outlinewidth": 0,
                          "ticks": ""
                        },
                        "type": "contourcarpet"
                      }
                    ],
                    "heatmap": [
                      {
                        "colorbar": {
                          "outlinewidth": 0,
                          "ticks": ""
                        },
                        "colorscale": [
                          [
                            0,
                            "#0d0887"
                          ],
                          [
                            0.1111111111111111,
                            "#46039f"
                          ],
                          [
                            0.2222222222222222,
                            "#7201a8"
                          ],
                          [
                            0.3333333333333333,
                            "#9c179e"
                          ],
                          [
                            0.4444444444444444,
                            "#bd3786"
                          ],
                          [
                            0.5555555555555556,
                            "#d8576b"
                          ],
                          [
                            0.6666666666666666,
                            "#ed7953"
                          ],
                          [
                            0.7777777777777778,
                            "#fb9f3a"
                          ],
                          [
                            0.8888888888888888,
                            "#fdca26"
                          ],
                          [
                            1,
                            "#f0f921"
                          ]
                        ],
                        "type": "heatmap"
                      }
                    ],
                    "heatmapgl": [
                      {
                        "colorbar": {
                          "outlinewidth": 0,
                          "ticks": ""
                        },
                        "colorscale": [
                          [
                            0,
                            "#0d0887"
                          ],
                          [
                            0.1111111111111111,
                            "#46039f"
                          ],
                          [
                            0.2222222222222222,
                            "#7201a8"
                          ],
                          [
                            0.3333333333333333,
                            "#9c179e"
                          ],
                          [
                            0.4444444444444444,
                            "#bd3786"
                          ],
                          [
                            0.5555555555555556,
                            "#d8576b"
                          ],
                          [
                            0.6666666666666666,
                            "#ed7953"
                          ],
                          [
                            0.7777777777777778,
                            "#fb9f3a"
                          ],
                          [
                            0.8888888888888888,
                            "#fdca26"
                          ],
                          [
                            1,
                            "#f0f921"
                          ]
                        ],
                        "type": "heatmapgl"
                      }
                    ],
                    "histogram": [
                      {
                        "marker": {
                          "pattern": {
                            "fillmode": "overlay",
                            "size": 10,
                            "solidity": 0.2
                          }
                        },
                        "type": "histogram"
                      }
                    ],
                    "histogram2d": [
                      {
                        "colorbar": {
                          "outlinewidth": 0,
                          "ticks": ""
                        },
                        "colorscale": [
                          [
                            0,
                            "#0d0887"
                          ],
                          [
                            0.1111111111111111,
                            "#46039f"
                          ],
                          [
                            0.2222222222222222,
                            "#7201a8"
                          ],
                          [
                            0.3333333333333333,
                            "#9c179e"
                          ],
                          [
                            0.4444444444444444,
                            "#bd3786"
                          ],
                          [
                            0.5555555555555556,
                            "#d8576b"
                          ],
                          [
                            0.6666666666666666,
                            "#ed7953"
                          ],
                          [
                            0.7777777777777778,
                            "#fb9f3a"
                          ],
                          [
                            0.8888888888888888,
                            "#fdca26"
                          ],
                          [
                            1,
                            "#f0f921"
                          ]
                        ],
                        "type": "histogram2d"
                      }
                    ],
                    "histogram2dcontour": [
                      {
                        "colorbar": {
                          "outlinewidth": 0,
                          "ticks": ""
                        },
                        "colorscale": [
                          [
                            0,
                            "#0d0887"
                          ],
                          [
                            0.1111111111111111,
                            "#46039f"
                          ],
                          [
                            0.2222222222222222,
                            "#7201a8"
                          ],
                          [
                            0.3333333333333333,
                            "#9c179e"
                          ],
                          [
                            0.4444444444444444,
                            "#bd3786"
                          ],
                          [
                            0.5555555555555556,
                            "#d8576b"
                          ],
                          [
                            0.6666666666666666,
                            "#ed7953"
                          ],
                          [
                            0.7777777777777778,
                            "#fb9f3a"
                          ],
                          [
                            0.8888888888888888,
                            "#fdca26"
                          ],
                          [
                            1,
                            "#f0f921"
                          ]
                        ],
                        "type": "histogram2dcontour"
                      }
                    ],
                    "mesh3d": [
                      {
                        "colorbar": {
                          "outlinewidth": 0,
                          "ticks": ""
                        },
                        "type": "mesh3d"
                      }
                    ],
                    "parcoords": [
                      {
                        "line": {
                          "colorbar": {
                            "outlinewidth": 0,
                            "ticks": ""
                          }
                        },
                        "type": "parcoords"
                      }
                    ],
                    "pie": [
                      {
                        "automargin": true,
                        "type": "pie"
                      }
                    ],
                    "scatter": [
                      {
                        "fillpattern": {
                          "fillmode": "overlay",
                          "size": 10,
                          "solidity": 0.2
                        },
                        "type": "scatter"
                      }
                    ],
                    "scatter3d": [
                      {
                        "line": {
                          "colorbar": {
                            "outlinewidth": 0,
                            "ticks": ""
                          }
                        },
                        "marker": {
                          "colorbar": {
                            "outlinewidth": 0,
                            "ticks": ""
                          }
                        },
                        "type": "scatter3d"
                      }
                    ],
                    "scattercarpet": [
                      {
                        "marker": {
                          "colorbar": {
                            "outlinewidth": 0,
                            "ticks": ""
                          }
                        },
                        "type": "scattercarpet"
                      }
                    ],
                    "scattergeo": [
                      {
                        "marker": {
                          "colorbar": {
                            "outlinewidth": 0,
                            "ticks": ""
                          }
                        },
                        "type": "scattergeo"
                      }
                    ],
                    "scattergl": [
                      {
                        "marker": {
                          "colorbar": {
                            "outlinewidth": 0,
                            "ticks": ""
                          }
                        },
                        "type": "scattergl"
                      }
                    ],
                    "scattermapbox": [
                      {
                        "marker": {
                          "colorbar": {
                            "outlinewidth": 0,
                            "ticks": ""
                          }
                        },
                        "type": "scattermapbox"
                      }
                    ],
                    "scatterpolar": [
                      {
                        "marker": {
                          "colorbar": {
                            "outlinewidth": 0,
                            "ticks": ""
                          }
                        },
                        "type": "scatterpolar"
                      }
                    ],
                    "scatterpolargl": [
                      {
                        "marker": {
                          "colorbar": {
                            "outlinewidth": 0,
                            "ticks": ""
                          }
                        },
                        "type": "scatterpolargl"
                      }
                    ],
                    "scatterternary": [
                      {
                        "marker": {
                          "colorbar": {
                            "outlinewidth": 0,
                            "ticks": ""
                          }
                        },
                        "type": "scatterternary"
                      }
                    ],
                    "surface": [
                      {
                        "colorbar": {
                          "outlinewidth": 0,
                          "ticks": ""
                        },
                        "colorscale": [
                          [
                            0,
                            "#0d0887"
                          ],
                          [
                            0.1111111111111111,
                            "#46039f"
                          ],
                          [
                            0.2222222222222222,
                            "#7201a8"
                          ],
                          [
                            0.3333333333333333,
                            "#9c179e"
                          ],
                          [
                            0.4444444444444444,
                            "#bd3786"
                          ],
                          [
                            0.5555555555555556,
                            "#d8576b"
                          ],
                          [
                            0.6666666666666666,
                            "#ed7953"
                          ],
                          [
                            0.7777777777777778,
                            "#fb9f3a"
                          ],
                          [
                            0.8888888888888888,
                            "#fdca26"
                          ],
                          [
                            1,
                            "#f0f921"
                          ]
                        ],
                        "type": "surface"
                      }
                    ],
                    "table": [
                      {
                        "cells": {
                          "fill": {
                            "color": "#EBF0F8"
                          },
                          "line": {
                            "color": "white"
                          }
                        },
                        "header": {
                          "fill": {
                            "color": "#C8D4E3"
                          },
                          "line": {
                            "color": "white"
                          }
                        },
                        "type": "table"
                      }
                    ]
                  },
                  "layout": {
                    "annotationdefaults": {
                      "arrowcolor": "#2a3f5f",
                      "arrowhead": 0,
                      "arrowwidth": 1
                    },
                    "autotypenumbers": "strict",
                    "coloraxis": {
                      "colorbar": {
                        "outlinewidth": 0,
                        "ticks": ""
                      }
                    },
                    "colorscale": {
                      "diverging": [
                        [
                          0,
                          "#8e0152"
                        ],
                        [
                          0.1,
                          "#c51b7d"
                        ],
                        [
                          0.2,
                          "#de77ae"
                        ],
                        [
                          0.3,
                          "#f1b6da"
                        ],
                        [
                          0.4,
                          "#fde0ef"
                        ],
                        [
                          0.5,
                          "#f7f7f7"
                        ],
                        [
                          0.6,
                          "#e6f5d0"
                        ],
                        [
                          0.7,
                          "#b8e186"
                        ],
                        [
                          0.8,
                          "#7fbc41"
                        ],
                        [
                          0.9,
                          "#4d9221"
                        ],
                        [
                          1,
                          "#276419"
                        ]
                      ],
                      "sequential": [
                        [
                          0,
                          "#0d0887"
                        ],
                        [
                          0.1111111111111111,
                          "#46039f"
                        ],
                        [
                          0.2222222222222222,
                          "#7201a8"
                        ],
                        [
                          0.3333333333333333,
                          "#9c179e"
                        ],
                        [
                          0.4444444444444444,
                          "#bd3786"
                        ],
                        [
                          0.5555555555555556,
                          "#d8576b"
                        ],
                        [
                          0.6666666666666666,
                          "#ed7953"
                        ],
                        [
                          0.7777777777777778,
                          "#fb9f3a"
                        ],
                        [
                          0.8888888888888888,
                          "#fdca26"
                        ],
                        [
                          1,
                          "#f0f921"
                        ]
                      ],
                      "sequentialminus": [
                        [
                          0,
                          "#0d0887"
                        ],
                        [
                          0.1111111111111111,
                          "#46039f"
                        ],
                        [
                          0.2222222222222222,
                          "#7201a8"
                        ],
                        [
                          0.3333333333333333,
                          "#9c179e"
                        ],
                        [
                          0.4444444444444444,
                          "#bd3786"
                        ],
                        [
                          0.5555555555555556,
                          "#d8576b"
                        ],
                        [
                          0.6666666666666666,
                          "#ed7953"
                        ],
                        [
                          0.7777777777777778,
                          "#fb9f3a"
                        ],
                        [
                          0.8888888888888888,
                          "#fdca26"
                        ],
                        [
                          1,
                          "#f0f921"
                        ]
                      ]
                    },
                    "colorway": [
                      "#636efa",
                      "#EF553B",
                      "#00cc96",
                      "#ab63fa",
                      "#FFA15A",
                      "#19d3f3",
                      "#FF6692",
                      "#B6E880",
                      "#FF97FF",
                      "#FECB52"
                    ],
                    "font": {
                      "color": "#2a3f5f"
                    },
                    "geo": {
                      "bgcolor": "white",
                      "lakecolor": "white",
                      "landcolor": "#E5ECF6",
                      "showlakes": true,
                      "showland": true,
                      "subunitcolor": "white"
                    },
                    "hoverlabel": {
                      "align": "left"
                    },
                    "hovermode": "closest",
                    "mapbox": {
                      "style": "light"
                    },
                    "paper_bgcolor": "white",
                    "plot_bgcolor": "#E5ECF6",
                    "polar": {
                      "angularaxis": {
                        "gridcolor": "white",
                        "linecolor": "white",
                        "ticks": ""
                      },
                      "bgcolor": "#E5ECF6",
                      "radialaxis": {
                        "gridcolor": "white",
                        "linecolor": "white",
                        "ticks": ""
                      }
                    },
                    "scene": {
                      "xaxis": {
                        "backgroundcolor": "#E5ECF6",
                        "gridcolor": "white",
                        "gridwidth": 2,
                        "linecolor": "white",
                        "showbackground": true,
                        "ticks": "",
                        "zerolinecolor": "white"
                      },
                      "yaxis": {
                        "backgroundcolor": "#E5ECF6",
                        "gridcolor": "white",
                        "gridwidth": 2,
                        "linecolor": "white",
                        "showbackground": true,
                        "ticks": "",
                        "zerolinecolor": "white"
                      },
                      "zaxis": {
                        "backgroundcolor": "#E5ECF6",
                        "gridcolor": "white",
                        "gridwidth": 2,
                        "linecolor": "white",
                        "showbackground": true,
                        "ticks": "",
                        "zerolinecolor": "white"
                      }
                    },
                    "shapedefaults": {
                      "line": {
                        "color": "#2a3f5f"
                      }
                    },
                    "ternary": {
                      "aaxis": {
                        "gridcolor": "white",
                        "linecolor": "white",
                        "ticks": ""
                      },
                      "baxis": {
                        "gridcolor": "white",
                        "linecolor": "white",
                        "ticks": ""
                      },
                      "bgcolor": "#E5ECF6",
                      "caxis": {
                        "gridcolor": "white",
                        "linecolor": "white",
                        "ticks": ""
                      }
                    },
                    "title": {
                      "x": 0.05
                    },
                    "xaxis": {
                      "automargin": true,
                      "gridcolor": "white",
                      "linecolor": "white",
                      "ticks": "",
                      "title": {
                        "standoff": 15
                      },
                      "zerolinecolor": "white",
                      "zerolinewidth": 2
                    },
                    "yaxis": {
                      "automargin": true,
                      "gridcolor": "white",
                      "linecolor": "white",
                      "ticks": "",
                      "title": {
                        "standoff": 15
                      },
                      "zerolinecolor": "white",
                      "zerolinewidth": 2
                    }
                  }
                },
                "xaxis": {
                  "anchor": "y",
                  "domain": [
                    0,
                    1
                  ],
                  "title": {
                    "text": "Do they use social media?"
                  }
                },
                "yaxis": {
                  "anchor": "x",
                  "domain": [
                    0,
                    1
                  ],
                  "title": {
                    "text": "Yes/No"
                  }
                }
              }
            }
          },
          "metadata": {},
          "output_type": "display_data"
        }
      ],
      "source": [
        "px.bar(data_soc1, x=\"Do they use social media?\", y=\"Yes/No\",color=\"Gender\") \n",
        "# Kaç Kadın kaç erkek sosyal medya kullanıcısı oldugunu gösterir."
      ]
    },
    {
      "cell_type": "markdown",
      "metadata": {},
      "source": [
        "## -----------------------------------------------------------------------------------------------------"
      ]
    },
    {
      "cell_type": "code",
      "execution_count": 29,
      "metadata": {},
      "outputs": [
        {
          "data": {
            "text/html": [
              "<div>\n",
              "<style scoped>\n",
              "    .dataframe tbody tr th:only-of-type {\n",
              "        vertical-align: middle;\n",
              "    }\n",
              "\n",
              "    .dataframe tbody tr th {\n",
              "        vertical-align: top;\n",
              "    }\n",
              "\n",
              "    .dataframe thead th {\n",
              "        text-align: right;\n",
              "    }\n",
              "</style>\n",
              "<table border=\"1\" class=\"dataframe\">\n",
              "  <thead>\n",
              "    <tr style=\"text-align: right;\">\n",
              "      <th></th>\n",
              "      <th>Relationship Status</th>\n",
              "      <th>Do they use social media?</th>\n",
              "      <th>Count</th>\n",
              "    </tr>\n",
              "  </thead>\n",
              "  <tbody>\n",
              "    <tr>\n",
              "      <th>0</th>\n",
              "      <td>Divorced</td>\n",
              "      <td>No</td>\n",
              "      <td>1</td>\n",
              "    </tr>\n",
              "    <tr>\n",
              "      <th>1</th>\n",
              "      <td>Divorced</td>\n",
              "      <td>Yes</td>\n",
              "      <td>5</td>\n",
              "    </tr>\n",
              "    <tr>\n",
              "      <th>2</th>\n",
              "      <td>In a relationship</td>\n",
              "      <td>No</td>\n",
              "      <td>1</td>\n",
              "    </tr>\n",
              "    <tr>\n",
              "      <th>3</th>\n",
              "      <td>In a relationship</td>\n",
              "      <td>Yes</td>\n",
              "      <td>85</td>\n",
              "    </tr>\n",
              "    <tr>\n",
              "      <th>4</th>\n",
              "      <td>Married</td>\n",
              "      <td>Yes</td>\n",
              "      <td>94</td>\n",
              "    </tr>\n",
              "    <tr>\n",
              "      <th>5</th>\n",
              "      <td>Single</td>\n",
              "      <td>No</td>\n",
              "      <td>1</td>\n",
              "    </tr>\n",
              "    <tr>\n",
              "      <th>6</th>\n",
              "      <td>Single</td>\n",
              "      <td>Yes</td>\n",
              "      <td>264</td>\n",
              "    </tr>\n",
              "  </tbody>\n",
              "</table>\n",
              "</div>"
            ],
            "text/plain": [
              "  Relationship Status Do they use social media?  Count\n",
              "0            Divorced                        No      1\n",
              "1            Divorced                       Yes      5\n",
              "2   In a relationship                        No      1\n",
              "3   In a relationship                       Yes     85\n",
              "4             Married                       Yes     94\n",
              "5              Single                        No      1\n",
              "6              Single                       Yes    264"
            ]
          },
          "execution_count": 29,
          "metadata": {},
          "output_type": "execute_result"
        }
      ],
      "source": [
        "data_ship =  data.groupby(['3. Relationship Status',\"6. Do you use social media?\"])[['Timestamp']].count().reset_index().rename(columns={'Timestamp':\"Count\"}).rename(columns={'6. Do you use social media?':\"Do they use social media?\"}).rename(columns={'3. Relationship Status':\"Relationship Status\"})\n",
        "data_ship"
      ]
    },
    {
      "cell_type": "code",
      "execution_count": 30,
      "metadata": {},
      "outputs": [
        {
          "data": {
            "text/plain": [
              "<AxesSubplot:xlabel='Relationship Status', ylabel='Count'>"
            ]
          },
          "execution_count": 30,
          "metadata": {},
          "output_type": "execute_result"
        },
        {
          "data": {
            "image/png": "[encoded data removed]",
            "text/plain": [
              "<Figure size 800x500 with 1 Axes>"
            ]
          },
          "metadata": {},
          "output_type": "display_data"
        }
      ],
      "source": [
        "plt.figure(figsize=(8,5))\n",
        "sns.barplot(data = data_ship, x=\"Relationship Status\", y=\"Count\",hue=\"Do they use social media?\")"
      ]
    },
    {
      "cell_type": "markdown",
      "metadata": {},
      "source": [
        "## -----------------------------------------------------------------------------------------------------"
      ]
    },
    {
      "cell_type": "code",
      "execution_count": 39,
      "metadata": {},
      "outputs": [
        {
          "data": {
            "text/html": [
              "<div>\n",
              "<style scoped>\n",
              "    .dataframe tbody tr th:only-of-type {\n",
              "        vertical-align: middle;\n",
              "    }\n",
              "\n",
              "    .dataframe tbody tr th {\n",
              "        vertical-align: top;\n",
              "    }\n",
              "\n",
              "    .dataframe thead th {\n",
              "        text-align: right;\n",
              "    }\n",
              "</style>\n",
              "<table border=\"1\" class=\"dataframe\">\n",
              "  <thead>\n",
              "    <tr style=\"text-align: right;\">\n",
              "      <th></th>\n",
              "      <th>Gender</th>\n",
              "      <th>Do they use social media?</th>\n",
              "      <th>Count</th>\n",
              "    </tr>\n",
              "  </thead>\n",
              "  <tbody>\n",
              "    <tr>\n",
              "      <th>0</th>\n",
              "      <td>Female</td>\n",
              "      <td>Yes</td>\n",
              "      <td>245</td>\n",
              "    </tr>\n",
              "    <tr>\n",
              "      <th>1</th>\n",
              "      <td>Male</td>\n",
              "      <td>No</td>\n",
              "      <td>3</td>\n",
              "    </tr>\n",
              "    <tr>\n",
              "      <th>2</th>\n",
              "      <td>Male</td>\n",
              "      <td>Yes</td>\n",
              "      <td>198</td>\n",
              "    </tr>\n",
              "    <tr>\n",
              "      <th>3</th>\n",
              "      <td>Non binary</td>\n",
              "      <td>Yes</td>\n",
              "      <td>1</td>\n",
              "    </tr>\n",
              "    <tr>\n",
              "      <th>4</th>\n",
              "      <td>Non-binary</td>\n",
              "      <td>Yes</td>\n",
              "      <td>1</td>\n",
              "    </tr>\n",
              "    <tr>\n",
              "      <th>5</th>\n",
              "      <td>Nonbinary</td>\n",
              "      <td>Yes</td>\n",
              "      <td>1</td>\n",
              "    </tr>\n",
              "    <tr>\n",
              "      <th>6</th>\n",
              "      <td>There are others???</td>\n",
              "      <td>Yes</td>\n",
              "      <td>1</td>\n",
              "    </tr>\n",
              "    <tr>\n",
              "      <th>7</th>\n",
              "      <td>unsure</td>\n",
              "      <td>Yes</td>\n",
              "      <td>1</td>\n",
              "    </tr>\n",
              "  </tbody>\n",
              "</table>\n",
              "</div>"
            ],
            "text/plain": [
              "                Gender Do they use social media?  Count\n",
              "0               Female                       Yes    245\n",
              "1                 Male                        No      3\n",
              "2                 Male                       Yes    198\n",
              "3          Non binary                        Yes      1\n",
              "4           Non-binary                       Yes      1\n",
              "5           Nonbinary                        Yes      1\n",
              "6  There are others???                       Yes      1\n",
              "7              unsure                        Yes      1"
            ]
          },
          "execution_count": 39,
          "metadata": {},
          "output_type": "execute_result"
        }
      ],
      "source": [
        "data_soc1 =  data.groupby(['2. Gender',\"6. Do you use social media?\"])[['Timestamp']].count().reset_index().rename(columns={'Timestamp':\"Count\"}).rename(columns={'2. Gender':\"Gender\"}).rename(columns={'6. Do you use social media?':\"Do they use social media?\"})\n",
        "data_soc1"
      ]
    },
    {
      "cell_type": "code",
      "execution_count": 40,
      "metadata": {},
      "outputs": [
        {
          "data": {
            "text/plain": [
              "<AxesSubplot:xlabel='Gender', ylabel='Count'>"
            ]
          },
          "execution_count": 40,
          "metadata": {},
          "output_type": "execute_result"
        },
        {
          "data": {
            "image/png": "[encoded data removed]",
            "text/plain": [
              "<Figure size 800x500 with 1 Axes>"
            ]
          },
          "metadata": {},
          "output_type": "display_data"
        }
      ],
      "source": [
        "plt.figure(figsize=(8,5))\n",
        "sns.barplot(data = data_soc1, x=\"Gender\", y=\"Count\",hue=\"Do they use social media?\")"
      ]
    },
    {
      "cell_type": "markdown",
      "metadata": {},
      "source": [
        "## -----------------------------------------------------------------------------------------------------"
      ]
    },
    {
      "cell_type": "code",
      "execution_count": null,
      "metadata": {},
      "outputs": [
        {
          "data": {
            "text/html": [
              "<div>\n",
              "<style scoped>\n",
              "    .dataframe tbody tr th:only-of-type {\n",
              "        vertical-align: middle;\n",
              "    }\n",
              "\n",
              "    .dataframe tbody tr th {\n",
              "        vertical-align: top;\n",
              "    }\n",
              "\n",
              "    .dataframe thead th {\n",
              "        text-align: right;\n",
              "    }\n",
              "</style>\n",
              "<table border=\"1\" class=\"dataframe\">\n",
              "  <thead>\n",
              "    <tr style=\"text-align: right;\">\n",
              "      <th></th>\n",
              "      <th>Hours spent on social media</th>\n",
              "      <th>Rate from 1 to 5</th>\n",
              "      <th>Distraction rate</th>\n",
              "    </tr>\n",
              "  </thead>\n",
              "  <tbody>\n",
              "    <tr>\n",
              "      <th>0</th>\n",
              "      <td>Between 1 and 2 hours</td>\n",
              "      <td>1</td>\n",
              "      <td>6</td>\n",
              "    </tr>\n",
              "    <tr>\n",
              "      <th>1</th>\n",
              "      <td>Between 1 and 2 hours</td>\n",
              "      <td>2</td>\n",
              "      <td>11</td>\n",
              "    </tr>\n",
              "    <tr>\n",
              "      <th>2</th>\n",
              "      <td>Between 1 and 2 hours</td>\n",
              "      <td>3</td>\n",
              "      <td>32</td>\n",
              "    </tr>\n",
              "    <tr>\n",
              "      <th>3</th>\n",
              "      <td>Between 1 and 2 hours</td>\n",
              "      <td>4</td>\n",
              "      <td>12</td>\n",
              "    </tr>\n",
              "    <tr>\n",
              "      <th>4</th>\n",
              "      <td>Between 1 and 2 hours</td>\n",
              "      <td>5</td>\n",
              "      <td>4</td>\n",
              "    </tr>\n",
              "    <tr>\n",
              "      <th>5</th>\n",
              "      <td>Between 2 and 3 hours</td>\n",
              "      <td>1</td>\n",
              "      <td>3</td>\n",
              "    </tr>\n",
              "    <tr>\n",
              "      <th>6</th>\n",
              "      <td>Between 2 and 3 hours</td>\n",
              "      <td>2</td>\n",
              "      <td>16</td>\n",
              "    </tr>\n",
              "    <tr>\n",
              "      <th>7</th>\n",
              "      <td>Between 2 and 3 hours</td>\n",
              "      <td>3</td>\n",
              "      <td>38</td>\n",
              "    </tr>\n",
              "    <tr>\n",
              "      <th>8</th>\n",
              "      <td>Between 2 and 3 hours</td>\n",
              "      <td>4</td>\n",
              "      <td>20</td>\n",
              "    </tr>\n",
              "    <tr>\n",
              "      <th>9</th>\n",
              "      <td>Between 2 and 3 hours</td>\n",
              "      <td>5</td>\n",
              "      <td>16</td>\n",
              "    </tr>\n",
              "    <tr>\n",
              "      <th>10</th>\n",
              "      <td>Between 3 and 4 hours</td>\n",
              "      <td>1</td>\n",
              "      <td>3</td>\n",
              "    </tr>\n",
              "    <tr>\n",
              "      <th>11</th>\n",
              "      <td>Between 3 and 4 hours</td>\n",
              "      <td>2</td>\n",
              "      <td>14</td>\n",
              "    </tr>\n",
              "    <tr>\n",
              "      <th>12</th>\n",
              "      <td>Between 3 and 4 hours</td>\n",
              "      <td>3</td>\n",
              "      <td>30</td>\n",
              "    </tr>\n",
              "    <tr>\n",
              "      <th>13</th>\n",
              "      <td>Between 3 and 4 hours</td>\n",
              "      <td>4</td>\n",
              "      <td>17</td>\n",
              "    </tr>\n",
              "    <tr>\n",
              "      <th>14</th>\n",
              "      <td>Between 3 and 4 hours</td>\n",
              "      <td>5</td>\n",
              "      <td>22</td>\n",
              "    </tr>\n",
              "    <tr>\n",
              "      <th>15</th>\n",
              "      <td>Between 4 and 5 hours</td>\n",
              "      <td>1</td>\n",
              "      <td>2</td>\n",
              "    </tr>\n",
              "    <tr>\n",
              "      <th>16</th>\n",
              "      <td>Between 4 and 5 hours</td>\n",
              "      <td>2</td>\n",
              "      <td>7</td>\n",
              "    </tr>\n",
              "    <tr>\n",
              "      <th>17</th>\n",
              "      <td>Between 4 and 5 hours</td>\n",
              "      <td>3</td>\n",
              "      <td>20</td>\n",
              "    </tr>\n",
              "    <tr>\n",
              "      <th>18</th>\n",
              "      <td>Between 4 and 5 hours</td>\n",
              "      <td>4</td>\n",
              "      <td>19</td>\n",
              "    </tr>\n",
              "    <tr>\n",
              "      <th>19</th>\n",
              "      <td>Between 4 and 5 hours</td>\n",
              "      <td>5</td>\n",
              "      <td>15</td>\n",
              "    </tr>\n",
              "    <tr>\n",
              "      <th>20</th>\n",
              "      <td>Less than an Hour</td>\n",
              "      <td>1</td>\n",
              "      <td>13</td>\n",
              "    </tr>\n",
              "    <tr>\n",
              "      <th>21</th>\n",
              "      <td>Less than an Hour</td>\n",
              "      <td>2</td>\n",
              "      <td>10</td>\n",
              "    </tr>\n",
              "    <tr>\n",
              "      <th>22</th>\n",
              "      <td>Less than an Hour</td>\n",
              "      <td>3</td>\n",
              "      <td>7</td>\n",
              "    </tr>\n",
              "    <tr>\n",
              "      <th>23</th>\n",
              "      <td>Less than an Hour</td>\n",
              "      <td>4</td>\n",
              "      <td>1</td>\n",
              "    </tr>\n",
              "    <tr>\n",
              "      <th>24</th>\n",
              "      <td>Less than an Hour</td>\n",
              "      <td>5</td>\n",
              "      <td>2</td>\n",
              "    </tr>\n",
              "    <tr>\n",
              "      <th>25</th>\n",
              "      <td>More than 5 hours</td>\n",
              "      <td>1</td>\n",
              "      <td>3</td>\n",
              "    </tr>\n",
              "    <tr>\n",
              "      <th>26</th>\n",
              "      <td>More than 5 hours</td>\n",
              "      <td>2</td>\n",
              "      <td>12</td>\n",
              "    </tr>\n",
              "    <tr>\n",
              "      <th>27</th>\n",
              "      <td>More than 5 hours</td>\n",
              "      <td>3</td>\n",
              "      <td>26</td>\n",
              "    </tr>\n",
              "    <tr>\n",
              "      <th>28</th>\n",
              "      <td>More than 5 hours</td>\n",
              "      <td>4</td>\n",
              "      <td>37</td>\n",
              "    </tr>\n",
              "    <tr>\n",
              "      <th>29</th>\n",
              "      <td>More than 5 hours</td>\n",
              "      <td>5</td>\n",
              "      <td>33</td>\n",
              "    </tr>\n",
              "  </tbody>\n",
              "</table>\n",
              "</div>"
            ],
            "text/plain": [
              "   Hours spent on social media  Rate from 1 to 5  Distraction rate\n",
              "0        Between 1 and 2 hours                 1                 6\n",
              "1        Between 1 and 2 hours                 2                11\n",
              "2        Between 1 and 2 hours                 3                32\n",
              "3        Between 1 and 2 hours                 4                12\n",
              "4        Between 1 and 2 hours                 5                 4\n",
              "5        Between 2 and 3 hours                 1                 3\n",
              "6        Between 2 and 3 hours                 2                16\n",
              "7        Between 2 and 3 hours                 3                38\n",
              "8        Between 2 and 3 hours                 4                20\n",
              "9        Between 2 and 3 hours                 5                16\n",
              "10       Between 3 and 4 hours                 1                 3\n",
              "11       Between 3 and 4 hours                 2                14\n",
              "12       Between 3 and 4 hours                 3                30\n",
              "13       Between 3 and 4 hours                 4                17\n",
              "14       Between 3 and 4 hours                 5                22\n",
              "15       Between 4 and 5 hours                 1                 2\n",
              "16       Between 4 and 5 hours                 2                 7\n",
              "17       Between 4 and 5 hours                 3                20\n",
              "18       Between 4 and 5 hours                 4                19\n",
              "19       Between 4 and 5 hours                 5                15\n",
              "20           Less than an Hour                 1                13\n",
              "21           Less than an Hour                 2                10\n",
              "22           Less than an Hour                 3                 7\n",
              "23           Less than an Hour                 4                 1\n",
              "24           Less than an Hour                 5                 2\n",
              "25           More than 5 hours                 1                 3\n",
              "26           More than 5 hours                 2                12\n",
              "27           More than 5 hours                 3                26\n",
              "28           More than 5 hours                 4                37\n",
              "29           More than 5 hours                 5                33"
            ]
          },
          "execution_count": 144,
          "metadata": {},
          "output_type": "execute_result"
        }
      ],
      "source": [
        "data_stsm =  data.groupby(['8. What is the average time you spend on social media every day?',\"12. On a scale of 1 to 5, how easily distracted are you?\"])[['Timestamp']].count().reset_index().rename(columns={'Timestamp':\"Distraction rate\"}).rename(columns={'8. What is the average time you spend on social media every day?':\"Hours spent on social media\"}).rename(columns={'12. On a scale of 1 to 5, how easily distracted are you?':\"Rate from 1 to 5\"})\n",
        "data_stsm"
      ]
    },
    {
      "cell_type": "code",
      "execution_count": null,
      "metadata": {},
      "outputs": [
        {
          "data": {
            "text/plain": [
              "<AxesSubplot:xlabel='Hours spent on social media', ylabel='Distraction rate'>"
            ]
          },
          "execution_count": 145,
          "metadata": {},
          "output_type": "execute_result"
        },
        {
          "data": {
            "image/png": "[encoded data removed]",
            "text/plain": [
              "<Figure size 1200x700 with 1 Axes>"
            ]
          },
          "metadata": {},
          "output_type": "display_data"
        }
      ],
      "source": [
        "plt.figure(figsize=(12,7))\n",
        "sns.barplot(data = data_stsm, x=\"Hours spent on social media\", y=\"Distraction rate\",hue=\"Rate from 1 to 5\")"
      ]
    },
    {
      "cell_type": "markdown",
      "metadata": {},
      "source": [
        "## -----------------------------------------------------------------------------------------------------"
      ]
    },
    {
      "cell_type": "code",
      "execution_count": null,
      "metadata": {},
      "outputs": [
        {
          "data": {
            "text/plain": [
              "array(['Facebook, Twitter, Instagram, YouTube, Discord, Reddit',\n",
              "       'Facebook, Instagram, YouTube, Pinterest', 'Facebook, Instagram',\n",
              "       'Facebook, Instagram, YouTube',\n",
              "       'Facebook, Twitter, Instagram, YouTube, Discord, Pinterest, TikTok',\n",
              "       'Facebook, Instagram, YouTube, Snapchat, TikTok',\n",
              "       'Reddit, Pinterest', 'Facebook, Instagram, YouTube, Discord',\n",
              "       'Facebook, Instagram, YouTube, Snapchat, Discord, Reddit, Pinterest, TikTok',\n",
              "       'Facebook, Twitter, Instagram, YouTube, Snapchat, Discord, Reddit, Pinterest',\n",
              "       'Facebook, Twitter, Instagram, YouTube, Snapchat, Reddit, Pinterest',\n",
              "       'Facebook, YouTube, Pinterest',\n",
              "       'Facebook, Instagram, YouTube, Reddit',\n",
              "       'Facebook, YouTube, Discord', 'Facebook, YouTube, Discord, Reddit',\n",
              "       'Facebook, Twitter, Instagram, YouTube',\n",
              "       'Facebook, Instagram, YouTube, Discord, Reddit',\n",
              "       'Facebook, Twitter, Instagram, YouTube, Discord, Reddit, TikTok',\n",
              "       'Facebook, Instagram, YouTube, Snapchat, Pinterest',\n",
              "       'Facebook, YouTube',\n",
              "       'Facebook, Instagram, YouTube, Snapchat, Discord, Pinterest, TikTok',\n",
              "       'Facebook, Instagram, YouTube, Snapchat, Discord',\n",
              "       'Facebook, Instagram, YouTube, TikTok',\n",
              "       'Facebook, Instagram, YouTube, Discord, Pinterest',\n",
              "       'Facebook, Twitter, Instagram, YouTube, Discord',\n",
              "       'Facebook, Twitter, Instagram, YouTube, Snapchat, Discord, Reddit',\n",
              "       'Facebook, Instagram, YouTube, Snapchat',\n",
              "       'Twitter, Discord, Reddit', 'Twitter, YouTube, Reddit',\n",
              "       'Facebook, Twitter, Instagram, YouTube, Snapchat, Discord, Reddit, Pinterest, TikTok',\n",
              "       'YouTube, Snapchat, Discord', 'Facebook', 'Discord, Reddit',\n",
              "       'YouTube, Discord, Reddit',\n",
              "       'Facebook, Twitter, Instagram, YouTube, Snapchat, Reddit, TikTok',\n",
              "       'Facebook, Instagram, YouTube, Snapchat, Discord, Reddit',\n",
              "       'Instagram, Reddit', 'YouTube, Reddit',\n",
              "       'Facebook, Instagram, Reddit, TikTok',\n",
              "       'Twitter, Instagram, YouTube, Reddit, TikTok', 'Reddit',\n",
              "       'YouTube, Snapchat, Discord, Reddit', 'Instagram, YouTube',\n",
              "       'Instagram, YouTube, Discord, Reddit',\n",
              "       'Twitter, Instagram, YouTube, Snapchat, Reddit, Pinterest, TikTok',\n",
              "       'Twitter, YouTube, Discord, Reddit', 'Facebook, YouTube, Reddit',\n",
              "       'Facebook, Twitter, Instagram, YouTube, Snapchat, Discord, TikTok',\n",
              "       'Facebook, Instagram, YouTube, Snapchat, Discord, Reddit, Pinterest',\n",
              "       'Instagram, YouTube, Snapchat, Discord, Reddit',\n",
              "       'Facebook, Twitter, Instagram, YouTube, Reddit',\n",
              "       'Facebook, Twitter, Instagram, YouTube, Snapchat',\n",
              "       'Twitter, Instagram, YouTube, Snapchat, Discord, Reddit, TikTok',\n",
              "       'Instagram', 'Instagram, YouTube, Discord',\n",
              "       'Facebook, Instagram, YouTube, Snapchat, Discord, TikTok',\n",
              "       'Facebook, Twitter, Instagram, YouTube, Snapchat, Pinterest',\n",
              "       'Facebook, Instagram, TikTok', 'Facebook, Instagram, Snapchat',\n",
              "       'Facebook, YouTube, Snapchat, Pinterest',\n",
              "       'Facebook, Twitter, Instagram, YouTube, Snapchat, Discord',\n",
              "       'Facebook, Instagram, YouTube, Snapchat, Pinterest, TikTok',\n",
              "       'Instagram, YouTube, Snapchat, Pinterest',\n",
              "       'Facebook, Twitter, Instagram, YouTube, Pinterest',\n",
              "       'Facebook, Twitter, Instagram, YouTube, Snapchat, Discord, Pinterest',\n",
              "       'Twitter, Instagram, YouTube', 'Facebook, Twitter, YouTube',\n",
              "       'Twitter', 'YouTube', 'Twitter, YouTube', 'Facebook, Twitter',\n",
              "       'Instagram, YouTube, Pinterest', 'Pinterest',\n",
              "       'Facebook, YouTube, TikTok',\n",
              "       'Facebook, Twitter, Instagram, YouTube, Reddit, Pinterest, TikTok',\n",
              "       'Facebook, Twitter, Instagram, YouTube, Snapchat, Discord, Pinterest, TikTok',\n",
              "       'Facebook, Instagram, Pinterest',\n",
              "       'Facebook, YouTube, Discord, Reddit, Pinterest',\n",
              "       'Facebook, Twitter, YouTube, Discord, Reddit',\n",
              "       'Facebook, Instagram, YouTube, Discord, Reddit, TikTok',\n",
              "       'Facebook, Discord, Reddit',\n",
              "       'Instagram, Discord, Reddit, Pinterest, TikTok',\n",
              "       'Twitter, Instagram, YouTube, Snapchat, Discord, Reddit, Pinterest, TikTok',\n",
              "       'Facebook, YouTube, Snapchat',\n",
              "       'Facebook, Instagram, YouTube, Snapchat, Discord, Pinterest',\n",
              "       'Facebook, YouTube, Discord, Pinterest',\n",
              "       'Instagram, YouTube, Discord, Reddit, TikTok',\n",
              "       'Facebook, Twitter, Instagram, YouTube, Snapchat, TikTok',\n",
              "       'Facebook, Instagram, Discord',\n",
              "       'Facebook, Twitter, Instagram, YouTube, Discord, Reddit, Pinterest, TikTok',\n",
              "       'Facebook, Twitter, YouTube, Discord, Pinterest', 'Discord',\n",
              "       'Facebook, Instagram, YouTube, Discord, Pinterest, TikTok',\n",
              "       'Facebook, Instagram, YouTube, Discord, Reddit, Pinterest',\n",
              "       'Facebook, Discord', 'Facebook, TikTok',\n",
              "       'Facebook, Twitter, Instagram, YouTube, Snapchat, Discord, Reddit, TikTok',\n",
              "       'Instagram, YouTube, Discord, Pinterest',\n",
              "       'Facebook, YouTube, Snapchat, Discord',\n",
              "       'Facebook, Instagram, YouTube, Snapchat, Reddit, Pinterest, TikTok',\n",
              "       'Facebook, Instagram, Snapchat, Pinterest, TikTok',\n",
              "       'Facebook, Twitter, Instagram, YouTube, Reddit, Pinterest',\n",
              "       'Facebook, Instagram, YouTube, Pinterest, TikTok',\n",
              "       'Facebook, Twitter, Instagram, Snapchat, Reddit',\n",
              "       'YouTube, Discord',\n",
              "       'Facebook, Instagram, YouTube, Snapchat, Discord, Reddit, TikTok',\n",
              "       'Twitter, Instagram, TikTok',\n",
              "       'Facebook, Instagram, Snapchat, Discord, Pinterest, TikTok',\n",
              "       'YouTube, Pinterest',\n",
              "       'Instagram, YouTube, Discord, Reddit, Pinterest',\n",
              "       'Twitter, Instagram, YouTube, TikTok',\n",
              "       'Facebook, Twitter, Instagram, YouTube, Discord, Pinterest',\n",
              "       'Facebook, Instagram, YouTube, Reddit, Pinterest, TikTok',\n",
              "       'Facebook, Snapchat, Reddit',\n",
              "       'Facebook, Instagram, YouTube, Reddit, Pinterest',\n",
              "       'Facebook, Twitter, Instagram, YouTube, Discord, Reddit, Pinterest',\n",
              "       'Facebook, Instagram, YouTube, Reddit, TikTok',\n",
              "       'Facebook, Twitter, YouTube, Pinterest', 'Instagram, Discord',\n",
              "       'Twitter, Instagram, YouTube, Discord, Pinterest',\n",
              "       'Instagram, YouTube, Snapchat, Discord, Reddit, Pinterest, TikTok'],\n",
              "      dtype=object)"
            ]
          },
          "execution_count": 149,
          "metadata": {},
          "output_type": "execute_result"
        }
      ],
      "source": [
        "data['7. What social media platforms do you commonly use?'].unique()"
      ]
    },
    {
      "cell_type": "code",
      "execution_count": null,
      "metadata": {},
      "outputs": [
        {
          "data": {
            "text/html": [
              "<div>\n",
              "<style scoped>\n",
              "    .dataframe tbody tr th:only-of-type {\n",
              "        vertical-align: middle;\n",
              "    }\n",
              "\n",
              "    .dataframe tbody tr th {\n",
              "        vertical-align: top;\n",
              "    }\n",
              "\n",
              "    .dataframe thead th {\n",
              "        text-align: right;\n",
              "    }\n",
              "</style>\n",
              "<table border=\"1\" class=\"dataframe\">\n",
              "  <thead>\n",
              "    <tr style=\"text-align: right;\">\n",
              "      <th></th>\n",
              "      <th>Which social media network do they use?</th>\n",
              "      <th>Gender</th>\n",
              "      <th>Number of users</th>\n",
              "    </tr>\n",
              "  </thead>\n",
              "  <tbody>\n",
              "    <tr>\n",
              "      <th>0</th>\n",
              "      <td>Discord</td>\n",
              "      <td>Male</td>\n",
              "      <td>1</td>\n",
              "    </tr>\n",
              "    <tr>\n",
              "      <th>1</th>\n",
              "      <td>Discord, Reddit</td>\n",
              "      <td>Male</td>\n",
              "      <td>2</td>\n",
              "    </tr>\n",
              "    <tr>\n",
              "      <th>2</th>\n",
              "      <td>Facebook</td>\n",
              "      <td>Female</td>\n",
              "      <td>14</td>\n",
              "    </tr>\n",
              "    <tr>\n",
              "      <th>3</th>\n",
              "      <td>Facebook</td>\n",
              "      <td>Male</td>\n",
              "      <td>3</td>\n",
              "    </tr>\n",
              "    <tr>\n",
              "      <th>4</th>\n",
              "      <td>Facebook, Discord</td>\n",
              "      <td>Male</td>\n",
              "      <td>1</td>\n",
              "    </tr>\n",
              "    <tr>\n",
              "      <th>...</th>\n",
              "      <td>...</td>\n",
              "      <td>...</td>\n",
              "      <td>...</td>\n",
              "    </tr>\n",
              "    <tr>\n",
              "      <th>159</th>\n",
              "      <td>YouTube, Discord, Reddit</td>\n",
              "      <td>Male</td>\n",
              "      <td>4</td>\n",
              "    </tr>\n",
              "    <tr>\n",
              "      <th>160</th>\n",
              "      <td>YouTube, Pinterest</td>\n",
              "      <td>Female</td>\n",
              "      <td>1</td>\n",
              "    </tr>\n",
              "    <tr>\n",
              "      <th>161</th>\n",
              "      <td>YouTube, Reddit</td>\n",
              "      <td>Female</td>\n",
              "      <td>1</td>\n",
              "    </tr>\n",
              "    <tr>\n",
              "      <th>162</th>\n",
              "      <td>YouTube, Snapchat, Discord</td>\n",
              "      <td>Male</td>\n",
              "      <td>1</td>\n",
              "    </tr>\n",
              "    <tr>\n",
              "      <th>163</th>\n",
              "      <td>YouTube, Snapchat, Discord, Reddit</td>\n",
              "      <td>Male</td>\n",
              "      <td>1</td>\n",
              "    </tr>\n",
              "  </tbody>\n",
              "</table>\n",
              "<p>164 rows × 3 columns</p>\n",
              "</div>"
            ],
            "text/plain": [
              "    Which social media network do they use?  Gender  Number of users\n",
              "0                                   Discord    Male                1\n",
              "1                           Discord, Reddit    Male                2\n",
              "2                                  Facebook  Female               14\n",
              "3                                  Facebook    Male                3\n",
              "4                         Facebook, Discord    Male                1\n",
              "..                                      ...     ...              ...\n",
              "159                YouTube, Discord, Reddit    Male                4\n",
              "160                      YouTube, Pinterest  Female                1\n",
              "161                         YouTube, Reddit  Female                1\n",
              "162              YouTube, Snapchat, Discord    Male                1\n",
              "163      YouTube, Snapchat, Discord, Reddit    Male                1\n",
              "\n",
              "[164 rows x 3 columns]"
            ]
          },
          "execution_count": 150,
          "metadata": {},
          "output_type": "execute_result"
        }
      ],
      "source": [
        "data_ftyirt =  data.groupby(['7. What social media platforms do you commonly use?',\"2. Gender\"])[['Timestamp']].count().reset_index().rename(columns={'Timestamp':\"Number of users\"}).rename(columns={'7. What social media platforms do you commonly use?':\"Which social media network do they use?\"}).rename(columns={'2. Gender':\"Gender\"})\n",
        "data_ftyirt"
      ]
    },
    {
      "cell_type": "code",
      "execution_count": null,
      "metadata": {},
      "outputs": [
        {
          "data": {
            "application/vnd.plotly.v1+json": {
              "config": {
                "plotlyServerURL": "https://plot.ly"
              },
              "data": [
                {
                  "alignmentgroup": "True",
                  "hovertemplate": "Which social media network do they use?=Discord<br>Gender=%{x}<br>Number of users=%{y}<extra></extra>",
                  "legendgroup": "Discord",
                  "marker": {
                    "color": "#636efa",
                    "pattern": {
                      "shape": ""
                    }
                  },
                  "name": "Discord",
                  "offsetgroup": "Discord",
                  "orientation": "v",
                  "showlegend": true,
                  "textposition": "auto",
                  "type": "bar",
                  "x": [
                    "Male"
                  ],
                  "xaxis": "x",
                  "y": [
                    1
                  ],
                  "yaxis": "y"
                },
                {
                  "alignmentgroup": "True",
                  "hovertemplate": "Which social media network do they use?=Discord, Reddit<br>Gender=%{x}<br>Number of users=%{y}<extra></extra>",
                  "legendgroup": "Discord, Reddit",
                  "marker": {
                    "color": "#EF553B",
                    "pattern": {
                      "shape": ""
                    }
                  },
                  "name": "Discord, Reddit",
                  "offsetgroup": "Discord, Reddit",
                  "orientation": "v",
                  "showlegend": true,
                  "textposition": "auto",
                  "type": "bar",
                  "x": [
                    "Male"
                  ],
                  "xaxis": "x",
                  "y": [
                    2
                  ],
                  "yaxis": "y"
                },
                {
                  "alignmentgroup": "True",
                  "hovertemplate": "Which social media network do they use?=Facebook<br>Gender=%{x}<br>Number of users=%{y}<extra></extra>",
                  "legendgroup": "Facebook",
                  "marker": {
                    "color": "#00cc96",
                    "pattern": {
                      "shape": ""
                    }
                  },
                  "name": "Facebook",
                  "offsetgroup": "Facebook",
                  "orientation": "v",
                  "showlegend": true,
                  "textposition": "auto",
                  "type": "bar",
                  "x": [
                    "Female",
                    "Male"
                  ],
                  "xaxis": "x",
                  "y": [
                    14,
                    3
                  ],
                  "yaxis": "y"
                },
                {
                  "alignmentgroup": "True",
                  "hovertemplate": "Which social media network do they use?=Facebook, Discord<br>Gender=%{x}<br>Number of users=%{y}<extra></extra>",
                  "legendgroup": "Facebook, Discord",
                  "marker": {
                    "color": "#ab63fa",
                    "pattern": {
                      "shape": ""
                    }
                  },
                  "name": "Facebook, Discord",
                  "offsetgroup": "Facebook, Discord",
                  "orientation": "v",
                  "showlegend": true,
                  "textposition": "auto",
                  "type": "bar",
                  "x": [
                    "Male"
                  ],
                  "xaxis": "x",
                  "y": [
                    1
                  ],
                  "yaxis": "y"
                },
                {
                  "alignmentgroup": "True",
                  "hovertemplate": "Which social media network do they use?=Facebook, Discord, Reddit<br>Gender=%{x}<br>Number of users=%{y}<extra></extra>",
                  "legendgroup": "Facebook, Discord, Reddit",
                  "marker": {
                    "color": "#FFA15A",
                    "pattern": {
                      "shape": ""
                    }
                  },
                  "name": "Facebook, Discord, Reddit",
                  "offsetgroup": "Facebook, Discord, Reddit",
                  "orientation": "v",
                  "showlegend": true,
                  "textposition": "auto",
                  "type": "bar",
                  "x": [
                    "Male"
                  ],
                  "xaxis": "x",
                  "y": [
                    1
                  ],
                  "yaxis": "y"
                },
                {
                  "alignmentgroup": "True",
                  "hovertemplate": "Which social media network do they use?=Facebook, Instagram<br>Gender=%{x}<br>Number of users=%{y}<extra></extra>",
                  "legendgroup": "Facebook, Instagram",
                  "marker": {
                    "color": "#19d3f3",
                    "pattern": {
                      "shape": ""
                    }
                  },
                  "name": "Facebook, Instagram",
                  "offsetgroup": "Facebook, Instagram",
                  "orientation": "v",
                  "showlegend": true,
                  "textposition": "auto",
                  "type": "bar",
                  "x": [
                    "Female",
                    "Male"
                  ],
                  "xaxis": "x",
                  "y": [
                    6,
                    4
                  ],
                  "yaxis": "y"
                },
                {
                  "alignmentgroup": "True",
                  "hovertemplate": "Which social media network do they use?=Facebook, Instagram, Discord<br>Gender=%{x}<br>Number of users=%{y}<extra></extra>",
                  "legendgroup": "Facebook, Instagram, Discord",
                  "marker": {
                    "color": "#FF6692",
                    "pattern": {
                      "shape": ""
                    }
                  },
                  "name": "Facebook, Instagram, Discord",
                  "offsetgroup": "Facebook, Instagram, Discord",
                  "orientation": "v",
                  "showlegend": true,
                  "textposition": "auto",
                  "type": "bar",
                  "x": [
                    "Female"
                  ],
                  "xaxis": "x",
                  "y": [
                    2
                  ],
                  "yaxis": "y"
                },
                {
                  "alignmentgroup": "True",
                  "hovertemplate": "Which social media network do they use?=Facebook, Instagram, Pinterest<br>Gender=%{x}<br>Number of users=%{y}<extra></extra>",
                  "legendgroup": "Facebook, Instagram, Pinterest",
                  "marker": {
                    "color": "#B6E880",
                    "pattern": {
                      "shape": ""
                    }
                  },
                  "name": "Facebook, Instagram, Pinterest",
                  "offsetgroup": "Facebook, Instagram, Pinterest",
                  "orientation": "v",
                  "showlegend": true,
                  "textposition": "auto",
                  "type": "bar",
                  "x": [
                    "Female"
                  ],
                  "xaxis": "x",
                  "y": [
                    1
                  ],
                  "yaxis": "y"
                },
                {
                  "alignmentgroup": "True",
                  "hovertemplate": "Which social media network do they use?=Facebook, Instagram, Reddit, TikTok<br>Gender=%{x}<br>Number of users=%{y}<extra></extra>",
                  "legendgroup": "Facebook, Instagram, Reddit, TikTok",
                  "marker": {
                    "color": "#FF97FF",
                    "pattern": {
                      "shape": ""
                    }
                  },
                  "name": "Facebook, Instagram, Reddit, TikTok",
                  "offsetgroup": "Facebook, Instagram, Reddit, TikTok",
                  "orientation": "v",
                  "showlegend": true,
                  "textposition": "auto",
                  "type": "bar",
                  "x": [
                    "Male"
                  ],
                  "xaxis": "x",
                  "y": [
                    1
                  ],
                  "yaxis": "y"
                },
                {
                  "alignmentgroup": "True",
                  "hovertemplate": "Which social media network do they use?=Facebook, Instagram, Snapchat<br>Gender=%{x}<br>Number of users=%{y}<extra></extra>",
                  "legendgroup": "Facebook, Instagram, Snapchat",
                  "marker": {
                    "color": "#FECB52",
                    "pattern": {
                      "shape": ""
                    }
                  },
                  "name": "Facebook, Instagram, Snapchat",
                  "offsetgroup": "Facebook, Instagram, Snapchat",
                  "orientation": "v",
                  "showlegend": true,
                  "textposition": "auto",
                  "type": "bar",
                  "x": [
                    "Female",
                    "Male"
                  ],
                  "xaxis": "x",
                  "y": [
                    2,
                    1
                  ],
                  "yaxis": "y"
                },
                {
                  "alignmentgroup": "True",
                  "hovertemplate": "Which social media network do they use?=Facebook, Instagram, Snapchat, Discord, Pinterest, TikTok<br>Gender=%{x}<br>Number of users=%{y}<extra></extra>",
                  "legendgroup": "Facebook, Instagram, Snapchat, Discord, Pinterest, TikTok",
                  "marker": {
                    "color": "#636efa",
                    "pattern": {
                      "shape": ""
                    }
                  },
                  "name": "Facebook, Instagram, Snapchat, Discord, Pinterest, TikTok",
                  "offsetgroup": "Facebook, Instagram, Snapchat, Discord, Pinterest, TikTok",
                  "orientation": "v",
                  "showlegend": true,
                  "textposition": "auto",
                  "type": "bar",
                  "x": [
                    "Female"
                  ],
                  "xaxis": "x",
                  "y": [
                    1
                  ],
                  "yaxis": "y"
                },
                {
                  "alignmentgroup": "True",
                  "hovertemplate": "Which social media network do they use?=Facebook, Instagram, Snapchat, Pinterest, TikTok<br>Gender=%{x}<br>Number of users=%{y}<extra></extra>",
                  "legendgroup": "Facebook, Instagram, Snapchat, Pinterest, TikTok",
                  "marker": {
                    "color": "#EF553B",
                    "pattern": {
                      "shape": ""
                    }
                  },
                  "name": "Facebook, Instagram, Snapchat, Pinterest, TikTok",
                  "offsetgroup": "Facebook, Instagram, Snapchat, Pinterest, TikTok",
                  "orientation": "v",
                  "showlegend": true,
                  "textposition": "auto",
                  "type": "bar",
                  "x": [
                    "Female"
                  ],
                  "xaxis": "x",
                  "y": [
                    1
                  ],
                  "yaxis": "y"
                },
                {
                  "alignmentgroup": "True",
                  "hovertemplate": "Which social media network do they use?=Facebook, Instagram, TikTok<br>Gender=%{x}<br>Number of users=%{y}<extra></extra>",
                  "legendgroup": "Facebook, Instagram, TikTok",
                  "marker": {
                    "color": "#00cc96",
                    "pattern": {
                      "shape": ""
                    }
                  },
                  "name": "Facebook, Instagram, TikTok",
                  "offsetgroup": "Facebook, Instagram, TikTok",
                  "orientation": "v",
                  "showlegend": true,
                  "textposition": "auto",
                  "type": "bar",
                  "x": [
                    "Female"
                  ],
                  "xaxis": "x",
                  "y": [
                    2
                  ],
                  "yaxis": "y"
                },
                {
                  "alignmentgroup": "True",
                  "hovertemplate": "Which social media network do they use?=Facebook, Instagram, YouTube<br>Gender=%{x}<br>Number of users=%{y}<extra></extra>",
                  "legendgroup": "Facebook, Instagram, YouTube",
                  "marker": {
                    "color": "#ab63fa",
                    "pattern": {
                      "shape": ""
                    }
                  },
                  "name": "Facebook, Instagram, YouTube",
                  "offsetgroup": "Facebook, Instagram, YouTube",
                  "orientation": "v",
                  "showlegend": true,
                  "textposition": "auto",
                  "type": "bar",
                  "x": [
                    "Female",
                    "Male"
                  ],
                  "xaxis": "x",
                  "y": [
                    21,
                    11
                  ],
                  "yaxis": "y"
                },
                {
                  "alignmentgroup": "True",
                  "hovertemplate": "Which social media network do they use?=Facebook, Instagram, YouTube, Discord<br>Gender=%{x}<br>Number of users=%{y}<extra></extra>",
                  "legendgroup": "Facebook, Instagram, YouTube, Discord",
                  "marker": {
                    "color": "#FFA15A",
                    "pattern": {
                      "shape": ""
                    }
                  },
                  "name": "Facebook, Instagram, YouTube, Discord",
                  "offsetgroup": "Facebook, Instagram, YouTube, Discord",
                  "orientation": "v",
                  "showlegend": true,
                  "textposition": "auto",
                  "type": "bar",
                  "x": [
                    "Female",
                    "Male"
                  ],
                  "xaxis": "x",
                  "y": [
                    9,
                    9
                  ],
                  "yaxis": "y"
                },
                {
                  "alignmentgroup": "True",
                  "hovertemplate": "Which social media network do they use?=Facebook, Instagram, YouTube, Discord, Pinterest<br>Gender=%{x}<br>Number of users=%{y}<extra></extra>",
                  "legendgroup": "Facebook, Instagram, YouTube, Discord, Pinterest",
                  "marker": {
                    "color": "#19d3f3",
                    "pattern": {
                      "shape": ""
                    }
                  },
                  "name": "Facebook, Instagram, YouTube, Discord, Pinterest",
                  "offsetgroup": "Facebook, Instagram, YouTube, Discord, Pinterest",
                  "orientation": "v",
                  "showlegend": true,
                  "textposition": "auto",
                  "type": "bar",
                  "x": [
                    "Female",
                    "Male"
                  ],
                  "xaxis": "x",
                  "y": [
                    6,
                    1
                  ],
                  "yaxis": "y"
                },
                {
                  "alignmentgroup": "True",
                  "hovertemplate": "Which social media network do they use?=Facebook, Instagram, YouTube, Discord, Pinterest, TikTok<br>Gender=%{x}<br>Number of users=%{y}<extra></extra>",
                  "legendgroup": "Facebook, Instagram, YouTube, Discord, Pinterest, TikTok",
                  "marker": {
                    "color": "#FF6692",
                    "pattern": {
                      "shape": ""
                    }
                  },
                  "name": "Facebook, Instagram, YouTube, Discord, Pinterest, TikTok",
                  "offsetgroup": "Facebook, Instagram, YouTube, Discord, Pinterest, TikTok",
                  "orientation": "v",
                  "showlegend": true,
                  "textposition": "auto",
                  "type": "bar",
                  "x": [
                    "Male"
                  ],
                  "xaxis": "x",
                  "y": [
                    1
                  ],
                  "yaxis": "y"
                },
                {
                  "alignmentgroup": "True",
                  "hovertemplate": "Which social media network do they use?=Facebook, Instagram, YouTube, Discord, Reddit<br>Gender=%{x}<br>Number of users=%{y}<extra></extra>",
                  "legendgroup": "Facebook, Instagram, YouTube, Discord, Reddit",
                  "marker": {
                    "color": "#B6E880",
                    "pattern": {
                      "shape": ""
                    }
                  },
                  "name": "Facebook, Instagram, YouTube, Discord, Reddit",
                  "offsetgroup": "Facebook, Instagram, YouTube, Discord, Reddit",
                  "orientation": "v",
                  "showlegend": true,
                  "textposition": "auto",
                  "type": "bar",
                  "x": [
                    "Female",
                    "Male"
                  ],
                  "xaxis": "x",
                  "y": [
                    1,
                    3
                  ],
                  "yaxis": "y"
                },
                {
                  "alignmentgroup": "True",
                  "hovertemplate": "Which social media network do they use?=Facebook, Instagram, YouTube, Discord, Reddit, Pinterest<br>Gender=%{x}<br>Number of users=%{y}<extra></extra>",
                  "legendgroup": "Facebook, Instagram, YouTube, Discord, Reddit, Pinterest",
                  "marker": {
                    "color": "#FF97FF",
                    "pattern": {
                      "shape": ""
                    }
                  },
                  "name": "Facebook, Instagram, YouTube, Discord, Reddit, Pinterest",
                  "offsetgroup": "Facebook, Instagram, YouTube, Discord, Reddit, Pinterest",
                  "orientation": "v",
                  "showlegend": true,
                  "textposition": "auto",
                  "type": "bar",
                  "x": [
                    "Male"
                  ],
                  "xaxis": "x",
                  "y": [
                    2
                  ],
                  "yaxis": "y"
                },
                {
                  "alignmentgroup": "True",
                  "hovertemplate": "Which social media network do they use?=Facebook, Instagram, YouTube, Discord, Reddit, TikTok<br>Gender=%{x}<br>Number of users=%{y}<extra></extra>",
                  "legendgroup": "Facebook, Instagram, YouTube, Discord, Reddit, TikTok",
                  "marker": {
                    "color": "#FECB52",
                    "pattern": {
                      "shape": ""
                    }
                  },
                  "name": "Facebook, Instagram, YouTube, Discord, Reddit, TikTok",
                  "offsetgroup": "Facebook, Instagram, YouTube, Discord, Reddit, TikTok",
                  "orientation": "v",
                  "showlegend": true,
                  "textposition": "auto",
                  "type": "bar",
                  "x": [
                    "Male"
                  ],
                  "xaxis": "x",
                  "y": [
                    1
                  ],
                  "yaxis": "y"
                },
                {
                  "alignmentgroup": "True",
                  "hovertemplate": "Which social media network do they use?=Facebook, Instagram, YouTube, Pinterest<br>Gender=%{x}<br>Number of users=%{y}<extra></extra>",
                  "legendgroup": "Facebook, Instagram, YouTube, Pinterest",
                  "marker": {
                    "color": "#636efa",
                    "pattern": {
                      "shape": ""
                    }
                  },
                  "name": "Facebook, Instagram, YouTube, Pinterest",
                  "offsetgroup": "Facebook, Instagram, YouTube, Pinterest",
                  "orientation": "v",
                  "showlegend": true,
                  "textposition": "auto",
                  "type": "bar",
                  "x": [
                    "Female",
                    "Male"
                  ],
                  "xaxis": "x",
                  "y": [
                    14,
                    1
                  ],
                  "yaxis": "y"
                },
                {
                  "alignmentgroup": "True",
                  "hovertemplate": "Which social media network do they use?=Facebook, Instagram, YouTube, Pinterest, TikTok<br>Gender=%{x}<br>Number of users=%{y}<extra></extra>",
                  "legendgroup": "Facebook, Instagram, YouTube, Pinterest, TikTok",
                  "marker": {
                    "color": "#EF553B",
                    "pattern": {
                      "shape": ""
                    }
                  },
                  "name": "Facebook, Instagram, YouTube, Pinterest, TikTok",
                  "offsetgroup": "Facebook, Instagram, YouTube, Pinterest, TikTok",
                  "orientation": "v",
                  "showlegend": true,
                  "textposition": "auto",
                  "type": "bar",
                  "x": [
                    "Female"
                  ],
                  "xaxis": "x",
                  "y": [
                    1
                  ],
                  "yaxis": "y"
                },
                {
                  "alignmentgroup": "True",
                  "hovertemplate": "Which social media network do they use?=Facebook, Instagram, YouTube, Reddit<br>Gender=%{x}<br>Number of users=%{y}<extra></extra>",
                  "legendgroup": "Facebook, Instagram, YouTube, Reddit",
                  "marker": {
                    "color": "#00cc96",
                    "pattern": {
                      "shape": ""
                    }
                  },
                  "name": "Facebook, Instagram, YouTube, Reddit",
                  "offsetgroup": "Facebook, Instagram, YouTube, Reddit",
                  "orientation": "v",
                  "showlegend": true,
                  "textposition": "auto",
                  "type": "bar",
                  "x": [
                    "Male"
                  ],
                  "xaxis": "x",
                  "y": [
                    2
                  ],
                  "yaxis": "y"
                },
                {
                  "alignmentgroup": "True",
                  "hovertemplate": "Which social media network do they use?=Facebook, Instagram, YouTube, Reddit, Pinterest<br>Gender=%{x}<br>Number of users=%{y}<extra></extra>",
                  "legendgroup": "Facebook, Instagram, YouTube, Reddit, Pinterest",
                  "marker": {
                    "color": "#ab63fa",
                    "pattern": {
                      "shape": ""
                    }
                  },
                  "name": "Facebook, Instagram, YouTube, Reddit, Pinterest",
                  "offsetgroup": "Facebook, Instagram, YouTube, Reddit, Pinterest",
                  "orientation": "v",
                  "showlegend": true,
                  "textposition": "auto",
                  "type": "bar",
                  "x": [
                    "Female"
                  ],
                  "xaxis": "x",
                  "y": [
                    1
                  ],
                  "yaxis": "y"
                },
                {
                  "alignmentgroup": "True",
                  "hovertemplate": "Which social media network do they use?=Facebook, Instagram, YouTube, Reddit, Pinterest, TikTok<br>Gender=%{x}<br>Number of users=%{y}<extra></extra>",
                  "legendgroup": "Facebook, Instagram, YouTube, Reddit, Pinterest, TikTok",
                  "marker": {
                    "color": "#FFA15A",
                    "pattern": {
                      "shape": ""
                    }
                  },
                  "name": "Facebook, Instagram, YouTube, Reddit, Pinterest, TikTok",
                  "offsetgroup": "Facebook, Instagram, YouTube, Reddit, Pinterest, TikTok",
                  "orientation": "v",
                  "showlegend": true,
                  "textposition": "auto",
                  "type": "bar",
                  "x": [
                    "Male"
                  ],
                  "xaxis": "x",
                  "y": [
                    1
                  ],
                  "yaxis": "y"
                },
                {
                  "alignmentgroup": "True",
                  "hovertemplate": "Which social media network do they use?=Facebook, Instagram, YouTube, Reddit, TikTok<br>Gender=%{x}<br>Number of users=%{y}<extra></extra>",
                  "legendgroup": "Facebook, Instagram, YouTube, Reddit, TikTok",
                  "marker": {
                    "color": "#19d3f3",
                    "pattern": {
                      "shape": ""
                    }
                  },
                  "name": "Facebook, Instagram, YouTube, Reddit, TikTok",
                  "offsetgroup": "Facebook, Instagram, YouTube, Reddit, TikTok",
                  "orientation": "v",
                  "showlegend": true,
                  "textposition": "auto",
                  "type": "bar",
                  "x": [
                    "Female"
                  ],
                  "xaxis": "x",
                  "y": [
                    1
                  ],
                  "yaxis": "y"
                },
                {
                  "alignmentgroup": "True",
                  "hovertemplate": "Which social media network do they use?=Facebook, Instagram, YouTube, Snapchat<br>Gender=%{x}<br>Number of users=%{y}<extra></extra>",
                  "legendgroup": "Facebook, Instagram, YouTube, Snapchat",
                  "marker": {
                    "color": "#FF6692",
                    "pattern": {
                      "shape": ""
                    }
                  },
                  "name": "Facebook, Instagram, YouTube, Snapchat",
                  "offsetgroup": "Facebook, Instagram, YouTube, Snapchat",
                  "orientation": "v",
                  "showlegend": true,
                  "textposition": "auto",
                  "type": "bar",
                  "x": [
                    "Female",
                    "Male",
                    "There are others???"
                  ],
                  "xaxis": "x",
                  "y": [
                    20,
                    4,
                    1
                  ],
                  "yaxis": "y"
                },
                {
                  "alignmentgroup": "True",
                  "hovertemplate": "Which social media network do they use?=Facebook, Instagram, YouTube, Snapchat, Discord<br>Gender=%{x}<br>Number of users=%{y}<extra></extra>",
                  "legendgroup": "Facebook, Instagram, YouTube, Snapchat, Discord",
                  "marker": {
                    "color": "#B6E880",
                    "pattern": {
                      "shape": ""
                    }
                  },
                  "name": "Facebook, Instagram, YouTube, Snapchat, Discord",
                  "offsetgroup": "Facebook, Instagram, YouTube, Snapchat, Discord",
                  "orientation": "v",
                  "showlegend": true,
                  "textposition": "auto",
                  "type": "bar",
                  "x": [
                    "Female",
                    "Male"
                  ],
                  "xaxis": "x",
                  "y": [
                    8,
                    10
                  ],
                  "yaxis": "y"
                },
                {
                  "alignmentgroup": "True",
                  "hovertemplate": "Which social media network do they use?=Facebook, Instagram, YouTube, Snapchat, Discord, Pinterest<br>Gender=%{x}<br>Number of users=%{y}<extra></extra>",
                  "legendgroup": "Facebook, Instagram, YouTube, Snapchat, Discord, Pinterest",
                  "marker": {
                    "color": "#FF97FF",
                    "pattern": {
                      "shape": ""
                    }
                  },
                  "name": "Facebook, Instagram, YouTube, Snapchat, Discord, Pinterest",
                  "offsetgroup": "Facebook, Instagram, YouTube, Snapchat, Discord, Pinterest",
                  "orientation": "v",
                  "showlegend": true,
                  "textposition": "auto",
                  "type": "bar",
                  "x": [
                    "Female"
                  ],
                  "xaxis": "x",
                  "y": [
                    4
                  ],
                  "yaxis": "y"
                },
                {
                  "alignmentgroup": "True",
                  "hovertemplate": "Which social media network do they use?=Facebook, Instagram, YouTube, Snapchat, Discord, Pinterest, TikTok<br>Gender=%{x}<br>Number of users=%{y}<extra></extra>",
                  "legendgroup": "Facebook, Instagram, YouTube, Snapchat, Discord, Pinterest, TikTok",
                  "marker": {
                    "color": "#FECB52",
                    "pattern": {
                      "shape": ""
                    }
                  },
                  "name": "Facebook, Instagram, YouTube, Snapchat, Discord, Pinterest, TikTok",
                  "offsetgroup": "Facebook, Instagram, YouTube, Snapchat, Discord, Pinterest, TikTok",
                  "orientation": "v",
                  "showlegend": true,
                  "textposition": "auto",
                  "type": "bar",
                  "x": [
                    "Female",
                    "Male"
                  ],
                  "xaxis": "x",
                  "y": [
                    4,
                    1
                  ],
                  "yaxis": "y"
                },
                {
                  "alignmentgroup": "True",
                  "hovertemplate": "Which social media network do they use?=Facebook, Instagram, YouTube, Snapchat, Discord, Reddit<br>Gender=%{x}<br>Number of users=%{y}<extra></extra>",
                  "legendgroup": "Facebook, Instagram, YouTube, Snapchat, Discord, Reddit",
                  "marker": {
                    "color": "#636efa",
                    "pattern": {
                      "shape": ""
                    }
                  },
                  "name": "Facebook, Instagram, YouTube, Snapchat, Discord, Reddit",
                  "offsetgroup": "Facebook, Instagram, YouTube, Snapchat, Discord, Reddit",
                  "orientation": "v",
                  "showlegend": true,
                  "textposition": "auto",
                  "type": "bar",
                  "x": [
                    "Female",
                    "Male"
                  ],
                  "xaxis": "x",
                  "y": [
                    1,
                    3
                  ],
                  "yaxis": "y"
                },
                {
                  "alignmentgroup": "True",
                  "hovertemplate": "Which social media network do they use?=Facebook, Instagram, YouTube, Snapchat, Discord, Reddit, Pinterest<br>Gender=%{x}<br>Number of users=%{y}<extra></extra>",
                  "legendgroup": "Facebook, Instagram, YouTube, Snapchat, Discord, Reddit, Pinterest",
                  "marker": {
                    "color": "#EF553B",
                    "pattern": {
                      "shape": ""
                    }
                  },
                  "name": "Facebook, Instagram, YouTube, Snapchat, Discord, Reddit, Pinterest",
                  "offsetgroup": "Facebook, Instagram, YouTube, Snapchat, Discord, Reddit, Pinterest",
                  "orientation": "v",
                  "showlegend": true,
                  "textposition": "auto",
                  "type": "bar",
                  "x": [
                    "Male"
                  ],
                  "xaxis": "x",
                  "y": [
                    5
                  ],
                  "yaxis": "y"
                },
                {
                  "alignmentgroup": "True",
                  "hovertemplate": "Which social media network do they use?=Facebook, Instagram, YouTube, Snapchat, Discord, Reddit, Pinterest, TikTok<br>Gender=%{x}<br>Number of users=%{y}<extra></extra>",
                  "legendgroup": "Facebook, Instagram, YouTube, Snapchat, Discord, Reddit, Pinterest, TikTok",
                  "marker": {
                    "color": "#00cc96",
                    "pattern": {
                      "shape": ""
                    }
                  },
                  "name": "Facebook, Instagram, YouTube, Snapchat, Discord, Reddit, Pinterest, TikTok",
                  "offsetgroup": "Facebook, Instagram, YouTube, Snapchat, Discord, Reddit, Pinterest, TikTok",
                  "orientation": "v",
                  "showlegend": true,
                  "textposition": "auto",
                  "type": "bar",
                  "x": [
                    "Female"
                  ],
                  "xaxis": "x",
                  "y": [
                    5
                  ],
                  "yaxis": "y"
                },
                {
                  "alignmentgroup": "True",
                  "hovertemplate": "Which social media network do they use?=Facebook, Instagram, YouTube, Snapchat, Discord, Reddit, TikTok<br>Gender=%{x}<br>Number of users=%{y}<extra></extra>",
                  "legendgroup": "Facebook, Instagram, YouTube, Snapchat, Discord, Reddit, TikTok",
                  "marker": {
                    "color": "#ab63fa",
                    "pattern": {
                      "shape": ""
                    }
                  },
                  "name": "Facebook, Instagram, YouTube, Snapchat, Discord, Reddit, TikTok",
                  "offsetgroup": "Facebook, Instagram, YouTube, Snapchat, Discord, Reddit, TikTok",
                  "orientation": "v",
                  "showlegend": true,
                  "textposition": "auto",
                  "type": "bar",
                  "x": [
                    "Male"
                  ],
                  "xaxis": "x",
                  "y": [
                    2
                  ],
                  "yaxis": "y"
                },
                {
                  "alignmentgroup": "True",
                  "hovertemplate": "Which social media network do they use?=Facebook, Instagram, YouTube, Snapchat, Discord, TikTok<br>Gender=%{x}<br>Number of users=%{y}<extra></extra>",
                  "legendgroup": "Facebook, Instagram, YouTube, Snapchat, Discord, TikTok",
                  "marker": {
                    "color": "#FFA15A",
                    "pattern": {
                      "shape": ""
                    }
                  },
                  "name": "Facebook, Instagram, YouTube, Snapchat, Discord, TikTok",
                  "offsetgroup": "Facebook, Instagram, YouTube, Snapchat, Discord, TikTok",
                  "orientation": "v",
                  "showlegend": true,
                  "textposition": "auto",
                  "type": "bar",
                  "x": [
                    "Female",
                    "Male"
                  ],
                  "xaxis": "x",
                  "y": [
                    2,
                    3
                  ],
                  "yaxis": "y"
                },
                {
                  "alignmentgroup": "True",
                  "hovertemplate": "Which social media network do they use?=Facebook, Instagram, YouTube, Snapchat, Pinterest<br>Gender=%{x}<br>Number of users=%{y}<extra></extra>",
                  "legendgroup": "Facebook, Instagram, YouTube, Snapchat, Pinterest",
                  "marker": {
                    "color": "#19d3f3",
                    "pattern": {
                      "shape": ""
                    }
                  },
                  "name": "Facebook, Instagram, YouTube, Snapchat, Pinterest",
                  "offsetgroup": "Facebook, Instagram, YouTube, Snapchat, Pinterest",
                  "orientation": "v",
                  "showlegend": true,
                  "textposition": "auto",
                  "type": "bar",
                  "x": [
                    "Female",
                    "Male"
                  ],
                  "xaxis": "x",
                  "y": [
                    7,
                    1
                  ],
                  "yaxis": "y"
                },
                {
                  "alignmentgroup": "True",
                  "hovertemplate": "Which social media network do they use?=Facebook, Instagram, YouTube, Snapchat, Pinterest, TikTok<br>Gender=%{x}<br>Number of users=%{y}<extra></extra>",
                  "legendgroup": "Facebook, Instagram, YouTube, Snapchat, Pinterest, TikTok",
                  "marker": {
                    "color": "#FF6692",
                    "pattern": {
                      "shape": ""
                    }
                  },
                  "name": "Facebook, Instagram, YouTube, Snapchat, Pinterest, TikTok",
                  "offsetgroup": "Facebook, Instagram, YouTube, Snapchat, Pinterest, TikTok",
                  "orientation": "v",
                  "showlegend": true,
                  "textposition": "auto",
                  "type": "bar",
                  "x": [
                    "Female"
                  ],
                  "xaxis": "x",
                  "y": [
                    7
                  ],
                  "yaxis": "y"
                },
                {
                  "alignmentgroup": "True",
                  "hovertemplate": "Which social media network do they use?=Facebook, Instagram, YouTube, Snapchat, Reddit, Pinterest, TikTok<br>Gender=%{x}<br>Number of users=%{y}<extra></extra>",
                  "legendgroup": "Facebook, Instagram, YouTube, Snapchat, Reddit, Pinterest, TikTok",
                  "marker": {
                    "color": "#B6E880",
                    "pattern": {
                      "shape": ""
                    }
                  },
                  "name": "Facebook, Instagram, YouTube, Snapchat, Reddit, Pinterest, TikTok",
                  "offsetgroup": "Facebook, Instagram, YouTube, Snapchat, Reddit, Pinterest, TikTok",
                  "orientation": "v",
                  "showlegend": true,
                  "textposition": "auto",
                  "type": "bar",
                  "x": [
                    "Female",
                    "Non binary "
                  ],
                  "xaxis": "x",
                  "y": [
                    1,
                    1
                  ],
                  "yaxis": "y"
                },
                {
                  "alignmentgroup": "True",
                  "hovertemplate": "Which social media network do they use?=Facebook, Instagram, YouTube, Snapchat, TikTok<br>Gender=%{x}<br>Number of users=%{y}<extra></extra>",
                  "legendgroup": "Facebook, Instagram, YouTube, Snapchat, TikTok",
                  "marker": {
                    "color": "#FF97FF",
                    "pattern": {
                      "shape": ""
                    }
                  },
                  "name": "Facebook, Instagram, YouTube, Snapchat, TikTok",
                  "offsetgroup": "Facebook, Instagram, YouTube, Snapchat, TikTok",
                  "orientation": "v",
                  "showlegend": true,
                  "textposition": "auto",
                  "type": "bar",
                  "x": [
                    "Female"
                  ],
                  "xaxis": "x",
                  "y": [
                    3
                  ],
                  "yaxis": "y"
                },
                {
                  "alignmentgroup": "True",
                  "hovertemplate": "Which social media network do they use?=Facebook, Instagram, YouTube, TikTok<br>Gender=%{x}<br>Number of users=%{y}<extra></extra>",
                  "legendgroup": "Facebook, Instagram, YouTube, TikTok",
                  "marker": {
                    "color": "#FECB52",
                    "pattern": {
                      "shape": ""
                    }
                  },
                  "name": "Facebook, Instagram, YouTube, TikTok",
                  "offsetgroup": "Facebook, Instagram, YouTube, TikTok",
                  "orientation": "v",
                  "showlegend": true,
                  "textposition": "auto",
                  "type": "bar",
                  "x": [
                    "Female",
                    "Male"
                  ],
                  "xaxis": "x",
                  "y": [
                    2,
                    2
                  ],
                  "yaxis": "y"
                },
                {
                  "alignmentgroup": "True",
                  "hovertemplate": "Which social media network do they use?=Facebook, Snapchat, Reddit<br>Gender=%{x}<br>Number of users=%{y}<extra></extra>",
                  "legendgroup": "Facebook, Snapchat, Reddit",
                  "marker": {
                    "color": "#636efa",
                    "pattern": {
                      "shape": ""
                    }
                  },
                  "name": "Facebook, Snapchat, Reddit",
                  "offsetgroup": "Facebook, Snapchat, Reddit",
                  "orientation": "v",
                  "showlegend": true,
                  "textposition": "auto",
                  "type": "bar",
                  "x": [
                    "Male"
                  ],
                  "xaxis": "x",
                  "y": [
                    1
                  ],
                  "yaxis": "y"
                },
                {
                  "alignmentgroup": "True",
                  "hovertemplate": "Which social media network do they use?=Facebook, TikTok<br>Gender=%{x}<br>Number of users=%{y}<extra></extra>",
                  "legendgroup": "Facebook, TikTok",
                  "marker": {
                    "color": "#EF553B",
                    "pattern": {
                      "shape": ""
                    }
                  },
                  "name": "Facebook, TikTok",
                  "offsetgroup": "Facebook, TikTok",
                  "orientation": "v",
                  "showlegend": true,
                  "textposition": "auto",
                  "type": "bar",
                  "x": [
                    "Female"
                  ],
                  "xaxis": "x",
                  "y": [
                    1
                  ],
                  "yaxis": "y"
                },
                {
                  "alignmentgroup": "True",
                  "hovertemplate": "Which social media network do they use?=Facebook, Twitter<br>Gender=%{x}<br>Number of users=%{y}<extra></extra>",
                  "legendgroup": "Facebook, Twitter",
                  "marker": {
                    "color": "#00cc96",
                    "pattern": {
                      "shape": ""
                    }
                  },
                  "name": "Facebook, Twitter",
                  "offsetgroup": "Facebook, Twitter",
                  "orientation": "v",
                  "showlegend": true,
                  "textposition": "auto",
                  "type": "bar",
                  "x": [
                    "Female"
                  ],
                  "xaxis": "x",
                  "y": [
                    1
                  ],
                  "yaxis": "y"
                },
                {
                  "alignmentgroup": "True",
                  "hovertemplate": "Which social media network do they use?=Facebook, Twitter, Instagram, Snapchat, Reddit<br>Gender=%{x}<br>Number of users=%{y}<extra></extra>",
                  "legendgroup": "Facebook, Twitter, Instagram, Snapchat, Reddit",
                  "marker": {
                    "color": "#ab63fa",
                    "pattern": {
                      "shape": ""
                    }
                  },
                  "name": "Facebook, Twitter, Instagram, Snapchat, Reddit",
                  "offsetgroup": "Facebook, Twitter, Instagram, Snapchat, Reddit",
                  "orientation": "v",
                  "showlegend": true,
                  "textposition": "auto",
                  "type": "bar",
                  "x": [
                    "Male"
                  ],
                  "xaxis": "x",
                  "y": [
                    1
                  ],
                  "yaxis": "y"
                },
                {
                  "alignmentgroup": "True",
                  "hovertemplate": "Which social media network do they use?=Facebook, Twitter, Instagram, YouTube<br>Gender=%{x}<br>Number of users=%{y}<extra></extra>",
                  "legendgroup": "Facebook, Twitter, Instagram, YouTube",
                  "marker": {
                    "color": "#FFA15A",
                    "pattern": {
                      "shape": ""
                    }
                  },
                  "name": "Facebook, Twitter, Instagram, YouTube",
                  "offsetgroup": "Facebook, Twitter, Instagram, YouTube",
                  "orientation": "v",
                  "showlegend": true,
                  "textposition": "auto",
                  "type": "bar",
                  "x": [
                    "Female",
                    "Male"
                  ],
                  "xaxis": "x",
                  "y": [
                    6,
                    8
                  ],
                  "yaxis": "y"
                },
                {
                  "alignmentgroup": "True",
                  "hovertemplate": "Which social media network do they use?=Facebook, Twitter, Instagram, YouTube, Discord<br>Gender=%{x}<br>Number of users=%{y}<extra></extra>",
                  "legendgroup": "Facebook, Twitter, Instagram, YouTube, Discord",
                  "marker": {
                    "color": "#19d3f3",
                    "pattern": {
                      "shape": ""
                    }
                  },
                  "name": "Facebook, Twitter, Instagram, YouTube, Discord",
                  "offsetgroup": "Facebook, Twitter, Instagram, YouTube, Discord",
                  "orientation": "v",
                  "showlegend": true,
                  "textposition": "auto",
                  "type": "bar",
                  "x": [
                    "Female",
                    "Male",
                    "Nonbinary "
                  ],
                  "xaxis": "x",
                  "y": [
                    1,
                    1,
                    1
                  ],
                  "yaxis": "y"
                },
                {
                  "alignmentgroup": "True",
                  "hovertemplate": "Which social media network do they use?=Facebook, Twitter, Instagram, YouTube, Discord, Pinterest<br>Gender=%{x}<br>Number of users=%{y}<extra></extra>",
                  "legendgroup": "Facebook, Twitter, Instagram, YouTube, Discord, Pinterest",
                  "marker": {
                    "color": "#FF6692",
                    "pattern": {
                      "shape": ""
                    }
                  },
                  "name": "Facebook, Twitter, Instagram, YouTube, Discord, Pinterest",
                  "offsetgroup": "Facebook, Twitter, Instagram, YouTube, Discord, Pinterest",
                  "orientation": "v",
                  "showlegend": true,
                  "textposition": "auto",
                  "type": "bar",
                  "x": [
                    "Male"
                  ],
                  "xaxis": "x",
                  "y": [
                    2
                  ],
                  "yaxis": "y"
                },
                {
                  "alignmentgroup": "True",
                  "hovertemplate": "Which social media network do they use?=Facebook, Twitter, Instagram, YouTube, Discord, Pinterest, TikTok<br>Gender=%{x}<br>Number of users=%{y}<extra></extra>",
                  "legendgroup": "Facebook, Twitter, Instagram, YouTube, Discord, Pinterest, TikTok",
                  "marker": {
                    "color": "#B6E880",
                    "pattern": {
                      "shape": ""
                    }
                  },
                  "name": "Facebook, Twitter, Instagram, YouTube, Discord, Pinterest, TikTok",
                  "offsetgroup": "Facebook, Twitter, Instagram, YouTube, Discord, Pinterest, TikTok",
                  "orientation": "v",
                  "showlegend": true,
                  "textposition": "auto",
                  "type": "bar",
                  "x": [
                    "Female"
                  ],
                  "xaxis": "x",
                  "y": [
                    1
                  ],
                  "yaxis": "y"
                },
                {
                  "alignmentgroup": "True",
                  "hovertemplate": "Which social media network do they use?=Facebook, Twitter, Instagram, YouTube, Discord, Reddit<br>Gender=%{x}<br>Number of users=%{y}<extra></extra>",
                  "legendgroup": "Facebook, Twitter, Instagram, YouTube, Discord, Reddit",
                  "marker": {
                    "color": "#FF97FF",
                    "pattern": {
                      "shape": ""
                    }
                  },
                  "name": "Facebook, Twitter, Instagram, YouTube, Discord, Reddit",
                  "offsetgroup": "Facebook, Twitter, Instagram, YouTube, Discord, Reddit",
                  "orientation": "v",
                  "showlegend": true,
                  "textposition": "auto",
                  "type": "bar",
                  "x": [
                    "Female",
                    "Male"
                  ],
                  "xaxis": "x",
                  "y": [
                    1,
                    3
                  ],
                  "yaxis": "y"
                },
                {
                  "alignmentgroup": "True",
                  "hovertemplate": "Which social media network do they use?=Facebook, Twitter, Instagram, YouTube, Discord, Reddit, Pinterest<br>Gender=%{x}<br>Number of users=%{y}<extra></extra>",
                  "legendgroup": "Facebook, Twitter, Instagram, YouTube, Discord, Reddit, Pinterest",
                  "marker": {
                    "color": "#FECB52",
                    "pattern": {
                      "shape": ""
                    }
                  },
                  "name": "Facebook, Twitter, Instagram, YouTube, Discord, Reddit, Pinterest",
                  "offsetgroup": "Facebook, Twitter, Instagram, YouTube, Discord, Reddit, Pinterest",
                  "orientation": "v",
                  "showlegend": true,
                  "textposition": "auto",
                  "type": "bar",
                  "x": [
                    "Male"
                  ],
                  "xaxis": "x",
                  "y": [
                    1
                  ],
                  "yaxis": "y"
                },
                {
                  "alignmentgroup": "True",
                  "hovertemplate": "Which social media network do they use?=Facebook, Twitter, Instagram, YouTube, Discord, Reddit, Pinterest, TikTok<br>Gender=%{x}<br>Number of users=%{y}<extra></extra>",
                  "legendgroup": "Facebook, Twitter, Instagram, YouTube, Discord, Reddit, Pinterest, TikTok",
                  "marker": {
                    "color": "#636efa",
                    "pattern": {
                      "shape": ""
                    }
                  },
                  "name": "Facebook, Twitter, Instagram, YouTube, Discord, Reddit, Pinterest, TikTok",
                  "offsetgroup": "Facebook, Twitter, Instagram, YouTube, Discord, Reddit, Pinterest, TikTok",
                  "orientation": "v",
                  "showlegend": true,
                  "textposition": "auto",
                  "type": "bar",
                  "x": [
                    "Male"
                  ],
                  "xaxis": "x",
                  "y": [
                    1
                  ],
                  "yaxis": "y"
                },
                {
                  "alignmentgroup": "True",
                  "hovertemplate": "Which social media network do they use?=Facebook, Twitter, Instagram, YouTube, Discord, Reddit, TikTok<br>Gender=%{x}<br>Number of users=%{y}<extra></extra>",
                  "legendgroup": "Facebook, Twitter, Instagram, YouTube, Discord, Reddit, TikTok",
                  "marker": {
                    "color": "#EF553B",
                    "pattern": {
                      "shape": ""
                    }
                  },
                  "name": "Facebook, Twitter, Instagram, YouTube, Discord, Reddit, TikTok",
                  "offsetgroup": "Facebook, Twitter, Instagram, YouTube, Discord, Reddit, TikTok",
                  "orientation": "v",
                  "showlegend": true,
                  "textposition": "auto",
                  "type": "bar",
                  "x": [
                    "Male"
                  ],
                  "xaxis": "x",
                  "y": [
                    2
                  ],
                  "yaxis": "y"
                },
                {
                  "alignmentgroup": "True",
                  "hovertemplate": "Which social media network do they use?=Facebook, Twitter, Instagram, YouTube, Pinterest<br>Gender=%{x}<br>Number of users=%{y}<extra></extra>",
                  "legendgroup": "Facebook, Twitter, Instagram, YouTube, Pinterest",
                  "marker": {
                    "color": "#00cc96",
                    "pattern": {
                      "shape": ""
                    }
                  },
                  "name": "Facebook, Twitter, Instagram, YouTube, Pinterest",
                  "offsetgroup": "Facebook, Twitter, Instagram, YouTube, Pinterest",
                  "orientation": "v",
                  "showlegend": true,
                  "textposition": "auto",
                  "type": "bar",
                  "x": [
                    "Female",
                    "Male"
                  ],
                  "xaxis": "x",
                  "y": [
                    5,
                    2
                  ],
                  "yaxis": "y"
                },
                {
                  "alignmentgroup": "True",
                  "hovertemplate": "Which social media network do they use?=Facebook, Twitter, Instagram, YouTube, Reddit<br>Gender=%{x}<br>Number of users=%{y}<extra></extra>",
                  "legendgroup": "Facebook, Twitter, Instagram, YouTube, Reddit",
                  "marker": {
                    "color": "#ab63fa",
                    "pattern": {
                      "shape": ""
                    }
                  },
                  "name": "Facebook, Twitter, Instagram, YouTube, Reddit",
                  "offsetgroup": "Facebook, Twitter, Instagram, YouTube, Reddit",
                  "orientation": "v",
                  "showlegend": true,
                  "textposition": "auto",
                  "type": "bar",
                  "x": [
                    "Female",
                    "Male"
                  ],
                  "xaxis": "x",
                  "y": [
                    1,
                    2
                  ],
                  "yaxis": "y"
                },
                {
                  "alignmentgroup": "True",
                  "hovertemplate": "Which social media network do they use?=Facebook, Twitter, Instagram, YouTube, Reddit, Pinterest<br>Gender=%{x}<br>Number of users=%{y}<extra></extra>",
                  "legendgroup": "Facebook, Twitter, Instagram, YouTube, Reddit, Pinterest",
                  "marker": {
                    "color": "#FFA15A",
                    "pattern": {
                      "shape": ""
                    }
                  },
                  "name": "Facebook, Twitter, Instagram, YouTube, Reddit, Pinterest",
                  "offsetgroup": "Facebook, Twitter, Instagram, YouTube, Reddit, Pinterest",
                  "orientation": "v",
                  "showlegend": true,
                  "textposition": "auto",
                  "type": "bar",
                  "x": [
                    "Female",
                    "Male"
                  ],
                  "xaxis": "x",
                  "y": [
                    2,
                    1
                  ],
                  "yaxis": "y"
                },
                {
                  "alignmentgroup": "True",
                  "hovertemplate": "Which social media network do they use?=Facebook, Twitter, Instagram, YouTube, Reddit, Pinterest, TikTok<br>Gender=%{x}<br>Number of users=%{y}<extra></extra>",
                  "legendgroup": "Facebook, Twitter, Instagram, YouTube, Reddit, Pinterest, TikTok",
                  "marker": {
                    "color": "#19d3f3",
                    "pattern": {
                      "shape": ""
                    }
                  },
                  "name": "Facebook, Twitter, Instagram, YouTube, Reddit, Pinterest, TikTok",
                  "offsetgroup": "Facebook, Twitter, Instagram, YouTube, Reddit, Pinterest, TikTok",
                  "orientation": "v",
                  "showlegend": true,
                  "textposition": "auto",
                  "type": "bar",
                  "x": [
                    "Female"
                  ],
                  "xaxis": "x",
                  "y": [
                    1
                  ],
                  "yaxis": "y"
                },
                {
                  "alignmentgroup": "True",
                  "hovertemplate": "Which social media network do they use?=Facebook, Twitter, Instagram, YouTube, Snapchat<br>Gender=%{x}<br>Number of users=%{y}<extra></extra>",
                  "legendgroup": "Facebook, Twitter, Instagram, YouTube, Snapchat",
                  "marker": {
                    "color": "#FF6692",
                    "pattern": {
                      "shape": ""
                    }
                  },
                  "name": "Facebook, Twitter, Instagram, YouTube, Snapchat",
                  "offsetgroup": "Facebook, Twitter, Instagram, YouTube, Snapchat",
                  "orientation": "v",
                  "showlegend": true,
                  "textposition": "auto",
                  "type": "bar",
                  "x": [
                    "Female",
                    "Male"
                  ],
                  "xaxis": "x",
                  "y": [
                    4,
                    1
                  ],
                  "yaxis": "y"
                },
                {
                  "alignmentgroup": "True",
                  "hovertemplate": "Which social media network do they use?=Facebook, Twitter, Instagram, YouTube, Snapchat, Discord<br>Gender=%{x}<br>Number of users=%{y}<extra></extra>",
                  "legendgroup": "Facebook, Twitter, Instagram, YouTube, Snapchat, Discord",
                  "marker": {
                    "color": "#B6E880",
                    "pattern": {
                      "shape": ""
                    }
                  },
                  "name": "Facebook, Twitter, Instagram, YouTube, Snapchat, Discord",
                  "offsetgroup": "Facebook, Twitter, Instagram, YouTube, Snapchat, Discord",
                  "orientation": "v",
                  "showlegend": true,
                  "textposition": "auto",
                  "type": "bar",
                  "x": [
                    "Female",
                    "Male"
                  ],
                  "xaxis": "x",
                  "y": [
                    1,
                    3
                  ],
                  "yaxis": "y"
                },
                {
                  "alignmentgroup": "True",
                  "hovertemplate": "Which social media network do they use?=Facebook, Twitter, Instagram, YouTube, Snapchat, Discord, Pinterest<br>Gender=%{x}<br>Number of users=%{y}<extra></extra>",
                  "legendgroup": "Facebook, Twitter, Instagram, YouTube, Snapchat, Discord, Pinterest",
                  "marker": {
                    "color": "#FF97FF",
                    "pattern": {
                      "shape": ""
                    }
                  },
                  "name": "Facebook, Twitter, Instagram, YouTube, Snapchat, Discord, Pinterest",
                  "offsetgroup": "Facebook, Twitter, Instagram, YouTube, Snapchat, Discord, Pinterest",
                  "orientation": "v",
                  "showlegend": true,
                  "textposition": "auto",
                  "type": "bar",
                  "x": [
                    "Female",
                    "Male"
                  ],
                  "xaxis": "x",
                  "y": [
                    3,
                    2
                  ],
                  "yaxis": "y"
                },
                {
                  "alignmentgroup": "True",
                  "hovertemplate": "Which social media network do they use?=Facebook, Twitter, Instagram, YouTube, Snapchat, Discord, Pinterest, TikTok<br>Gender=%{x}<br>Number of users=%{y}<extra></extra>",
                  "legendgroup": "Facebook, Twitter, Instagram, YouTube, Snapchat, Discord, Pinterest, TikTok",
                  "marker": {
                    "color": "#FECB52",
                    "pattern": {
                      "shape": ""
                    }
                  },
                  "name": "Facebook, Twitter, Instagram, YouTube, Snapchat, Discord, Pinterest, TikTok",
                  "offsetgroup": "Facebook, Twitter, Instagram, YouTube, Snapchat, Discord, Pinterest, TikTok",
                  "orientation": "v",
                  "showlegend": true,
                  "textposition": "auto",
                  "type": "bar",
                  "x": [
                    "Female",
                    "Male"
                  ],
                  "xaxis": "x",
                  "y": [
                    3,
                    1
                  ],
                  "yaxis": "y"
                },
                {
                  "alignmentgroup": "True",
                  "hovertemplate": "Which social media network do they use?=Facebook, Twitter, Instagram, YouTube, Snapchat, Discord, Reddit<br>Gender=%{x}<br>Number of users=%{y}<extra></extra>",
                  "legendgroup": "Facebook, Twitter, Instagram, YouTube, Snapchat, Discord, Reddit",
                  "marker": {
                    "color": "#636efa",
                    "pattern": {
                      "shape": ""
                    }
                  },
                  "name": "Facebook, Twitter, Instagram, YouTube, Snapchat, Discord, Reddit",
                  "offsetgroup": "Facebook, Twitter, Instagram, YouTube, Snapchat, Discord, Reddit",
                  "orientation": "v",
                  "showlegend": true,
                  "textposition": "auto",
                  "type": "bar",
                  "x": [
                    "Male"
                  ],
                  "xaxis": "x",
                  "y": [
                    8
                  ],
                  "yaxis": "y"
                },
                {
                  "alignmentgroup": "True",
                  "hovertemplate": "Which social media network do they use?=Facebook, Twitter, Instagram, YouTube, Snapchat, Discord, Reddit, Pinterest<br>Gender=%{x}<br>Number of users=%{y}<extra></extra>",
                  "legendgroup": "Facebook, Twitter, Instagram, YouTube, Snapchat, Discord, Reddit, Pinterest",
                  "marker": {
                    "color": "#EF553B",
                    "pattern": {
                      "shape": ""
                    }
                  },
                  "name": "Facebook, Twitter, Instagram, YouTube, Snapchat, Discord, Reddit, Pinterest",
                  "offsetgroup": "Facebook, Twitter, Instagram, YouTube, Snapchat, Discord, Reddit, Pinterest",
                  "orientation": "v",
                  "showlegend": true,
                  "textposition": "auto",
                  "type": "bar",
                  "x": [
                    "Female",
                    "Male"
                  ],
                  "xaxis": "x",
                  "y": [
                    1,
                    5
                  ],
                  "yaxis": "y"
                },
                {
                  "alignmentgroup": "True",
                  "hovertemplate": "Which social media network do they use?=Facebook, Twitter, Instagram, YouTube, Snapchat, Discord, Reddit, Pinterest, TikTok<br>Gender=%{x}<br>Number of users=%{y}<extra></extra>",
                  "legendgroup": "Facebook, Twitter, Instagram, YouTube, Snapchat, Discord, Reddit, Pinterest, TikTok",
                  "marker": {
                    "color": "#00cc96",
                    "pattern": {
                      "shape": ""
                    }
                  },
                  "name": "Facebook, Twitter, Instagram, YouTube, Snapchat, Discord, Reddit, Pinterest, TikTok",
                  "offsetgroup": "Facebook, Twitter, Instagram, YouTube, Snapchat, Discord, Reddit, Pinterest, TikTok",
                  "orientation": "v",
                  "showlegend": true,
                  "textposition": "auto",
                  "type": "bar",
                  "x": [
                    "Female",
                    "Male"
                  ],
                  "xaxis": "x",
                  "y": [
                    6,
                    5
                  ],
                  "yaxis": "y"
                },
                {
                  "alignmentgroup": "True",
                  "hovertemplate": "Which social media network do they use?=Facebook, Twitter, Instagram, YouTube, Snapchat, Discord, Reddit, TikTok<br>Gender=%{x}<br>Number of users=%{y}<extra></extra>",
                  "legendgroup": "Facebook, Twitter, Instagram, YouTube, Snapchat, Discord, Reddit, TikTok",
                  "marker": {
                    "color": "#ab63fa",
                    "pattern": {
                      "shape": ""
                    }
                  },
                  "name": "Facebook, Twitter, Instagram, YouTube, Snapchat, Discord, Reddit, TikTok",
                  "offsetgroup": "Facebook, Twitter, Instagram, YouTube, Snapchat, Discord, Reddit, TikTok",
                  "orientation": "v",
                  "showlegend": true,
                  "textposition": "auto",
                  "type": "bar",
                  "x": [
                    "Male"
                  ],
                  "xaxis": "x",
                  "y": [
                    1
                  ],
                  "yaxis": "y"
                },
                {
                  "alignmentgroup": "True",
                  "hovertemplate": "Which social media network do they use?=Facebook, Twitter, Instagram, YouTube, Snapchat, Discord, TikTok<br>Gender=%{x}<br>Number of users=%{y}<extra></extra>",
                  "legendgroup": "Facebook, Twitter, Instagram, YouTube, Snapchat, Discord, TikTok",
                  "marker": {
                    "color": "#FFA15A",
                    "pattern": {
                      "shape": ""
                    }
                  },
                  "name": "Facebook, Twitter, Instagram, YouTube, Snapchat, Discord, TikTok",
                  "offsetgroup": "Facebook, Twitter, Instagram, YouTube, Snapchat, Discord, TikTok",
                  "orientation": "v",
                  "showlegend": true,
                  "textposition": "auto",
                  "type": "bar",
                  "x": [
                    "Female",
                    "Male"
                  ],
                  "xaxis": "x",
                  "y": [
                    2,
                    3
                  ],
                  "yaxis": "y"
                },
                {
                  "alignmentgroup": "True",
                  "hovertemplate": "Which social media network do they use?=Facebook, Twitter, Instagram, YouTube, Snapchat, Pinterest<br>Gender=%{x}<br>Number of users=%{y}<extra></extra>",
                  "legendgroup": "Facebook, Twitter, Instagram, YouTube, Snapchat, Pinterest",
                  "marker": {
                    "color": "#19d3f3",
                    "pattern": {
                      "shape": ""
                    }
                  },
                  "name": "Facebook, Twitter, Instagram, YouTube, Snapchat, Pinterest",
                  "offsetgroup": "Facebook, Twitter, Instagram, YouTube, Snapchat, Pinterest",
                  "orientation": "v",
                  "showlegend": true,
                  "textposition": "auto",
                  "type": "bar",
                  "x": [
                    "Female",
                    "Male"
                  ],
                  "xaxis": "x",
                  "y": [
                    4,
                    2
                  ],
                  "yaxis": "y"
                },
                {
                  "alignmentgroup": "True",
                  "hovertemplate": "Which social media network do they use?=Facebook, Twitter, Instagram, YouTube, Snapchat, Reddit, Pinterest<br>Gender=%{x}<br>Number of users=%{y}<extra></extra>",
                  "legendgroup": "Facebook, Twitter, Instagram, YouTube, Snapchat, Reddit, Pinterest",
                  "marker": {
                    "color": "#FF6692",
                    "pattern": {
                      "shape": ""
                    }
                  },
                  "name": "Facebook, Twitter, Instagram, YouTube, Snapchat, Reddit, Pinterest",
                  "offsetgroup": "Facebook, Twitter, Instagram, YouTube, Snapchat, Reddit, Pinterest",
                  "orientation": "v",
                  "showlegend": true,
                  "textposition": "auto",
                  "type": "bar",
                  "x": [
                    "Female"
                  ],
                  "xaxis": "x",
                  "y": [
                    1
                  ],
                  "yaxis": "y"
                },
                {
                  "alignmentgroup": "True",
                  "hovertemplate": "Which social media network do they use?=Facebook, Twitter, Instagram, YouTube, Snapchat, Reddit, TikTok<br>Gender=%{x}<br>Number of users=%{y}<extra></extra>",
                  "legendgroup": "Facebook, Twitter, Instagram, YouTube, Snapchat, Reddit, TikTok",
                  "marker": {
                    "color": "#B6E880",
                    "pattern": {
                      "shape": ""
                    }
                  },
                  "name": "Facebook, Twitter, Instagram, YouTube, Snapchat, Reddit, TikTok",
                  "offsetgroup": "Facebook, Twitter, Instagram, YouTube, Snapchat, Reddit, TikTok",
                  "orientation": "v",
                  "showlegend": true,
                  "textposition": "auto",
                  "type": "bar",
                  "x": [
                    "Male"
                  ],
                  "xaxis": "x",
                  "y": [
                    1
                  ],
                  "yaxis": "y"
                },
                {
                  "alignmentgroup": "True",
                  "hovertemplate": "Which social media network do they use?=Facebook, Twitter, Instagram, YouTube, Snapchat, TikTok<br>Gender=%{x}<br>Number of users=%{y}<extra></extra>",
                  "legendgroup": "Facebook, Twitter, Instagram, YouTube, Snapchat, TikTok",
                  "marker": {
                    "color": "#FF97FF",
                    "pattern": {
                      "shape": ""
                    }
                  },
                  "name": "Facebook, Twitter, Instagram, YouTube, Snapchat, TikTok",
                  "offsetgroup": "Facebook, Twitter, Instagram, YouTube, Snapchat, TikTok",
                  "orientation": "v",
                  "showlegend": true,
                  "textposition": "auto",
                  "type": "bar",
                  "x": [
                    "Female"
                  ],
                  "xaxis": "x",
                  "y": [
                    3
                  ],
                  "yaxis": "y"
                },
                {
                  "alignmentgroup": "True",
                  "hovertemplate": "Which social media network do they use?=Facebook, Twitter, YouTube<br>Gender=%{x}<br>Number of users=%{y}<extra></extra>",
                  "legendgroup": "Facebook, Twitter, YouTube",
                  "marker": {
                    "color": "#FECB52",
                    "pattern": {
                      "shape": ""
                    }
                  },
                  "name": "Facebook, Twitter, YouTube",
                  "offsetgroup": "Facebook, Twitter, YouTube",
                  "orientation": "v",
                  "showlegend": true,
                  "textposition": "auto",
                  "type": "bar",
                  "x": [
                    "Male"
                  ],
                  "xaxis": "x",
                  "y": [
                    1
                  ],
                  "yaxis": "y"
                },
                {
                  "alignmentgroup": "True",
                  "hovertemplate": "Which social media network do they use?=Facebook, Twitter, YouTube, Discord, Pinterest<br>Gender=%{x}<br>Number of users=%{y}<extra></extra>",
                  "legendgroup": "Facebook, Twitter, YouTube, Discord, Pinterest",
                  "marker": {
                    "color": "#636efa",
                    "pattern": {
                      "shape": ""
                    }
                  },
                  "name": "Facebook, Twitter, YouTube, Discord, Pinterest",
                  "offsetgroup": "Facebook, Twitter, YouTube, Discord, Pinterest",
                  "orientation": "v",
                  "showlegend": true,
                  "textposition": "auto",
                  "type": "bar",
                  "x": [
                    "Female"
                  ],
                  "xaxis": "x",
                  "y": [
                    1
                  ],
                  "yaxis": "y"
                },
                {
                  "alignmentgroup": "True",
                  "hovertemplate": "Which social media network do they use?=Facebook, Twitter, YouTube, Discord, Reddit<br>Gender=%{x}<br>Number of users=%{y}<extra></extra>",
                  "legendgroup": "Facebook, Twitter, YouTube, Discord, Reddit",
                  "marker": {
                    "color": "#EF553B",
                    "pattern": {
                      "shape": ""
                    }
                  },
                  "name": "Facebook, Twitter, YouTube, Discord, Reddit",
                  "offsetgroup": "Facebook, Twitter, YouTube, Discord, Reddit",
                  "orientation": "v",
                  "showlegend": true,
                  "textposition": "auto",
                  "type": "bar",
                  "x": [
                    "Male"
                  ],
                  "xaxis": "x",
                  "y": [
                    1
                  ],
                  "yaxis": "y"
                },
                {
                  "alignmentgroup": "True",
                  "hovertemplate": "Which social media network do they use?=Facebook, Twitter, YouTube, Pinterest<br>Gender=%{x}<br>Number of users=%{y}<extra></extra>",
                  "legendgroup": "Facebook, Twitter, YouTube, Pinterest",
                  "marker": {
                    "color": "#00cc96",
                    "pattern": {
                      "shape": ""
                    }
                  },
                  "name": "Facebook, Twitter, YouTube, Pinterest",
                  "offsetgroup": "Facebook, Twitter, YouTube, Pinterest",
                  "orientation": "v",
                  "showlegend": true,
                  "textposition": "auto",
                  "type": "bar",
                  "x": [
                    "Male"
                  ],
                  "xaxis": "x",
                  "y": [
                    1
                  ],
                  "yaxis": "y"
                },
                {
                  "alignmentgroup": "True",
                  "hovertemplate": "Which social media network do they use?=Facebook, YouTube<br>Gender=%{x}<br>Number of users=%{y}<extra></extra>",
                  "legendgroup": "Facebook, YouTube",
                  "marker": {
                    "color": "#ab63fa",
                    "pattern": {
                      "shape": ""
                    }
                  },
                  "name": "Facebook, YouTube",
                  "offsetgroup": "Facebook, YouTube",
                  "orientation": "v",
                  "showlegend": true,
                  "textposition": "auto",
                  "type": "bar",
                  "x": [
                    "Female",
                    "Male"
                  ],
                  "xaxis": "x",
                  "y": [
                    17,
                    12
                  ],
                  "yaxis": "y"
                },
                {
                  "alignmentgroup": "True",
                  "hovertemplate": "Which social media network do they use?=Facebook, YouTube, Discord<br>Gender=%{x}<br>Number of users=%{y}<extra></extra>",
                  "legendgroup": "Facebook, YouTube, Discord",
                  "marker": {
                    "color": "#FFA15A",
                    "pattern": {
                      "shape": ""
                    }
                  },
                  "name": "Facebook, YouTube, Discord",
                  "offsetgroup": "Facebook, YouTube, Discord",
                  "orientation": "v",
                  "showlegend": true,
                  "textposition": "auto",
                  "type": "bar",
                  "x": [
                    "Female",
                    "Male"
                  ],
                  "xaxis": "x",
                  "y": [
                    2,
                    4
                  ],
                  "yaxis": "y"
                },
                {
                  "alignmentgroup": "True",
                  "hovertemplate": "Which social media network do they use?=Facebook, YouTube, Discord, Pinterest<br>Gender=%{x}<br>Number of users=%{y}<extra></extra>",
                  "legendgroup": "Facebook, YouTube, Discord, Pinterest",
                  "marker": {
                    "color": "#19d3f3",
                    "pattern": {
                      "shape": ""
                    }
                  },
                  "name": "Facebook, YouTube, Discord, Pinterest",
                  "offsetgroup": "Facebook, YouTube, Discord, Pinterest",
                  "orientation": "v",
                  "showlegend": true,
                  "textposition": "auto",
                  "type": "bar",
                  "x": [
                    "Female"
                  ],
                  "xaxis": "x",
                  "y": [
                    2
                  ],
                  "yaxis": "y"
                },
                {
                  "alignmentgroup": "True",
                  "hovertemplate": "Which social media network do they use?=Facebook, YouTube, Discord, Reddit<br>Gender=%{x}<br>Number of users=%{y}<extra></extra>",
                  "legendgroup": "Facebook, YouTube, Discord, Reddit",
                  "marker": {
                    "color": "#FF6692",
                    "pattern": {
                      "shape": ""
                    }
                  },
                  "name": "Facebook, YouTube, Discord, Reddit",
                  "offsetgroup": "Facebook, YouTube, Discord, Reddit",
                  "orientation": "v",
                  "showlegend": true,
                  "textposition": "auto",
                  "type": "bar",
                  "x": [
                    "Male"
                  ],
                  "xaxis": "x",
                  "y": [
                    4
                  ],
                  "yaxis": "y"
                },
                {
                  "alignmentgroup": "True",
                  "hovertemplate": "Which social media network do they use?=Facebook, YouTube, Discord, Reddit, Pinterest<br>Gender=%{x}<br>Number of users=%{y}<extra></extra>",
                  "legendgroup": "Facebook, YouTube, Discord, Reddit, Pinterest",
                  "marker": {
                    "color": "#B6E880",
                    "pattern": {
                      "shape": ""
                    }
                  },
                  "name": "Facebook, YouTube, Discord, Reddit, Pinterest",
                  "offsetgroup": "Facebook, YouTube, Discord, Reddit, Pinterest",
                  "orientation": "v",
                  "showlegend": true,
                  "textposition": "auto",
                  "type": "bar",
                  "x": [
                    "Female"
                  ],
                  "xaxis": "x",
                  "y": [
                    1
                  ],
                  "yaxis": "y"
                },
                {
                  "alignmentgroup": "True",
                  "hovertemplate": "Which social media network do they use?=Facebook, YouTube, Pinterest<br>Gender=%{x}<br>Number of users=%{y}<extra></extra>",
                  "legendgroup": "Facebook, YouTube, Pinterest",
                  "marker": {
                    "color": "#FF97FF",
                    "pattern": {
                      "shape": ""
                    }
                  },
                  "name": "Facebook, YouTube, Pinterest",
                  "offsetgroup": "Facebook, YouTube, Pinterest",
                  "orientation": "v",
                  "showlegend": true,
                  "textposition": "auto",
                  "type": "bar",
                  "x": [
                    "Female",
                    "Male"
                  ],
                  "xaxis": "x",
                  "y": [
                    1,
                    3
                  ],
                  "yaxis": "y"
                },
                {
                  "alignmentgroup": "True",
                  "hovertemplate": "Which social media network do they use?=Facebook, YouTube, Reddit<br>Gender=%{x}<br>Number of users=%{y}<extra></extra>",
                  "legendgroup": "Facebook, YouTube, Reddit",
                  "marker": {
                    "color": "#FECB52",
                    "pattern": {
                      "shape": ""
                    }
                  },
                  "name": "Facebook, YouTube, Reddit",
                  "offsetgroup": "Facebook, YouTube, Reddit",
                  "orientation": "v",
                  "showlegend": true,
                  "textposition": "auto",
                  "type": "bar",
                  "x": [
                    "Female",
                    "Male"
                  ],
                  "xaxis": "x",
                  "y": [
                    1,
                    1
                  ],
                  "yaxis": "y"
                },
                {
                  "alignmentgroup": "True",
                  "hovertemplate": "Which social media network do they use?=Facebook, YouTube, Snapchat<br>Gender=%{x}<br>Number of users=%{y}<extra></extra>",
                  "legendgroup": "Facebook, YouTube, Snapchat",
                  "marker": {
                    "color": "#636efa",
                    "pattern": {
                      "shape": ""
                    }
                  },
                  "name": "Facebook, YouTube, Snapchat",
                  "offsetgroup": "Facebook, YouTube, Snapchat",
                  "orientation": "v",
                  "showlegend": true,
                  "textposition": "auto",
                  "type": "bar",
                  "x": [
                    "Male"
                  ],
                  "xaxis": "x",
                  "y": [
                    1
                  ],
                  "yaxis": "y"
                },
                {
                  "alignmentgroup": "True",
                  "hovertemplate": "Which social media network do they use?=Facebook, YouTube, Snapchat, Discord<br>Gender=%{x}<br>Number of users=%{y}<extra></extra>",
                  "legendgroup": "Facebook, YouTube, Snapchat, Discord",
                  "marker": {
                    "color": "#EF553B",
                    "pattern": {
                      "shape": ""
                    }
                  },
                  "name": "Facebook, YouTube, Snapchat, Discord",
                  "offsetgroup": "Facebook, YouTube, Snapchat, Discord",
                  "orientation": "v",
                  "showlegend": true,
                  "textposition": "auto",
                  "type": "bar",
                  "x": [
                    "Female"
                  ],
                  "xaxis": "x",
                  "y": [
                    1
                  ],
                  "yaxis": "y"
                },
                {
                  "alignmentgroup": "True",
                  "hovertemplate": "Which social media network do they use?=Facebook, YouTube, Snapchat, Pinterest<br>Gender=%{x}<br>Number of users=%{y}<extra></extra>",
                  "legendgroup": "Facebook, YouTube, Snapchat, Pinterest",
                  "marker": {
                    "color": "#00cc96",
                    "pattern": {
                      "shape": ""
                    }
                  },
                  "name": "Facebook, YouTube, Snapchat, Pinterest",
                  "offsetgroup": "Facebook, YouTube, Snapchat, Pinterest",
                  "orientation": "v",
                  "showlegend": true,
                  "textposition": "auto",
                  "type": "bar",
                  "x": [
                    "Female"
                  ],
                  "xaxis": "x",
                  "y": [
                    1
                  ],
                  "yaxis": "y"
                },
                {
                  "alignmentgroup": "True",
                  "hovertemplate": "Which social media network do they use?=Facebook, YouTube, TikTok<br>Gender=%{x}<br>Number of users=%{y}<extra></extra>",
                  "legendgroup": "Facebook, YouTube, TikTok",
                  "marker": {
                    "color": "#ab63fa",
                    "pattern": {
                      "shape": ""
                    }
                  },
                  "name": "Facebook, YouTube, TikTok",
                  "offsetgroup": "Facebook, YouTube, TikTok",
                  "orientation": "v",
                  "showlegend": true,
                  "textposition": "auto",
                  "type": "bar",
                  "x": [
                    "Male"
                  ],
                  "xaxis": "x",
                  "y": [
                    2
                  ],
                  "yaxis": "y"
                },
                {
                  "alignmentgroup": "True",
                  "hovertemplate": "Which social media network do they use?=Instagram<br>Gender=%{x}<br>Number of users=%{y}<extra></extra>",
                  "legendgroup": "Instagram",
                  "marker": {
                    "color": "#FFA15A",
                    "pattern": {
                      "shape": ""
                    }
                  },
                  "name": "Instagram",
                  "offsetgroup": "Instagram",
                  "orientation": "v",
                  "showlegend": true,
                  "textposition": "auto",
                  "type": "bar",
                  "x": [
                    "Female",
                    "Male"
                  ],
                  "xaxis": "x",
                  "y": [
                    3,
                    1
                  ],
                  "yaxis": "y"
                },
                {
                  "alignmentgroup": "True",
                  "hovertemplate": "Which social media network do they use?=Instagram, Discord<br>Gender=%{x}<br>Number of users=%{y}<extra></extra>",
                  "legendgroup": "Instagram, Discord",
                  "marker": {
                    "color": "#19d3f3",
                    "pattern": {
                      "shape": ""
                    }
                  },
                  "name": "Instagram, Discord",
                  "offsetgroup": "Instagram, Discord",
                  "orientation": "v",
                  "showlegend": true,
                  "textposition": "auto",
                  "type": "bar",
                  "x": [
                    "Male"
                  ],
                  "xaxis": "x",
                  "y": [
                    1
                  ],
                  "yaxis": "y"
                },
                {
                  "alignmentgroup": "True",
                  "hovertemplate": "Which social media network do they use?=Instagram, Discord, Reddit, Pinterest, TikTok<br>Gender=%{x}<br>Number of users=%{y}<extra></extra>",
                  "legendgroup": "Instagram, Discord, Reddit, Pinterest, TikTok",
                  "marker": {
                    "color": "#FF6692",
                    "pattern": {
                      "shape": ""
                    }
                  },
                  "name": "Instagram, Discord, Reddit, Pinterest, TikTok",
                  "offsetgroup": "Instagram, Discord, Reddit, Pinterest, TikTok",
                  "orientation": "v",
                  "showlegend": true,
                  "textposition": "auto",
                  "type": "bar",
                  "x": [
                    "Male"
                  ],
                  "xaxis": "x",
                  "y": [
                    1
                  ],
                  "yaxis": "y"
                },
                {
                  "alignmentgroup": "True",
                  "hovertemplate": "Which social media network do they use?=Instagram, Reddit<br>Gender=%{x}<br>Number of users=%{y}<extra></extra>",
                  "legendgroup": "Instagram, Reddit",
                  "marker": {
                    "color": "#B6E880",
                    "pattern": {
                      "shape": ""
                    }
                  },
                  "name": "Instagram, Reddit",
                  "offsetgroup": "Instagram, Reddit",
                  "orientation": "v",
                  "showlegend": true,
                  "textposition": "auto",
                  "type": "bar",
                  "x": [
                    "Female"
                  ],
                  "xaxis": "x",
                  "y": [
                    1
                  ],
                  "yaxis": "y"
                },
                {
                  "alignmentgroup": "True",
                  "hovertemplate": "Which social media network do they use?=Instagram, YouTube<br>Gender=%{x}<br>Number of users=%{y}<extra></extra>",
                  "legendgroup": "Instagram, YouTube",
                  "marker": {
                    "color": "#FF97FF",
                    "pattern": {
                      "shape": ""
                    }
                  },
                  "name": "Instagram, YouTube",
                  "offsetgroup": "Instagram, YouTube",
                  "orientation": "v",
                  "showlegend": true,
                  "textposition": "auto",
                  "type": "bar",
                  "x": [
                    "Male"
                  ],
                  "xaxis": "x",
                  "y": [
                    3
                  ],
                  "yaxis": "y"
                },
                {
                  "alignmentgroup": "True",
                  "hovertemplate": "Which social media network do they use?=Instagram, YouTube, Discord<br>Gender=%{x}<br>Number of users=%{y}<extra></extra>",
                  "legendgroup": "Instagram, YouTube, Discord",
                  "marker": {
                    "color": "#FECB52",
                    "pattern": {
                      "shape": ""
                    }
                  },
                  "name": "Instagram, YouTube, Discord",
                  "offsetgroup": "Instagram, YouTube, Discord",
                  "orientation": "v",
                  "showlegend": true,
                  "textposition": "auto",
                  "type": "bar",
                  "x": [
                    "Male"
                  ],
                  "xaxis": "x",
                  "y": [
                    2
                  ],
                  "yaxis": "y"
                },
                {
                  "alignmentgroup": "True",
                  "hovertemplate": "Which social media network do they use?=Instagram, YouTube, Discord, Pinterest<br>Gender=%{x}<br>Number of users=%{y}<extra></extra>",
                  "legendgroup": "Instagram, YouTube, Discord, Pinterest",
                  "marker": {
                    "color": "#636efa",
                    "pattern": {
                      "shape": ""
                    }
                  },
                  "name": "Instagram, YouTube, Discord, Pinterest",
                  "offsetgroup": "Instagram, YouTube, Discord, Pinterest",
                  "orientation": "v",
                  "showlegend": true,
                  "textposition": "auto",
                  "type": "bar",
                  "x": [
                    "Female"
                  ],
                  "xaxis": "x",
                  "y": [
                    1
                  ],
                  "yaxis": "y"
                },
                {
                  "alignmentgroup": "True",
                  "hovertemplate": "Which social media network do they use?=Instagram, YouTube, Discord, Reddit<br>Gender=%{x}<br>Number of users=%{y}<extra></extra>",
                  "legendgroup": "Instagram, YouTube, Discord, Reddit",
                  "marker": {
                    "color": "#EF553B",
                    "pattern": {
                      "shape": ""
                    }
                  },
                  "name": "Instagram, YouTube, Discord, Reddit",
                  "offsetgroup": "Instagram, YouTube, Discord, Reddit",
                  "orientation": "v",
                  "showlegend": true,
                  "textposition": "auto",
                  "type": "bar",
                  "x": [
                    "Male"
                  ],
                  "xaxis": "x",
                  "y": [
                    2
                  ],
                  "yaxis": "y"
                },
                {
                  "alignmentgroup": "True",
                  "hovertemplate": "Which social media network do they use?=Instagram, YouTube, Discord, Reddit, Pinterest<br>Gender=%{x}<br>Number of users=%{y}<extra></extra>",
                  "legendgroup": "Instagram, YouTube, Discord, Reddit, Pinterest",
                  "marker": {
                    "color": "#00cc96",
                    "pattern": {
                      "shape": ""
                    }
                  },
                  "name": "Instagram, YouTube, Discord, Reddit, Pinterest",
                  "offsetgroup": "Instagram, YouTube, Discord, Reddit, Pinterest",
                  "orientation": "v",
                  "showlegend": true,
                  "textposition": "auto",
                  "type": "bar",
                  "x": [
                    "Male"
                  ],
                  "xaxis": "x",
                  "y": [
                    1
                  ],
                  "yaxis": "y"
                },
                {
                  "alignmentgroup": "True",
                  "hovertemplate": "Which social media network do they use?=Instagram, YouTube, Discord, Reddit, TikTok<br>Gender=%{x}<br>Number of users=%{y}<extra></extra>",
                  "legendgroup": "Instagram, YouTube, Discord, Reddit, TikTok",
                  "marker": {
                    "color": "#ab63fa",
                    "pattern": {
                      "shape": ""
                    }
                  },
                  "name": "Instagram, YouTube, Discord, Reddit, TikTok",
                  "offsetgroup": "Instagram, YouTube, Discord, Reddit, TikTok",
                  "orientation": "v",
                  "showlegend": true,
                  "textposition": "auto",
                  "type": "bar",
                  "x": [
                    "Female"
                  ],
                  "xaxis": "x",
                  "y": [
                    1
                  ],
                  "yaxis": "y"
                },
                {
                  "alignmentgroup": "True",
                  "hovertemplate": "Which social media network do they use?=Instagram, YouTube, Pinterest<br>Gender=%{x}<br>Number of users=%{y}<extra></extra>",
                  "legendgroup": "Instagram, YouTube, Pinterest",
                  "marker": {
                    "color": "#FFA15A",
                    "pattern": {
                      "shape": ""
                    }
                  },
                  "name": "Instagram, YouTube, Pinterest",
                  "offsetgroup": "Instagram, YouTube, Pinterest",
                  "orientation": "v",
                  "showlegend": true,
                  "textposition": "auto",
                  "type": "bar",
                  "x": [
                    "Female"
                  ],
                  "xaxis": "x",
                  "y": [
                    1
                  ],
                  "yaxis": "y"
                },
                {
                  "alignmentgroup": "True",
                  "hovertemplate": "Which social media network do they use?=Instagram, YouTube, Snapchat, Discord, Reddit<br>Gender=%{x}<br>Number of users=%{y}<extra></extra>",
                  "legendgroup": "Instagram, YouTube, Snapchat, Discord, Reddit",
                  "marker": {
                    "color": "#19d3f3",
                    "pattern": {
                      "shape": ""
                    }
                  },
                  "name": "Instagram, YouTube, Snapchat, Discord, Reddit",
                  "offsetgroup": "Instagram, YouTube, Snapchat, Discord, Reddit",
                  "orientation": "v",
                  "showlegend": true,
                  "textposition": "auto",
                  "type": "bar",
                  "x": [
                    "Male"
                  ],
                  "xaxis": "x",
                  "y": [
                    2
                  ],
                  "yaxis": "y"
                },
                {
                  "alignmentgroup": "True",
                  "hovertemplate": "Which social media network do they use?=Instagram, YouTube, Snapchat, Discord, Reddit, Pinterest, TikTok<br>Gender=%{x}<br>Number of users=%{y}<extra></extra>",
                  "legendgroup": "Instagram, YouTube, Snapchat, Discord, Reddit, Pinterest, TikTok",
                  "marker": {
                    "color": "#FF6692",
                    "pattern": {
                      "shape": ""
                    }
                  },
                  "name": "Instagram, YouTube, Snapchat, Discord, Reddit, Pinterest, TikTok",
                  "offsetgroup": "Instagram, YouTube, Snapchat, Discord, Reddit, Pinterest, TikTok",
                  "orientation": "v",
                  "showlegend": true,
                  "textposition": "auto",
                  "type": "bar",
                  "x": [
                    "Female"
                  ],
                  "xaxis": "x",
                  "y": [
                    1
                  ],
                  "yaxis": "y"
                },
                {
                  "alignmentgroup": "True",
                  "hovertemplate": "Which social media network do they use?=Instagram, YouTube, Snapchat, Pinterest<br>Gender=%{x}<br>Number of users=%{y}<extra></extra>",
                  "legendgroup": "Instagram, YouTube, Snapchat, Pinterest",
                  "marker": {
                    "color": "#B6E880",
                    "pattern": {
                      "shape": ""
                    }
                  },
                  "name": "Instagram, YouTube, Snapchat, Pinterest",
                  "offsetgroup": "Instagram, YouTube, Snapchat, Pinterest",
                  "orientation": "v",
                  "showlegend": true,
                  "textposition": "auto",
                  "type": "bar",
                  "x": [
                    "Male"
                  ],
                  "xaxis": "x",
                  "y": [
                    1
                  ],
                  "yaxis": "y"
                },
                {
                  "alignmentgroup": "True",
                  "hovertemplate": "Which social media network do they use?=Pinterest<br>Gender=%{x}<br>Number of users=%{y}<extra></extra>",
                  "legendgroup": "Pinterest",
                  "marker": {
                    "color": "#FF97FF",
                    "pattern": {
                      "shape": ""
                    }
                  },
                  "name": "Pinterest",
                  "offsetgroup": "Pinterest",
                  "orientation": "v",
                  "showlegend": true,
                  "textposition": "auto",
                  "type": "bar",
                  "x": [
                    "Female",
                    "Male"
                  ],
                  "xaxis": "x",
                  "y": [
                    1,
                    1
                  ],
                  "yaxis": "y"
                },
                {
                  "alignmentgroup": "True",
                  "hovertemplate": "Which social media network do they use?=Reddit<br>Gender=%{x}<br>Number of users=%{y}<extra></extra>",
                  "legendgroup": "Reddit",
                  "marker": {
                    "color": "#FECB52",
                    "pattern": {
                      "shape": ""
                    }
                  },
                  "name": "Reddit",
                  "offsetgroup": "Reddit",
                  "orientation": "v",
                  "showlegend": true,
                  "textposition": "auto",
                  "type": "bar",
                  "x": [
                    "Female",
                    "Male"
                  ],
                  "xaxis": "x",
                  "y": [
                    1,
                    2
                  ],
                  "yaxis": "y"
                },
                {
                  "alignmentgroup": "True",
                  "hovertemplate": "Which social media network do they use?=Reddit, Pinterest<br>Gender=%{x}<br>Number of users=%{y}<extra></extra>",
                  "legendgroup": "Reddit, Pinterest",
                  "marker": {
                    "color": "#636efa",
                    "pattern": {
                      "shape": ""
                    }
                  },
                  "name": "Reddit, Pinterest",
                  "offsetgroup": "Reddit, Pinterest",
                  "orientation": "v",
                  "showlegend": true,
                  "textposition": "auto",
                  "type": "bar",
                  "x": [
                    "Male"
                  ],
                  "xaxis": "x",
                  "y": [
                    1
                  ],
                  "yaxis": "y"
                },
                {
                  "alignmentgroup": "True",
                  "hovertemplate": "Which social media network do they use?=Twitter<br>Gender=%{x}<br>Number of users=%{y}<extra></extra>",
                  "legendgroup": "Twitter",
                  "marker": {
                    "color": "#EF553B",
                    "pattern": {
                      "shape": ""
                    }
                  },
                  "name": "Twitter",
                  "offsetgroup": "Twitter",
                  "orientation": "v",
                  "showlegend": true,
                  "textposition": "auto",
                  "type": "bar",
                  "x": [
                    "Male"
                  ],
                  "xaxis": "x",
                  "y": [
                    1
                  ],
                  "yaxis": "y"
                },
                {
                  "alignmentgroup": "True",
                  "hovertemplate": "Which social media network do they use?=Twitter, Discord, Reddit<br>Gender=%{x}<br>Number of users=%{y}<extra></extra>",
                  "legendgroup": "Twitter, Discord, Reddit",
                  "marker": {
                    "color": "#00cc96",
                    "pattern": {
                      "shape": ""
                    }
                  },
                  "name": "Twitter, Discord, Reddit",
                  "offsetgroup": "Twitter, Discord, Reddit",
                  "orientation": "v",
                  "showlegend": true,
                  "textposition": "auto",
                  "type": "bar",
                  "x": [
                    "Female",
                    "Male"
                  ],
                  "xaxis": "x",
                  "y": [
                    1,
                    1
                  ],
                  "yaxis": "y"
                },
                {
                  "alignmentgroup": "True",
                  "hovertemplate": "Which social media network do they use?=Twitter, Instagram, TikTok<br>Gender=%{x}<br>Number of users=%{y}<extra></extra>",
                  "legendgroup": "Twitter, Instagram, TikTok",
                  "marker": {
                    "color": "#ab63fa",
                    "pattern": {
                      "shape": ""
                    }
                  },
                  "name": "Twitter, Instagram, TikTok",
                  "offsetgroup": "Twitter, Instagram, TikTok",
                  "orientation": "v",
                  "showlegend": true,
                  "textposition": "auto",
                  "type": "bar",
                  "x": [
                    "Female"
                  ],
                  "xaxis": "x",
                  "y": [
                    1
                  ],
                  "yaxis": "y"
                },
                {
                  "alignmentgroup": "True",
                  "hovertemplate": "Which social media network do they use?=Twitter, Instagram, YouTube<br>Gender=%{x}<br>Number of users=%{y}<extra></extra>",
                  "legendgroup": "Twitter, Instagram, YouTube",
                  "marker": {
                    "color": "#FFA15A",
                    "pattern": {
                      "shape": ""
                    }
                  },
                  "name": "Twitter, Instagram, YouTube",
                  "offsetgroup": "Twitter, Instagram, YouTube",
                  "orientation": "v",
                  "showlegend": true,
                  "textposition": "auto",
                  "type": "bar",
                  "x": [
                    "Female"
                  ],
                  "xaxis": "x",
                  "y": [
                    3
                  ],
                  "yaxis": "y"
                },
                {
                  "alignmentgroup": "True",
                  "hovertemplate": "Which social media network do they use?=Twitter, Instagram, YouTube, Discord, Pinterest<br>Gender=%{x}<br>Number of users=%{y}<extra></extra>",
                  "legendgroup": "Twitter, Instagram, YouTube, Discord, Pinterest",
                  "marker": {
                    "color": "#19d3f3",
                    "pattern": {
                      "shape": ""
                    }
                  },
                  "name": "Twitter, Instagram, YouTube, Discord, Pinterest",
                  "offsetgroup": "Twitter, Instagram, YouTube, Discord, Pinterest",
                  "orientation": "v",
                  "showlegend": true,
                  "textposition": "auto",
                  "type": "bar",
                  "x": [
                    "Male"
                  ],
                  "xaxis": "x",
                  "y": [
                    1
                  ],
                  "yaxis": "y"
                },
                {
                  "alignmentgroup": "True",
                  "hovertemplate": "Which social media network do they use?=Twitter, Instagram, YouTube, Reddit, TikTok<br>Gender=%{x}<br>Number of users=%{y}<extra></extra>",
                  "legendgroup": "Twitter, Instagram, YouTube, Reddit, TikTok",
                  "marker": {
                    "color": "#FF6692",
                    "pattern": {
                      "shape": ""
                    }
                  },
                  "name": "Twitter, Instagram, YouTube, Reddit, TikTok",
                  "offsetgroup": "Twitter, Instagram, YouTube, Reddit, TikTok",
                  "orientation": "v",
                  "showlegend": true,
                  "textposition": "auto",
                  "type": "bar",
                  "x": [
                    "Male",
                    "Non-binary"
                  ],
                  "xaxis": "x",
                  "y": [
                    2,
                    1
                  ],
                  "yaxis": "y"
                },
                {
                  "alignmentgroup": "True",
                  "hovertemplate": "Which social media network do they use?=Twitter, Instagram, YouTube, Snapchat, Discord, Reddit, Pinterest, TikTok<br>Gender=%{x}<br>Number of users=%{y}<extra></extra>",
                  "legendgroup": "Twitter, Instagram, YouTube, Snapchat, Discord, Reddit, Pinterest, TikTok",
                  "marker": {
                    "color": "#B6E880",
                    "pattern": {
                      "shape": ""
                    }
                  },
                  "name": "Twitter, Instagram, YouTube, Snapchat, Discord, Reddit, Pinterest, TikTok",
                  "offsetgroup": "Twitter, Instagram, YouTube, Snapchat, Discord, Reddit, Pinterest, TikTok",
                  "orientation": "v",
                  "showlegend": true,
                  "textposition": "auto",
                  "type": "bar",
                  "x": [
                    "Female"
                  ],
                  "xaxis": "x",
                  "y": [
                    1
                  ],
                  "yaxis": "y"
                },
                {
                  "alignmentgroup": "True",
                  "hovertemplate": "Which social media network do they use?=Twitter, Instagram, YouTube, Snapchat, Discord, Reddit, TikTok<br>Gender=%{x}<br>Number of users=%{y}<extra></extra>",
                  "legendgroup": "Twitter, Instagram, YouTube, Snapchat, Discord, Reddit, TikTok",
                  "marker": {
                    "color": "#FF97FF",
                    "pattern": {
                      "shape": ""
                    }
                  },
                  "name": "Twitter, Instagram, YouTube, Snapchat, Discord, Reddit, TikTok",
                  "offsetgroup": "Twitter, Instagram, YouTube, Snapchat, Discord, Reddit, TikTok",
                  "orientation": "v",
                  "showlegend": true,
                  "textposition": "auto",
                  "type": "bar",
                  "x": [
                    "Male",
                    "unsure "
                  ],
                  "xaxis": "x",
                  "y": [
                    1,
                    1
                  ],
                  "yaxis": "y"
                },
                {
                  "alignmentgroup": "True",
                  "hovertemplate": "Which social media network do they use?=Twitter, Instagram, YouTube, Snapchat, Reddit, Pinterest, TikTok<br>Gender=%{x}<br>Number of users=%{y}<extra></extra>",
                  "legendgroup": "Twitter, Instagram, YouTube, Snapchat, Reddit, Pinterest, TikTok",
                  "marker": {
                    "color": "#FECB52",
                    "pattern": {
                      "shape": ""
                    }
                  },
                  "name": "Twitter, Instagram, YouTube, Snapchat, Reddit, Pinterest, TikTok",
                  "offsetgroup": "Twitter, Instagram, YouTube, Snapchat, Reddit, Pinterest, TikTok",
                  "orientation": "v",
                  "showlegend": true,
                  "textposition": "auto",
                  "type": "bar",
                  "x": [
                    "Female"
                  ],
                  "xaxis": "x",
                  "y": [
                    1
                  ],
                  "yaxis": "y"
                },
                {
                  "alignmentgroup": "True",
                  "hovertemplate": "Which social media network do they use?=Twitter, Instagram, YouTube, TikTok<br>Gender=%{x}<br>Number of users=%{y}<extra></extra>",
                  "legendgroup": "Twitter, Instagram, YouTube, TikTok",
                  "marker": {
                    "color": "#636efa",
                    "pattern": {
                      "shape": ""
                    }
                  },
                  "name": "Twitter, Instagram, YouTube, TikTok",
                  "offsetgroup": "Twitter, Instagram, YouTube, TikTok",
                  "orientation": "v",
                  "showlegend": true,
                  "textposition": "auto",
                  "type": "bar",
                  "x": [
                    "Female"
                  ],
                  "xaxis": "x",
                  "y": [
                    1
                  ],
                  "yaxis": "y"
                },
                {
                  "alignmentgroup": "True",
                  "hovertemplate": "Which social media network do they use?=Twitter, YouTube<br>Gender=%{x}<br>Number of users=%{y}<extra></extra>",
                  "legendgroup": "Twitter, YouTube",
                  "marker": {
                    "color": "#EF553B",
                    "pattern": {
                      "shape": ""
                    }
                  },
                  "name": "Twitter, YouTube",
                  "offsetgroup": "Twitter, YouTube",
                  "orientation": "v",
                  "showlegend": true,
                  "textposition": "auto",
                  "type": "bar",
                  "x": [
                    "Male"
                  ],
                  "xaxis": "x",
                  "y": [
                    2
                  ],
                  "yaxis": "y"
                },
                {
                  "alignmentgroup": "True",
                  "hovertemplate": "Which social media network do they use?=Twitter, YouTube, Discord, Reddit<br>Gender=%{x}<br>Number of users=%{y}<extra></extra>",
                  "legendgroup": "Twitter, YouTube, Discord, Reddit",
                  "marker": {
                    "color": "#00cc96",
                    "pattern": {
                      "shape": ""
                    }
                  },
                  "name": "Twitter, YouTube, Discord, Reddit",
                  "offsetgroup": "Twitter, YouTube, Discord, Reddit",
                  "orientation": "v",
                  "showlegend": true,
                  "textposition": "auto",
                  "type": "bar",
                  "x": [
                    "Male"
                  ],
                  "xaxis": "x",
                  "y": [
                    1
                  ],
                  "yaxis": "y"
                },
                {
                  "alignmentgroup": "True",
                  "hovertemplate": "Which social media network do they use?=Twitter, YouTube, Reddit<br>Gender=%{x}<br>Number of users=%{y}<extra></extra>",
                  "legendgroup": "Twitter, YouTube, Reddit",
                  "marker": {
                    "color": "#ab63fa",
                    "pattern": {
                      "shape": ""
                    }
                  },
                  "name": "Twitter, YouTube, Reddit",
                  "offsetgroup": "Twitter, YouTube, Reddit",
                  "orientation": "v",
                  "showlegend": true,
                  "textposition": "auto",
                  "type": "bar",
                  "x": [
                    "Male"
                  ],
                  "xaxis": "x",
                  "y": [
                    1
                  ],
                  "yaxis": "y"
                },
                {
                  "alignmentgroup": "True",
                  "hovertemplate": "Which social media network do they use?=YouTube<br>Gender=%{x}<br>Number of users=%{y}<extra></extra>",
                  "legendgroup": "YouTube",
                  "marker": {
                    "color": "#FFA15A",
                    "pattern": {
                      "shape": ""
                    }
                  },
                  "name": "YouTube",
                  "offsetgroup": "YouTube",
                  "orientation": "v",
                  "showlegend": true,
                  "textposition": "auto",
                  "type": "bar",
                  "x": [
                    "Female",
                    "Male"
                  ],
                  "xaxis": "x",
                  "y": [
                    3,
                    2
                  ],
                  "yaxis": "y"
                },
                {
                  "alignmentgroup": "True",
                  "hovertemplate": "Which social media network do they use?=YouTube, Discord<br>Gender=%{x}<br>Number of users=%{y}<extra></extra>",
                  "legendgroup": "YouTube, Discord",
                  "marker": {
                    "color": "#19d3f3",
                    "pattern": {
                      "shape": ""
                    }
                  },
                  "name": "YouTube, Discord",
                  "offsetgroup": "YouTube, Discord",
                  "orientation": "v",
                  "showlegend": true,
                  "textposition": "auto",
                  "type": "bar",
                  "x": [
                    "Male"
                  ],
                  "xaxis": "x",
                  "y": [
                    1
                  ],
                  "yaxis": "y"
                },
                {
                  "alignmentgroup": "True",
                  "hovertemplate": "Which social media network do they use?=YouTube, Discord, Reddit<br>Gender=%{x}<br>Number of users=%{y}<extra></extra>",
                  "legendgroup": "YouTube, Discord, Reddit",
                  "marker": {
                    "color": "#FF6692",
                    "pattern": {
                      "shape": ""
                    }
                  },
                  "name": "YouTube, Discord, Reddit",
                  "offsetgroup": "YouTube, Discord, Reddit",
                  "orientation": "v",
                  "showlegend": true,
                  "textposition": "auto",
                  "type": "bar",
                  "x": [
                    "Male"
                  ],
                  "xaxis": "x",
                  "y": [
                    4
                  ],
                  "yaxis": "y"
                },
                {
                  "alignmentgroup": "True",
                  "hovertemplate": "Which social media network do they use?=YouTube, Pinterest<br>Gender=%{x}<br>Number of users=%{y}<extra></extra>",
                  "legendgroup": "YouTube, Pinterest",
                  "marker": {
                    "color": "#B6E880",
                    "pattern": {
                      "shape": ""
                    }
                  },
                  "name": "YouTube, Pinterest",
                  "offsetgroup": "YouTube, Pinterest",
                  "orientation": "v",
                  "showlegend": true,
                  "textposition": "auto",
                  "type": "bar",
                  "x": [
                    "Female"
                  ],
                  "xaxis": "x",
                  "y": [
                    1
                  ],
                  "yaxis": "y"
                },
                {
                  "alignmentgroup": "True",
                  "hovertemplate": "Which social media network do they use?=YouTube, Reddit<br>Gender=%{x}<br>Number of users=%{y}<extra></extra>",
                  "legendgroup": "YouTube, Reddit",
                  "marker": {
                    "color": "#FF97FF",
                    "pattern": {
                      "shape": ""
                    }
                  },
                  "name": "YouTube, Reddit",
                  "offsetgroup": "YouTube, Reddit",
                  "orientation": "v",
                  "showlegend": true,
                  "textposition": "auto",
                  "type": "bar",
                  "x": [
                    "Female"
                  ],
                  "xaxis": "x",
                  "y": [
                    1
                  ],
                  "yaxis": "y"
                },
                {
                  "alignmentgroup": "True",
                  "hovertemplate": "Which social media network do they use?=YouTube, Snapchat, Discord<br>Gender=%{x}<br>Number of users=%{y}<extra></extra>",
                  "legendgroup": "YouTube, Snapchat, Discord",
                  "marker": {
                    "color": "#FECB52",
                    "pattern": {
                      "shape": ""
                    }
                  },
                  "name": "YouTube, Snapchat, Discord",
                  "offsetgroup": "YouTube, Snapchat, Discord",
                  "orientation": "v",
                  "showlegend": true,
                  "textposition": "auto",
                  "type": "bar",
                  "x": [
                    "Male"
                  ],
                  "xaxis": "x",
                  "y": [
                    1
                  ],
                  "yaxis": "y"
                },
                {
                  "alignmentgroup": "True",
                  "hovertemplate": "Which social media network do they use?=YouTube, Snapchat, Discord, Reddit<br>Gender=%{x}<br>Number of users=%{y}<extra></extra>",
                  "legendgroup": "YouTube, Snapchat, Discord, Reddit",
                  "marker": {
                    "color": "#636efa",
                    "pattern": {
                      "shape": ""
                    }
                  },
                  "name": "YouTube, Snapchat, Discord, Reddit",
                  "offsetgroup": "YouTube, Snapchat, Discord, Reddit",
                  "orientation": "v",
                  "showlegend": true,
                  "textposition": "auto",
                  "type": "bar",
                  "x": [
                    "Male"
                  ],
                  "xaxis": "x",
                  "y": [
                    1
                  ],
                  "yaxis": "y"
                }
              ],
              "layout": {
                "barmode": "relative",
                "legend": {
                  "title": {
                    "text": "Which social media network do they use?"
                  },
                  "tracegroupgap": 0
                },
                "margin": {
                  "t": 60
                },
                "template": {
                  "data": {
                    "bar": [
                      {
                        "error_x": {
                          "color": "#2a3f5f"
                        },
                        "error_y": {
                          "color": "#2a3f5f"
                        },
                        "marker": {
                          "line": {
                            "color": "#E5ECF6",
                            "width": 0.5
                          },
                          "pattern": {
                            "fillmode": "overlay",
                            "size": 10,
                            "solidity": 0.2
                          }
                        },
                        "type": "bar"
                      }
                    ],
                    "barpolar": [
                      {
                        "marker": {
                          "line": {
                            "color": "#E5ECF6",
                            "width": 0.5
                          },
                          "pattern": {
                            "fillmode": "overlay",
                            "size": 10,
                            "solidity": 0.2
                          }
                        },
                        "type": "barpolar"
                      }
                    ],
                    "carpet": [
                      {
                        "aaxis": {
                          "endlinecolor": "#2a3f5f",
                          "gridcolor": "white",
                          "linecolor": "white",
                          "minorgridcolor": "white",
                          "startlinecolor": "#2a3f5f"
                        },
                        "baxis": {
                          "endlinecolor": "#2a3f5f",
                          "gridcolor": "white",
                          "linecolor": "white",
                          "minorgridcolor": "white",
                          "startlinecolor": "#2a3f5f"
                        },
                        "type": "carpet"
                      }
                    ],
                    "choropleth": [
                      {
                        "colorbar": {
                          "outlinewidth": 0,
                          "ticks": ""
                        },
                        "type": "choropleth"
                      }
                    ],
                    "contour": [
                      {
                        "colorbar": {
                          "outlinewidth": 0,
                          "ticks": ""
                        },
                        "colorscale": [
                          [
                            0,
                            "#0d0887"
                          ],
                          [
                            0.1111111111111111,
                            "#46039f"
                          ],
                          [
                            0.2222222222222222,
                            "#7201a8"
                          ],
                          [
                            0.3333333333333333,
                            "#9c179e"
                          ],
                          [
                            0.4444444444444444,
                            "#bd3786"
                          ],
                          [
                            0.5555555555555556,
                            "#d8576b"
                          ],
                          [
                            0.6666666666666666,
                            "#ed7953"
                          ],
                          [
                            0.7777777777777778,
                            "#fb9f3a"
                          ],
                          [
                            0.8888888888888888,
                            "#fdca26"
                          ],
                          [
                            1,
                            "#f0f921"
                          ]
                        ],
                        "type": "contour"
                      }
                    ],
                    "contourcarpet": [
                      {
                        "colorbar": {
                          "outlinewidth": 0,
                          "ticks": ""
                        },
                        "type": "contourcarpet"
                      }
                    ],
                    "heatmap": [
                      {
                        "colorbar": {
                          "outlinewidth": 0,
                          "ticks": ""
                        },
                        "colorscale": [
                          [
                            0,
                            "#0d0887"
                          ],
                          [
                            0.1111111111111111,
                            "#46039f"
                          ],
                          [
                            0.2222222222222222,
                            "#7201a8"
                          ],
                          [
                            0.3333333333333333,
                            "#9c179e"
                          ],
                          [
                            0.4444444444444444,
                            "#bd3786"
                          ],
                          [
                            0.5555555555555556,
                            "#d8576b"
                          ],
                          [
                            0.6666666666666666,
                            "#ed7953"
                          ],
                          [
                            0.7777777777777778,
                            "#fb9f3a"
                          ],
                          [
                            0.8888888888888888,
                            "#fdca26"
                          ],
                          [
                            1,
                            "#f0f921"
                          ]
                        ],
                        "type": "heatmap"
                      }
                    ],
                    "heatmapgl": [
                      {
                        "colorbar": {
                          "outlinewidth": 0,
                          "ticks": ""
                        },
                        "colorscale": [
                          [
                            0,
                            "#0d0887"
                          ],
                          [
                            0.1111111111111111,
                            "#46039f"
                          ],
                          [
                            0.2222222222222222,
                            "#7201a8"
                          ],
                          [
                            0.3333333333333333,
                            "#9c179e"
                          ],
                          [
                            0.4444444444444444,
                            "#bd3786"
                          ],
                          [
                            0.5555555555555556,
                            "#d8576b"
                          ],
                          [
                            0.6666666666666666,
                            "#ed7953"
                          ],
                          [
                            0.7777777777777778,
                            "#fb9f3a"
                          ],
                          [
                            0.8888888888888888,
                            "#fdca26"
                          ],
                          [
                            1,
                            "#f0f921"
                          ]
                        ],
                        "type": "heatmapgl"
                      }
                    ],
                    "histogram": [
                      {
                        "marker": {
                          "pattern": {
                            "fillmode": "overlay",
                            "size": 10,
                            "solidity": 0.2
                          }
                        },
                        "type": "histogram"
                      }
                    ],
                    "histogram2d": [
                      {
                        "colorbar": {
                          "outlinewidth": 0,
                          "ticks": ""
                        },
                        "colorscale": [
                          [
                            0,
                            "#0d0887"
                          ],
                          [
                            0.1111111111111111,
                            "#46039f"
                          ],
                          [
                            0.2222222222222222,
                            "#7201a8"
                          ],
                          [
                            0.3333333333333333,
                            "#9c179e"
                          ],
                          [
                            0.4444444444444444,
                            "#bd3786"
                          ],
                          [
                            0.5555555555555556,
                            "#d8576b"
                          ],
                          [
                            0.6666666666666666,
                            "#ed7953"
                          ],
                          [
                            0.7777777777777778,
                            "#fb9f3a"
                          ],
                          [
                            0.8888888888888888,
                            "#fdca26"
                          ],
                          [
                            1,
                            "#f0f921"
                          ]
                        ],
                        "type": "histogram2d"
                      }
                    ],
                    "histogram2dcontour": [
                      {
                        "colorbar": {
                          "outlinewidth": 0,
                          "ticks": ""
                        },
                        "colorscale": [
                          [
                            0,
                            "#0d0887"
                          ],
                          [
                            0.1111111111111111,
                            "#46039f"
                          ],
                          [
                            0.2222222222222222,
                            "#7201a8"
                          ],
                          [
                            0.3333333333333333,
                            "#9c179e"
                          ],
                          [
                            0.4444444444444444,
                            "#bd3786"
                          ],
                          [
                            0.5555555555555556,
                            "#d8576b"
                          ],
                          [
                            0.6666666666666666,
                            "#ed7953"
                          ],
                          [
                            0.7777777777777778,
                            "#fb9f3a"
                          ],
                          [
                            0.8888888888888888,
                            "#fdca26"
                          ],
                          [
                            1,
                            "#f0f921"
                          ]
                        ],
                        "type": "histogram2dcontour"
                      }
                    ],
                    "mesh3d": [
                      {
                        "colorbar": {
                          "outlinewidth": 0,
                          "ticks": ""
                        },
                        "type": "mesh3d"
                      }
                    ],
                    "parcoords": [
                      {
                        "line": {
                          "colorbar": {
                            "outlinewidth": 0,
                            "ticks": ""
                          }
                        },
                        "type": "parcoords"
                      }
                    ],
                    "pie": [
                      {
                        "automargin": true,
                        "type": "pie"
                      }
                    ],
                    "scatter": [
                      {
                        "fillpattern": {
                          "fillmode": "overlay",
                          "size": 10,
                          "solidity": 0.2
                        },
                        "type": "scatter"
                      }
                    ],
                    "scatter3d": [
                      {
                        "line": {
                          "colorbar": {
                            "outlinewidth": 0,
                            "ticks": ""
                          }
                        },
                        "marker": {
                          "colorbar": {
                            "outlinewidth": 0,
                            "ticks": ""
                          }
                        },
                        "type": "scatter3d"
                      }
                    ],
                    "scattercarpet": [
                      {
                        "marker": {
                          "colorbar": {
                            "outlinewidth": 0,
                            "ticks": ""
                          }
                        },
                        "type": "scattercarpet"
                      }
                    ],
                    "scattergeo": [
                      {
                        "marker": {
                          "colorbar": {
                            "outlinewidth": 0,
                            "ticks": ""
                          }
                        },
                        "type": "scattergeo"
                      }
                    ],
                    "scattergl": [
                      {
                        "marker": {
                          "colorbar": {
                            "outlinewidth": 0,
                            "ticks": ""
                          }
                        },
                        "type": "scattergl"
                      }
                    ],
                    "scattermapbox": [
                      {
                        "marker": {
                          "colorbar": {
                            "outlinewidth": 0,
                            "ticks": ""
                          }
                        },
                        "type": "scattermapbox"
                      }
                    ],
                    "scatterpolar": [
                      {
                        "marker": {
                          "colorbar": {
                            "outlinewidth": 0,
                            "ticks": ""
                          }
                        },
                        "type": "scatterpolar"
                      }
                    ],
                    "scatterpolargl": [
                      {
                        "marker": {
                          "colorbar": {
                            "outlinewidth": 0,
                            "ticks": ""
                          }
                        },
                        "type": "scatterpolargl"
                      }
                    ],
                    "scatterternary": [
                      {
                        "marker": {
                          "colorbar": {
                            "outlinewidth": 0,
                            "ticks": ""
                          }
                        },
                        "type": "scatterternary"
                      }
                    ],
                    "surface": [
                      {
                        "colorbar": {
                          "outlinewidth": 0,
                          "ticks": ""
                        },
                        "colorscale": [
                          [
                            0,
                            "#0d0887"
                          ],
                          [
                            0.1111111111111111,
                            "#46039f"
                          ],
                          [
                            0.2222222222222222,
                            "#7201a8"
                          ],
                          [
                            0.3333333333333333,
                            "#9c179e"
                          ],
                          [
                            0.4444444444444444,
                            "#bd3786"
                          ],
                          [
                            0.5555555555555556,
                            "#d8576b"
                          ],
                          [
                            0.6666666666666666,
                            "#ed7953"
                          ],
                          [
                            0.7777777777777778,
                            "#fb9f3a"
                          ],
                          [
                            0.8888888888888888,
                            "#fdca26"
                          ],
                          [
                            1,
                            "#f0f921"
                          ]
                        ],
                        "type": "surface"
                      }
                    ],
                    "table": [
                      {
                        "cells": {
                          "fill": {
                            "color": "#EBF0F8"
                          },
                          "line": {
                            "color": "white"
                          }
                        },
                        "header": {
                          "fill": {
                            "color": "#C8D4E3"
                          },
                          "line": {
                            "color": "white"
                          }
                        },
                        "type": "table"
                      }
                    ]
                  },
                  "layout": {
                    "annotationdefaults": {
                      "arrowcolor": "#2a3f5f",
                      "arrowhead": 0,
                      "arrowwidth": 1
                    },
                    "autotypenumbers": "strict",
                    "coloraxis": {
                      "colorbar": {
                        "outlinewidth": 0,
                        "ticks": ""
                      }
                    },
                    "colorscale": {
                      "diverging": [
                        [
                          0,
                          "#8e0152"
                        ],
                        [
                          0.1,
                          "#c51b7d"
                        ],
                        [
                          0.2,
                          "#de77ae"
                        ],
                        [
                          0.3,
                          "#f1b6da"
                        ],
                        [
                          0.4,
                          "#fde0ef"
                        ],
                        [
                          0.5,
                          "#f7f7f7"
                        ],
                        [
                          0.6,
                          "#e6f5d0"
                        ],
                        [
                          0.7,
                          "#b8e186"
                        ],
                        [
                          0.8,
                          "#7fbc41"
                        ],
                        [
                          0.9,
                          "#4d9221"
                        ],
                        [
                          1,
                          "#276419"
                        ]
                      ],
                      "sequential": [
                        [
                          0,
                          "#0d0887"
                        ],
                        [
                          0.1111111111111111,
                          "#46039f"
                        ],
                        [
                          0.2222222222222222,
                          "#7201a8"
                        ],
                        [
                          0.3333333333333333,
                          "#9c179e"
                        ],
                        [
                          0.4444444444444444,
                          "#bd3786"
                        ],
                        [
                          0.5555555555555556,
                          "#d8576b"
                        ],
                        [
                          0.6666666666666666,
                          "#ed7953"
                        ],
                        [
                          0.7777777777777778,
                          "#fb9f3a"
                        ],
                        [
                          0.8888888888888888,
                          "#fdca26"
                        ],
                        [
                          1,
                          "#f0f921"
                        ]
                      ],
                      "sequentialminus": [
                        [
                          0,
                          "#0d0887"
                        ],
                        [
                          0.1111111111111111,
                          "#46039f"
                        ],
                        [
                          0.2222222222222222,
                          "#7201a8"
                        ],
                        [
                          0.3333333333333333,
                          "#9c179e"
                        ],
                        [
                          0.4444444444444444,
                          "#bd3786"
                        ],
                        [
                          0.5555555555555556,
                          "#d8576b"
                        ],
                        [
                          0.6666666666666666,
                          "#ed7953"
                        ],
                        [
                          0.7777777777777778,
                          "#fb9f3a"
                        ],
                        [
                          0.8888888888888888,
                          "#fdca26"
                        ],
                        [
                          1,
                          "#f0f921"
                        ]
                      ]
                    },
                    "colorway": [
                      "#636efa",
                      "#EF553B",
                      "#00cc96",
                      "#ab63fa",
                      "#FFA15A",
                      "#19d3f3",
                      "#FF6692",
                      "#B6E880",
                      "#FF97FF",
                      "#FECB52"
                    ],
                    "font": {
                      "color": "#2a3f5f"
                    },
                    "geo": {
                      "bgcolor": "white",
                      "lakecolor": "white",
                      "landcolor": "#E5ECF6",
                      "showlakes": true,
                      "showland": true,
                      "subunitcolor": "white"
                    },
                    "hoverlabel": {
                      "align": "left"
                    },
                    "hovermode": "closest",
                    "mapbox": {
                      "style": "light"
                    },
                    "paper_bgcolor": "white",
                    "plot_bgcolor": "#E5ECF6",
                    "polar": {
                      "angularaxis": {
                        "gridcolor": "white",
                        "linecolor": "white",
                        "ticks": ""
                      },
                      "bgcolor": "#E5ECF6",
                      "radialaxis": {
                        "gridcolor": "white",
                        "linecolor": "white",
                        "ticks": ""
                      }
                    },
                    "scene": {
                      "xaxis": {
                        "backgroundcolor": "#E5ECF6",
                        "gridcolor": "white",
                        "gridwidth": 2,
                        "linecolor": "white",
                        "showbackground": true,
                        "ticks": "",
                        "zerolinecolor": "white"
                      },
                      "yaxis": {
                        "backgroundcolor": "#E5ECF6",
                        "gridcolor": "white",
                        "gridwidth": 2,
                        "linecolor": "white",
                        "showbackground": true,
                        "ticks": "",
                        "zerolinecolor": "white"
                      },
                      "zaxis": {
                        "backgroundcolor": "#E5ECF6",
                        "gridcolor": "white",
                        "gridwidth": 2,
                        "linecolor": "white",
                        "showbackground": true,
                        "ticks": "",
                        "zerolinecolor": "white"
                      }
                    },
                    "shapedefaults": {
                      "line": {
                        "color": "#2a3f5f"
                      }
                    },
                    "ternary": {
                      "aaxis": {
                        "gridcolor": "white",
                        "linecolor": "white",
                        "ticks": ""
                      },
                      "baxis": {
                        "gridcolor": "white",
                        "linecolor": "white",
                        "ticks": ""
                      },
                      "bgcolor": "#E5ECF6",
                      "caxis": {
                        "gridcolor": "white",
                        "linecolor": "white",
                        "ticks": ""
                      }
                    },
                    "title": {
                      "x": 0.05
                    },
                    "xaxis": {
                      "automargin": true,
                      "gridcolor": "white",
                      "linecolor": "white",
                      "ticks": "",
                      "title": {
                        "standoff": 15
                      },
                      "zerolinecolor": "white",
                      "zerolinewidth": 2
                    },
                    "yaxis": {
                      "automargin": true,
                      "gridcolor": "white",
                      "linecolor": "white",
                      "ticks": "",
                      "title": {
                        "standoff": 15
                      },
                      "zerolinecolor": "white",
                      "zerolinewidth": 2
                    }
                  }
                },
                "xaxis": {
                  "anchor": "y",
                  "domain": [
                    0,
                    1
                  ],
                  "title": {
                    "text": "Gender"
                  }
                },
                "yaxis": {
                  "anchor": "x",
                  "domain": [
                    0,
                    1
                  ],
                  "title": {
                    "text": "Number of users"
                  }
                }
              }
            }
          },
          "metadata": {},
          "output_type": "display_data"
        }
      ],
      "source": [
        "px.bar(data_ftyirt, x=\"Gender\", y=\"Number of users\",color=\"Which social media network do they use?\")"
      ]
    },
    {
      "cell_type": "markdown",
      "metadata": {},
      "source": [
        "## -----------------------------------------------------------------------------------------------------"
      ]
    },
    {
      "cell_type": "code",
      "execution_count": null,
      "metadata": {},
      "outputs": [
        {
          "data": {
            "text/html": [
              "<div>\n",
              "<style scoped>\n",
              "    .dataframe tbody tr th:only-of-type {\n",
              "        vertical-align: middle;\n",
              "    }\n",
              "\n",
              "    .dataframe tbody tr th {\n",
              "        vertical-align: top;\n",
              "    }\n",
              "\n",
              "    .dataframe thead th {\n",
              "        text-align: right;\n",
              "    }\n",
              "</style>\n",
              "<table border=\"1\" class=\"dataframe\">\n",
              "  <thead>\n",
              "    <tr style=\"text-align: right;\">\n",
              "      <th></th>\n",
              "      <th>Hours spent on social media</th>\n",
              "      <th>Rate from 1 to 5</th>\n",
              "      <th>degree of sleep problem</th>\n",
              "    </tr>\n",
              "  </thead>\n",
              "  <tbody>\n",
              "    <tr>\n",
              "      <th>0</th>\n",
              "      <td>Between 1 and 2 hours</td>\n",
              "      <td>1</td>\n",
              "      <td>17</td>\n",
              "    </tr>\n",
              "    <tr>\n",
              "      <th>1</th>\n",
              "      <td>Between 1 and 2 hours</td>\n",
              "      <td>2</td>\n",
              "      <td>13</td>\n",
              "    </tr>\n",
              "    <tr>\n",
              "      <th>2</th>\n",
              "      <td>Between 1 and 2 hours</td>\n",
              "      <td>3</td>\n",
              "      <td>7</td>\n",
              "    </tr>\n",
              "    <tr>\n",
              "      <th>3</th>\n",
              "      <td>Between 1 and 2 hours</td>\n",
              "      <td>4</td>\n",
              "      <td>16</td>\n",
              "    </tr>\n",
              "    <tr>\n",
              "      <th>4</th>\n",
              "      <td>Between 1 and 2 hours</td>\n",
              "      <td>5</td>\n",
              "      <td>12</td>\n",
              "    </tr>\n",
              "    <tr>\n",
              "      <th>5</th>\n",
              "      <td>Between 2 and 3 hours</td>\n",
              "      <td>1</td>\n",
              "      <td>13</td>\n",
              "    </tr>\n",
              "    <tr>\n",
              "      <th>6</th>\n",
              "      <td>Between 2 and 3 hours</td>\n",
              "      <td>2</td>\n",
              "      <td>23</td>\n",
              "    </tr>\n",
              "    <tr>\n",
              "      <th>7</th>\n",
              "      <td>Between 2 and 3 hours</td>\n",
              "      <td>3</td>\n",
              "      <td>12</td>\n",
              "    </tr>\n",
              "    <tr>\n",
              "      <th>8</th>\n",
              "      <td>Between 2 and 3 hours</td>\n",
              "      <td>4</td>\n",
              "      <td>27</td>\n",
              "    </tr>\n",
              "    <tr>\n",
              "      <th>9</th>\n",
              "      <td>Between 2 and 3 hours</td>\n",
              "      <td>5</td>\n",
              "      <td>18</td>\n",
              "    </tr>\n",
              "    <tr>\n",
              "      <th>10</th>\n",
              "      <td>Between 3 and 4 hours</td>\n",
              "      <td>1</td>\n",
              "      <td>10</td>\n",
              "    </tr>\n",
              "    <tr>\n",
              "      <th>11</th>\n",
              "      <td>Between 3 and 4 hours</td>\n",
              "      <td>2</td>\n",
              "      <td>20</td>\n",
              "    </tr>\n",
              "    <tr>\n",
              "      <th>12</th>\n",
              "      <td>Between 3 and 4 hours</td>\n",
              "      <td>3</td>\n",
              "      <td>16</td>\n",
              "    </tr>\n",
              "    <tr>\n",
              "      <th>13</th>\n",
              "      <td>Between 3 and 4 hours</td>\n",
              "      <td>4</td>\n",
              "      <td>19</td>\n",
              "    </tr>\n",
              "    <tr>\n",
              "      <th>14</th>\n",
              "      <td>Between 3 and 4 hours</td>\n",
              "      <td>5</td>\n",
              "      <td>21</td>\n",
              "    </tr>\n",
              "    <tr>\n",
              "      <th>15</th>\n",
              "      <td>Between 4 and 5 hours</td>\n",
              "      <td>1</td>\n",
              "      <td>8</td>\n",
              "    </tr>\n",
              "    <tr>\n",
              "      <th>16</th>\n",
              "      <td>Between 4 and 5 hours</td>\n",
              "      <td>2</td>\n",
              "      <td>11</td>\n",
              "    </tr>\n",
              "    <tr>\n",
              "      <th>17</th>\n",
              "      <td>Between 4 and 5 hours</td>\n",
              "      <td>3</td>\n",
              "      <td>10</td>\n",
              "    </tr>\n",
              "    <tr>\n",
              "      <th>18</th>\n",
              "      <td>Between 4 and 5 hours</td>\n",
              "      <td>4</td>\n",
              "      <td>13</td>\n",
              "    </tr>\n",
              "    <tr>\n",
              "      <th>19</th>\n",
              "      <td>Between 4 and 5 hours</td>\n",
              "      <td>5</td>\n",
              "      <td>21</td>\n",
              "    </tr>\n",
              "    <tr>\n",
              "      <th>20</th>\n",
              "      <td>Less than an Hour</td>\n",
              "      <td>1</td>\n",
              "      <td>13</td>\n",
              "    </tr>\n",
              "    <tr>\n",
              "      <th>21</th>\n",
              "      <td>Less than an Hour</td>\n",
              "      <td>2</td>\n",
              "      <td>6</td>\n",
              "    </tr>\n",
              "    <tr>\n",
              "      <th>22</th>\n",
              "      <td>Less than an Hour</td>\n",
              "      <td>3</td>\n",
              "      <td>4</td>\n",
              "    </tr>\n",
              "    <tr>\n",
              "      <th>23</th>\n",
              "      <td>Less than an Hour</td>\n",
              "      <td>4</td>\n",
              "      <td>4</td>\n",
              "    </tr>\n",
              "    <tr>\n",
              "      <th>24</th>\n",
              "      <td>Less than an Hour</td>\n",
              "      <td>5</td>\n",
              "      <td>6</td>\n",
              "    </tr>\n",
              "    <tr>\n",
              "      <th>25</th>\n",
              "      <td>More than 5 hours</td>\n",
              "      <td>1</td>\n",
              "      <td>18</td>\n",
              "    </tr>\n",
              "    <tr>\n",
              "      <th>26</th>\n",
              "      <td>More than 5 hours</td>\n",
              "      <td>2</td>\n",
              "      <td>14</td>\n",
              "    </tr>\n",
              "    <tr>\n",
              "      <th>27</th>\n",
              "      <td>More than 5 hours</td>\n",
              "      <td>3</td>\n",
              "      <td>17</td>\n",
              "    </tr>\n",
              "    <tr>\n",
              "      <th>28</th>\n",
              "      <td>More than 5 hours</td>\n",
              "      <td>4</td>\n",
              "      <td>24</td>\n",
              "    </tr>\n",
              "    <tr>\n",
              "      <th>29</th>\n",
              "      <td>More than 5 hours</td>\n",
              "      <td>5</td>\n",
              "      <td>38</td>\n",
              "    </tr>\n",
              "  </tbody>\n",
              "</table>\n",
              "</div>"
            ],
            "text/plain": [
              "   Hours spent on social media  Rate from 1 to 5  degree of sleep problem\n",
              "0        Between 1 and 2 hours                 1                       17\n",
              "1        Between 1 and 2 hours                 2                       13\n",
              "2        Between 1 and 2 hours                 3                        7\n",
              "3        Between 1 and 2 hours                 4                       16\n",
              "4        Between 1 and 2 hours                 5                       12\n",
              "5        Between 2 and 3 hours                 1                       13\n",
              "6        Between 2 and 3 hours                 2                       23\n",
              "7        Between 2 and 3 hours                 3                       12\n",
              "8        Between 2 and 3 hours                 4                       27\n",
              "9        Between 2 and 3 hours                 5                       18\n",
              "10       Between 3 and 4 hours                 1                       10\n",
              "11       Between 3 and 4 hours                 2                       20\n",
              "12       Between 3 and 4 hours                 3                       16\n",
              "13       Between 3 and 4 hours                 4                       19\n",
              "14       Between 3 and 4 hours                 5                       21\n",
              "15       Between 4 and 5 hours                 1                        8\n",
              "16       Between 4 and 5 hours                 2                       11\n",
              "17       Between 4 and 5 hours                 3                       10\n",
              "18       Between 4 and 5 hours                 4                       13\n",
              "19       Between 4 and 5 hours                 5                       21\n",
              "20           Less than an Hour                 1                       13\n",
              "21           Less than an Hour                 2                        6\n",
              "22           Less than an Hour                 3                        4\n",
              "23           Less than an Hour                 4                        4\n",
              "24           Less than an Hour                 5                        6\n",
              "25           More than 5 hours                 1                       18\n",
              "26           More than 5 hours                 2                       14\n",
              "27           More than 5 hours                 3                       17\n",
              "28           More than 5 hours                 4                       24\n",
              "29           More than 5 hours                 5                       38"
            ]
          },
          "execution_count": 163,
          "metadata": {},
          "output_type": "execute_result"
        }
      ],
      "source": [
        "data_stime =  data.groupby(['8. What is the average time you spend on social media every day?',\"20. On a scale of 1 to 5, how often do you face issues regarding sleep?\"])[['Timestamp']].count().reset_index().rename(columns={'Timestamp':\"degree of sleep problem\"}).rename(columns={'8. What is the average time you spend on social media every day?':\"Hours spent on social media\"}).rename(columns={'20. On a scale of 1 to 5, how often do you face issues regarding sleep?':\"Rate from 1 to 5\"})\n",
        "data_stime"
      ]
    },
    {
      "cell_type": "code",
      "execution_count": null,
      "metadata": {},
      "outputs": [
        {
          "data": {
            "text/plain": [
              "<AxesSubplot:xlabel='Hours spent on social media', ylabel='degree of sleep problem'>"
            ]
          },
          "execution_count": 170,
          "metadata": {},
          "output_type": "execute_result"
        },
        {
          "data": {
            "image/png": "[encoded data removed]",
            "text/plain": [
              "<Figure size 2000x1600 with 1 Axes>"
            ]
          },
          "metadata": {},
          "output_type": "display_data"
        }
      ],
      "source": [
        "plt.figure(figsize=(20,16))\n",
        "sns.barplot(data = data_stime, x=\"Hours spent on social media\", y=\"degree of sleep problem\",hue=\"Rate from 1 to 5\")"
      ]
    }
  ],
  "metadata": {
    "colab": {
      "provenance": []
    },
    "kernelspec": {
      "display_name": "Python 3",
      "name": "python3"
    },
    "language_info": {
      "codemirror_mode": {
        "name": "ipython",
        "version": 3
      },
      "file_extension": ".py",
      "mimetype": "text/x-python",
      "name": "python",
      "nbconvert_exporter": "python",
      "pygments_lexer": "ipython3",
      "version": "3.9.13"
    }
  },
  "nbformat": 4,
  "nbformat_minor": 0
}
